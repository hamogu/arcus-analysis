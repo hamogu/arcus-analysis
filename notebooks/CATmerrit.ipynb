{
 "cells": [
  {
   "cell_type": "code",
   "execution_count": null,
   "metadata": {
    "collapsed": true
   },
   "outputs": [],
   "source": [
    "from __future__ import print_function"
   ]
  },
  {
   "cell_type": "code",
   "execution_count": null,
   "metadata": {},
   "outputs": [],
   "source": [
    "from nbtemplate import display_header, display_codetoggle, get_path\n",
    "display_header('CATmerrit.ipynb', status='proposal version')"
   ]
  },
  {
   "cell_type": "markdown",
   "metadata": {},
   "source": [
    "# Figure of merit for CAT gratings\n",
    "\n",
    "In this Jupyter notebook, I show the effective area and resolution we can expect for ARCUS with CAT gratings. \n",
    "\n",
    "### What's in this document and what is not\n",
    "This document contains mostly results of simulations, not the code itself because many of the plots below require a grid of simulations, e.g. in for different energies, and take while to run. Thus, those grids are run in a separate process and the relevant results (e.g. the position of the final rays on the detector) is saved in a fits file. In this notebook we then parse these fits files to extract the relevant information.\n",
    "\n",
    "### How to read this document\n",
    "This notebook is a format that displays code, plots and other output on the same html page. You can just looks that the plots (some of them are interactive and allow zoming - look for small icons that appear when you mouse cursor is above it) and my explanatory text.\n",
    "\n",
    "Use the \"toggle on/off raw code\" button below to display the code to inspect in detail how the plots are made. Please let me know if you find any error or omissions. The plotting and simulations are done in Python but even if you do not use that language, you can probably see which columns or rows of the fits data files I compare in plots.\n",
    "\n",
    "## What's included in the simulations?\n",
    "Details of the setup for the simulations are obviously defined in the python code, but a list of the most important effects that are included is here:\n",
    "\n",
    "- On-axis, point-like source\n",
    "- Spacecraft pointing with jitter\n",
    "- Mirror with in-plane and out-of-plane scatter\n",
    "- two optical axes, each of them used by one pair of channels\n",
    "- One rectangular aperture per channel (more details of the SPO size coming later)\n",
    "- 30 mm * 30 mm grating facets on a rectangular grid with 2 mm wide holdign structures in between\n",
    "- facets are flat (i.e. simulation includes finite size effects)\n",
    "- CCDs are flat and have pixels\n",
    "- CCD gaps between individual chips."
   ]
  },
  {
   "cell_type": "code",
   "execution_count": null,
   "metadata": {},
   "outputs": [],
   "source": [
    "import os\n",
    "import sys\n",
    "from glob import glob\n",
    "import functools\n",
    "\n",
    "import numpy as np\n",
    "import matplotlib.pyplot as plt\n",
    "import matplotlib as mpl\n",
    "\n",
    "%matplotlib inline\n",
    "\n",
    "import astropy\n",
    "import astropy.coordinates\n",
    "from astropy.table import Table, Column\n",
    "import astropy.units as u\n",
    "\n",
    "from astropy.visualization import astropy_mpl_style\n",
    "plt.style.use(astropy_mpl_style)\n"
   ]
  },
  {
   "cell_type": "code",
   "execution_count": null,
   "metadata": {
    "collapsed": true
   },
   "outputs": [],
   "source": [
    "from cycler import cycler"
   ]
  },
  {
   "cell_type": "code",
   "execution_count": null,
   "metadata": {
    "collapsed": true
   },
   "outputs": [],
   "source": [
    "import marxs\n",
    "from marxs.source import PointSource, FixedPointing\n",
    "import arcus\n",
    "import arcus.arcus as instrum"
   ]
  },
  {
   "cell_type": "code",
   "execution_count": null,
   "metadata": {
    "collapsed": true
   },
   "outputs": [],
   "source": [
    "import mpld3\n",
    "#mpld3.disable_notebook()"
   ]
  },
  {
   "cell_type": "code",
   "execution_count": null,
   "metadata": {},
   "outputs": [],
   "source": [
    "rayfiles = glob(os.path.join(get_path('raygrid'), '*.fits'))\n",
    "rayfiles.sort()"
   ]
  },
  {
   "cell_type": "code",
   "execution_count": null,
   "metadata": {
    "collapsed": true
   },
   "outputs": [],
   "source": [
    "allrays = [Table.read(f) for f in rayfiles]"
   ]
  },
  {
   "cell_type": "code",
   "execution_count": null,
   "metadata": {},
   "outputs": [],
   "source": [
    "r0 = allrays[0]\n",
    "print('Files were written with')\n",
    "print('MARXS version', r0.meta['MARXSVER'])\n",
    "print('ARCUS version', r0.meta['ARCUSVER'])\n",
    "print('ARCUS inpudata git hash', r0.meta['ARCDATHA'])\n",
    "print('NOTE THAT THESE VERSIONS CAN BE DIFFERENT FROM THE LAST TIME THE NOTEBOOK WAS RUN')\n",
    "\n",
    "for r in allrays:\n",
    "    if not ((r0.meta['MARXSVER'] == r.meta['MARXSVER']) and (r0.meta['ARCUSVER'] == r.meta['ARCUSVER']) and \n",
    "            (r0.meta['ARCDATHA'] == r.meta['ARCDATHA'])):\n",
    "        raise Exception('Data inconsistent')"
   ]
  },
  {
   "cell_type": "code",
   "execution_count": null,
   "metadata": {
    "collapsed": true
   },
   "outputs": [],
   "source": [
    "# Each file is for a single energy\n",
    "wave = np.array([(t['energy'][0] * u.keV).to(u.Angstrom, equivalencies=u.spectral()).value for t in allrays])"
   ]
  },
  {
   "cell_type": "code",
   "execution_count": null,
   "metadata": {
    "collapsed": true
   },
   "outputs": [],
   "source": [
    "def fractional_aeff(photons, orders, filterfunc=None, col='order'):\n",
    "    '''Calculate the fraction of photons that are detected in a specific order\n",
    "    \n",
    "    While written for calculating Aeff per order, this can be used with any discrete\n",
    "    quantity, e.g. Aeff per CCD.\n",
    "    \n",
    "    Parameters\n",
    "    ----------\n",
    "    photons : `astropy.table.Table`\n",
    "        Photon event list\n",
    "    orders : np.array\n",
    "        Orders for w\n",
    "    filterfunc : callable or ``None``\n",
    "        If not ``None``, a function that takes the photon table and returns an\n",
    "        index array. This can be used, e.g. filter out photons that hit particular CCDs or\n",
    "        hot columns.\n",
    "    col : string\n",
    "        Column name for the order column.\n",
    "        \n",
    "    Returns\n",
    "    -------\n",
    "    prop : np.array\n",
    "        Probability for a photon in a specific order to be detected.\n",
    "    '''\n",
    "    prob = np.zeros_like(orders, dtype=float)\n",
    "    for i, o in enumerate(orders):\n",
    "        ind = (photons[col] == o)\n",
    "        if filterfunc is not None:\n",
    "            ind = ind & filterfunc(photons)\n",
    "        prob[i] = np.sum(photons['probability'][ind]) / len(photons)\n",
    "    return prob"
   ]
  },
  {
   "cell_type": "markdown",
   "metadata": {},
   "source": [
    "## Effective area"
   ]
  },
  {
   "cell_type": "code",
   "execution_count": null,
   "metadata": {
    "collapsed": true
   },
   "outputs": [],
   "source": [
    "orders = np.arange(-10, 1)\n",
    "photonfilter = lambda p: np.isfinite(p['probability']) & (p['CCD_ID'] >=0)\n",
    "aeff = np.array([fractional_aeff(p, orders, filterfunc=photonfilter) for p in allrays])"
   ]
  },
  {
   "cell_type": "code",
   "execution_count": null,
   "metadata": {},
   "outputs": [],
   "source": [
    "outtab = Table(aeff, names = ['order_{0}'.format(o) for o in orders])\n",
    "outtab.add_column(Column(name='wave', data=wave), index=0)\n",
    "outtab['wave'].unit = u.Angstrom\n",
    "outtab.write(os.path.join(get_path('figures'), 'Aeff.csv'), format='ascii.csv')#, overwrite=True)"
   ]
  },
  {
   "cell_type": "code",
   "execution_count": null,
   "metadata": {
    "collapsed": true
   },
   "outputs": [],
   "source": [
    "# In principle, the absolute area is an input to the ray-trace and that infomation is already availble\n",
    "# in the ray files.\n",
    "# However, I chose to normalize all that to 1 cm^2 and multiply with this factor here, because that makes\n",
    "# it easier to change the number if I need new plots for an updated design later.\n",
    "Ageometric = 1428.48 * 2"
   ]
  },
  {
   "cell_type": "code",
   "execution_count": null,
   "metadata": {
    "collapsed": true
   },
   "outputs": [],
   "source": [
    "#colorcycle = ['#348ABD', '#7A68A6', '#A60628', '#467821', '#CF4457', '#188487', '#E24A33']\n",
    "\n",
    "def plot_aeff(aeff, ax=None):\n",
    "    if ax is None:\n",
    "        fig = plt.figure()\n",
    "        ax = fig.add_subplot(111)\n",
    "\n",
    "    for i in np.arange(3, 10): #, colorcycle):\n",
    "        ax.plot(wave, aeff[:, i] * Ageometric * 2, label='order {0}'.format(orders[i]))\n",
    "    ax.plot(wave, aeff[:, -1] * Ageometric * 2, 'k:', label='0th order')\n",
    "    ax.plot(wave, np.sum(aeff[:, :-1], axis=1) * Ageometric * 2, 'k', label='all dispersed\\norders')\n",
    "\n",
    "    ax.legend()\n",
    "    ax.set_xlabel('wavelength [$\\AA{}$]')\n",
    "    ax.set_ylabel('$A_\\mathrm{eff}$ [cm$^2]$')\n",
    "    temp = ax.set_xlim([8, 55])\n",
    "    return ax"
   ]
  },
  {
   "cell_type": "code",
   "execution_count": null,
   "metadata": {
    "scrolled": false
   },
   "outputs": [],
   "source": [
    "with mpl.style.context('fivethirtyeight'):\n",
    "    plt.rc('axes', prop_cycle=(cycler('linestyle', ['-', '--', ':']) * \n",
    "                           cycler('color', ['r', 'b', 'y', 'c', 'g', 'm', '#7A68A6', '#188487', '#E24A33'])))\n",
    "    # Do the same plot but split up by energy ranges\n",
    "    fig = plt.figure(figsize=(8, 6))\n",
    "    ax = fig.add_subplot(111)\n",
    "    plot_aeff(aeff, ax)\n",
    "    ax.set_title('Effective area for many CCDs')\n",
    "    fig.subplots_adjust(bottom=0.13, left=0.13, top=.85)\n",
    "    fig.savefig(os.path.join(get_path('figures'), 'Aeff_16CCDs.png'))\n",
    "    fig.savefig(os.path.join(get_path('figures'), 'Aeff_16CCDs.pdf'))"
   ]
  },
  {
   "cell_type": "markdown",
   "metadata": {},
   "source": [
    "Effective area curve for ARCUS setup. This curve assumes that we can place as many CCD detectors as we would like in the focal plane. There are CCD gaps, but the number of CCDs required to catch all possible photons in all orders is too high to be practical. In the next few code cells and plots I explore the trade-offs in selecting only a subset (16) CCDs in the focal plane. Some weak orders will be lost as seen below. First, add up all photons that hit a particular CCDs. This tells us which CCDs out of the large number are receiving the most signal and we will select the 16 CCDs with the largest number of photons as the CCD locations wehre we actually place physical hardware on the spacecraft."
   ]
  },
  {
   "cell_type": "code",
   "execution_count": null,
   "metadata": {
    "collapsed": true
   },
   "outputs": [],
   "source": [
    "orders = np.arange(-10, 1)\n",
    "photonfilter = lambda p: np.isfinite(p['probability']) & (p['facet'] < 2000)\n",
    "photonfilterm = lambda p: np.isfinite(p['probability']) & (p['facet'] >= 2000)\n",
    "\n",
    "id_ccd = np.arange(0, 90)\n",
    "n_ccd = np.array([fractional_aeff(p, id_ccd, filterfunc=photonfilter, col='CCD_ID') for p in allrays])\n",
    "n_ccdm = np.array([fractional_aeff(p, id_ccd, filterfunc=photonfilterm, col='CCD_ID') for p in allrays])"
   ]
  },
  {
   "cell_type": "code",
   "execution_count": null,
   "metadata": {},
   "outputs": [],
   "source": [
    "plt.plot(id_ccd, n_ccd.sum(axis=0))\n",
    "plt.plot(id_ccd, n_ccdm.sum(axis=0))\n",
    "\n",
    "#plt.xlim([0, 15])\n",
    "plt.xlabel('CCD number')\n",
    "plt.ylabel('relative count number per CCD (all orders)')"
   ]
  },
  {
   "cell_type": "markdown",
   "metadata": {},
   "source": [
    "In a CAT grating, photons are predominatly diffracted into orders that are located at roughly twice the blaze angle. However, other orders also receive some signal. For one configuration of CCD detectors placed on a Rowland Circle, this figure shows the total number of photons that each detector will see (assuming a flat input spectrum). The two lines show the number of photons for different pairs of channels, because each pair of channels has their own optical axis.\n",
    "\n",
    "For the blue line, the zeroth order is located on CCD 40, most of the diffrected signal is seen in CCDs 20-30.\n",
    "From this plot, we can determine which are the 16 CCDs that get the most signal and then realize that configuration in the ARCUS hardware."
   ]
  },
  {
   "cell_type": "code",
   "execution_count": null,
   "metadata": {},
   "outputs": [],
   "source": [
    "with mpl.style.context('fivethirtyeight'):\n",
    "    # Do the same plot but split up by energy ranges\n",
    "    fig = plt.figure(figsize=(6, 4))\n",
    "    ax = fig.add_subplot(111)\n",
    "    n = 12\n",
    "    for i in range(84/n):\n",
    "        ax.plot(id_ccd, n_ccd[i*n:(i+1)*n:].sum(axis=0), label=wave[i*n+n/2])\n",
    "\n",
    "    ax.set_xlim([10, 50])\n",
    "    ax.set_xlabel('CCD number')\n",
    "    ax.set_ylabel('flux per CCD (all orders)')\n",
    "    ax.legend(title='wave [$\\AA$]')\n",
    "    fig.subplots_adjust(bottom=0.17, left=0.17, top=.90)\n",
    "    fig.savefig(os.path.join(get_path('figures'), 'fluxperCCD.png'))\n",
    "    fig.savefig(os.path.join(get_path('figures'), 'fluxperCCD.pdf'))"
   ]
  },
  {
   "cell_type": "markdown",
   "metadata": {},
   "source": [
    "This is a plot looks in a little more details which CCDs are imporant. It takes the blue line in the plot above this one and splits the detected photons up in wavelength bins. Short wavelength are found mostly close to the zeroth order location (around CCD 40), all of the longer wavelengths concentrate on CCDs around 25.\n",
    "\n",
    "(The red line on the plot above this one could be split up in the same fashing. The result would look very similar, just mirrored.)"
   ]
  },
  {
   "cell_type": "code",
   "execution_count": null,
   "metadata": {},
   "outputs": [],
   "source": [
    "# Find the top 16 CCDs by count number\n",
    "counts_all_channels = np.sum(n_ccd + n_ccdm, axis=0)\n",
    "topccdids = np.argsort(counts_all_channels)[-16:]\n",
    "topccdids.sort()\n",
    "topccdids"
   ]
  },
  {
   "cell_type": "code",
   "execution_count": null,
   "metadata": {
    "collapsed": true
   },
   "outputs": [],
   "source": [
    "# Now, shift one of the channels by hand:\n",
    "# topccdids = np.array([22,23,24,25,26,27,28,29,36,37,38,39,40,41,42,43])"
   ]
  },
  {
   "cell_type": "code",
   "execution_count": null,
   "metadata": {},
   "outputs": [],
   "source": [
    "arcus.arcus.det.distribute_elements_on_arc()[topccdids][[0, 7, 8, -1]]"
   ]
  },
  {
   "cell_type": "code",
   "execution_count": null,
   "metadata": {
    "collapsed": true
   },
   "outputs": [],
   "source": [
    "# Idea: Add plot from above (infinite number of CCDs) e.g. in dashed (remove 0th order from plot)\n",
    "# or with lower opacity\n",
    "# That would enable an easier comparison\n",
    "\n",
    "def photonfilter_general(photons, topccdids):\n",
    "    ind = np.zeros(len(photons), dtype=bool)\n",
    "    for i in topccdids:\n",
    "        ind = ind | (photons['CCD_ID'] == i)\n",
    "    return ind & np.isfinite(photons['probability'])\n",
    "\n",
    "photonfiltertopccds = functools.partial(photonfilter_general, topccdids=topccdids)\n",
    "\n",
    "aeff_16ccd = np.array([fractional_aeff(p, orders, filterfunc=photonfiltertopccds) for p in allrays])\n",
    "\n",
    "with mpl.style.context('fivethirtyeight'):\n",
    "    plt.rc('axes', prop_cycle=(cycler('linestyle', ['-', '--', ':']) * \n",
    "                           cycler('color', ['r', 'b', 'y', 'c', 'g', 'm', '#7A68A6', '#188487', '#E24A33'])))\n",
    "    # Do the same plot but split up by energy ranges\n",
    "    fig = plt.figure(figsize=(8, 6))\n",
    "    ax = fig.add_subplot(111)\n",
    "    plot_aeff(aeff_16ccd, ax)\n",
    "    ax.set_title('Effective area for 16 CCDs')\n",
    "    fig.subplots_adjust(bottom=0.13, left=0.13, top=.85)\n",
    "    fig.savefig(os.path.join(get_path('figures'), 'Aeff_16CCDs.png'))\n",
    "    fig.savefig(os.path.join(get_path('figures'), 'Aeff_16CCDs.pdf'))"
   ]
  },
  {
   "cell_type": "code",
   "execution_count": null,
   "metadata": {
    "collapsed": true
   },
   "outputs": [],
   "source": [
    "outtab = Table(aeff_16ccd, names = ['order_{0}'.format(o) for o in orders])\n",
    "outtab.add_column(Column(name='wave', data=wave), index=0)\n",
    "outtab['wave'].unit = u.Angstrom\n",
    "outtab.write(os.path.join(get_path('figures'), 'Aeff_16CCDs.csv'), format='ascii.csv')#, overwrite=True)"
   ]
  },
  {
   "cell_type": "markdown",
   "metadata": {},
   "source": [
    "Effective areas assuming that ARCUS contains the 16 CCDs the cover the largest number of photos as determined from the last plot. Steps appear in the total effective area curve, when an order moved beyond the area covered with chips (e.g. order -4 at 38 Ang). Gaps indicate an order that hits a chip gap. In reality there will be more chip gaps, but the limited resolution of the simulations (wavelength grid as 1 Ang wide steps) not all of them are seen here."
   ]
  },
  {
   "cell_type": "code",
   "execution_count": null,
   "metadata": {
    "collapsed": true
   },
   "outputs": [],
   "source": [
    "plt.imshow((n_ccd + n_ccdm) * Ageometric, interpolation='none',\n",
    "          extent=( 0, len(counts_all_channels), wave[-1], wave[0]), aspect='auto')\n",
    "plt.ylabel('wavelength [$\\AA{}$]')\n",
    "plt.xlabel('CCD number')\n",
    "colbar = plt.colorbar(label='$A_{eff}$ collected on each chip [cm$^2$]')"
   ]
  },
  {
   "cell_type": "markdown",
   "metadata": {},
   "source": [
    "This is another way of showing which CCDs are detecting the most signal. As in the plot above, the CCD ID number is shown on the x-axis, but instead of summing the signal over all wavelengths, it's shown here for each wavelength. \n",
    "There are two pairs of channels, so everything is mirrored at about CCD ID 32 or so. The figure shows roughly diagonal strips. As the wavelength increases from the top towards the bottom of the plot, a particular grating order gets dispersed to larger angles, causing the strip to move outward. As the order moves away from the preferred angle, it gets wekaer and weaker and more photons are found in the next lower order, which can be seen as a next line appearing. For most wavelength the signal is concentated in one or two orders for each wavelength."
   ]
  },
  {
   "cell_type": "code",
   "execution_count": null,
   "metadata": {
    "collapsed": true
   },
   "outputs": [],
   "source": [
    "plt.imshow(((n_ccd + n_ccdm) * Ageometric)[20:40, :], interpolation='none',\n",
    "          extent=(0, 83, wave[40], wave[20]), aspect='auto')\n",
    "plt.ylabel('wavelength [$\\AA{}$]')\n",
    "plt.xlabel('CCD number')\n",
    "colbar = plt.colorbar(label='$A_{eff}$ collected on each chip [cm$^2$]')"
   ]
  },
  {
   "cell_type": "code",
   "execution_count": null,
   "metadata": {
    "collapsed": true
   },
   "outputs": [],
   "source": [
    "plt.imshow(((n_ccd + n_ccdm) * Ageometric)[50:70, :], interpolation='none',\n",
    "          extent=(0, 83, wave[70], wave[45]), aspect='auto')\n",
    "plt.ylabel('wavelength [$\\AA{}$]')\n",
    "plt.xlabel('CCD number')\n",
    "colbar = plt.colorbar(label='$A_{eff}$ collected on each chip [cm$^2$]')"
   ]
  },
  {
   "cell_type": "code",
   "execution_count": null,
   "metadata": {
    "collapsed": true
   },
   "outputs": [],
   "source": [
    "plt.imshow((n_ccd + n_ccdm) * Ageometric, interpolation='none', aspect='auto')\n",
    "plt.ylabel('wavelength [$\\AA{}$]')\n",
    "plt.xlabel('CCD number')\n",
    "colbar = plt.colorbar(label='$A_{eff}$ collected on each chip [cm$^2$]')"
   ]
  },
  {
   "cell_type": "markdown",
   "metadata": {},
   "source": [
    "### Moving CCDs around\n",
    "In the plot above we looked at which CCDs are most imporant out of a large number of fixed CCDs. However, one could imagine that the effective area actually becomes slighyl better by moving those CCDs just a little, e.g. a few mm to the left of right. This optimization is explored next.\n",
    "\n",
    "I explore this in two steps, because there are two sets of 8 CCDs in the focal plane. First, I'll move one set of 8 CCDs and then the other."
   ]
  },
  {
   "cell_type": "code",
   "execution_count": null,
   "metadata": {
    "collapsed": true
   },
   "outputs": [],
   "source": [
    "def Aeff_with_16ccds(theta1, theta2, allrays, id_col='ccd16'):\n",
    "    '''\n",
    "    Parameters\n",
    "    ----------\n",
    "    theta1, theta2 : float\n",
    "        position (in radian) of the centers of the first CCD detectors in each group of 8.\n",
    "    '''\n",
    "    elem_args = instrum.detccdargs.copy()\n",
    "    elem_args['id_col'] = id_col\n",
    "    photonfilter = lambda p: np.isfinite(p['probability']) & (p[id_col] >=0)\n",
    "    det = marxs.design.RowlandCircleArray(rowland=instrum.rowland_central,\n",
    "                                          elem_class=marxs.optics.FlatDetector,\n",
    "                                          elem_args=elem_args, d_element=49.652,\n",
    "                                          theta=[theta1, theta1 + 0.059, theta2, theta2 + 0.059])\n",
    "    assert len(det.elements) == 16\n",
    "    # Check if the id_col in question already exists and if so, set to -1\n",
    "    for p in allrays:\n",
    "        if id_col in p.colnames:\n",
    "            p[id_col] = -1\n",
    "    return np.array([fractional_aeff(det(p), orders, filterfunc=photonfilter) for p in allrays]), det"
   ]
  },
  {
   "cell_type": "code",
   "execution_count": null,
   "metadata": {
    "collapsed": true
   },
   "outputs": [],
   "source": [
    "# Find the theta angles of the topccd detector distribution.\n",
    "# We can shift by -1..1 CCD length, but we know that shifts larger than that are alreay ruled out.\n",
    "autoang = instrum.det.distribute_elements_on_arc()[topccdids]"
   ]
  },
  {
   "cell_type": "code",
   "execution_count": null,
   "metadata": {
    "collapsed": true
   },
   "outputs": [],
   "source": [
    "autoang[0], autoang[8]"
   ]
  },
  {
   "cell_type": "code",
   "execution_count": null,
   "metadata": {
    "collapsed": true
   },
   "outputs": [],
   "source": [
    "yshift = np.arange(-0.02, +0.01, 0.001)\n",
    "aeffs16_1 = [ Aeff_with_16ccds(autoang[0] + x, autoang[8], allrays) for x in  yshift]"
   ]
  },
  {
   "cell_type": "code",
   "execution_count": null,
   "metadata": {
    "collapsed": true
   },
   "outputs": [],
   "source": [
    "fig = plt.figure(figsize=(12, 8))\n",
    "ax = fig.add_subplot(111)\n",
    "for i in range(11,17):\n",
    "    ae = aeffs16_1[i]\n",
    "    ax.plot(wave, \n",
    "            # Lines lying directly on top of each other are hard to see, so\n",
    "            # add a little random offset to the y values.\n",
    "            np.sum(ae[0][:, :-1], axis=1) * Ageometric * 2 + np.random.rand(len(wave))*5,\n",
    "            label='{0:5.3f}'.format(yshift[i]))\n",
    "    \n",
    "ax.plot(wave, np.sum(aeff_16ccd[:, :-1], axis=1) * Ageometric * 2, '0.4', ls='solid', lw=10,\n",
    "        alpha=.5, label='default')    \n",
    "ax.legend(loc='upper right')\n",
    "#ax.set_xlim([22, 31])\n",
    "ax.set_xlabel('wavelength [$\\AA{}$]')\n",
    "ax.set_ylabel('$A_{eff}$ [cm$^2]$')\n",
    "#ax.set_ylim([400, 600])\n",
    "temp = ax.set_title('Moving the first set of CCDs')\n",
    "mpld3.display(fig)"
   ]
  },
  {
   "cell_type": "code",
   "execution_count": null,
   "metadata": {
    "collapsed": true
   },
   "outputs": [],
   "source": [
    "aeffs16_2 = [ Aeff_with_16ccds(autoang[0], autoang[8] + x, allrays) for x in yshift ]"
   ]
  },
  {
   "cell_type": "code",
   "execution_count": null,
   "metadata": {
    "collapsed": true
   },
   "outputs": [],
   "source": [
    "fig = plt.figure(figsize=(12, 8))\n",
    "ax = fig.add_subplot(111)\n",
    "for i in range(10, len(aeffs16_2)):\n",
    "    ae = aeffs16_2[i]\n",
    "    ax.plot(wave, \n",
    "            # Lines lying directly on top of each other are hard to see, so\n",
    "            # add a little random offset to the y values.\n",
    "            np.sum(ae[0][:, :-1], axis=1) * Ageometric * 2 + np.random.rand(len(wave))*5,\n",
    "            label='{0:5.3f}'.format(yshift[i]))\n",
    "\n",
    "ax.plot(wave, np.sum(aeff_16ccd[:, :-1], axis=1) * Ageometric * 2, '0.4', ls='solid', lw=10,\n",
    "        alpha=.5, label='default') \n",
    "ax.legend(loc='upper right')\n",
    "#ax.set_xlim([22, 31])\n",
    "ax.set_xlabel('wavelength [$\\AA{}$]')\n",
    "ax.set_ylabel('$A_{eff}$ [cm$^2]$')\n",
    "#ax.set_ylim([400, 600])\n",
    "ax.set_title('Moving the second set of CCDs')\n",
    "mpld3.display(fig)"
   ]
  },
  {
   "cell_type": "markdown",
   "metadata": {},
   "source": [
    "Looking ot the two plots above, there are two separate effects to be seen:\n",
    "\n",
    "- Chip gaps: These are unavoidable, but as stated above it is possible that they appear to be absent for some of the simulations because the wavelength grid is too rough rought now. Thus, lines that seem very similar except for a few sudden drops are probably just that - very similar.\n",
    "- Large structure: The blaze peak is so wide that it is well covered by a set of 8 CCDs. Moving these by just a little (+- half a CCD) only changes the number of rays detected at the edges and that has only a very small effect of the total effective area.\n",
    "\n",
    "In summary, I can say that optimization of the chip placement on a scale smaller than one chip size (about 50 mm) do not make much of a difference at this point."
   ]
  },
  {
   "cell_type": "markdown",
   "metadata": {},
   "source": [
    "## Spectral resolving power\n",
    "\n",
    "I define the resolving power as:\n",
    "$R = \\frac{\\lambda}{\\Delta \\lambda} = \\frac{d_x}{FWMH}$\n",
    "where $\\lambda$ is the wavelength of a spectral line with negligible intrinsic\n",
    "width, and $\\Delta \\lambda$ is the observed width of this feature. Since the\n",
    "detector does not give the wavelength directly, $d_x$ and the $FWHM$ are linear\n",
    "distances measured along a curved detector that follows the Rowland circle. The $FWMH$ is the full width at\n",
    "half maximum of the event distribution and $d_x$ is the distance between\n",
    "the center of a diffracted order and the zeroth order."
   ]
  },
  {
   "cell_type": "code",
   "execution_count": null,
   "metadata": {
    "collapsed": true
   },
   "outputs": [],
   "source": [
    "from astropy.stats import sigma_clipped_stats\n",
    "\n",
    "def resolving_power(photons, orders, filterfunc=None, col='proj_x', zeropos=None):\n",
    "    '''Calculate the resolution in a specific order\n",
    "    \n",
    "    If fewer than 20 photons are detected in a single order, this function returns\n",
    "    nan values.\n",
    "        \n",
    "    Parameters\n",
    "    ----------\n",
    "    photons : `astropy.table.Table`\n",
    "        Photon event list\n",
    "    orders : np.array\n",
    "        Orders for w\n",
    "    filterfunc : callable or ``None``\n",
    "        If not ``None``, a function that takes the photon table and returns an\n",
    "        index array. This can be used, e.g. filter out photons that hit particular CCDs or\n",
    "        hot columns.\n",
    "    col : string\n",
    "        Column name for the column holding the dispersion coordinate.\n",
    "    zeropos : float or ``None``\n",
    "        Value of column `col` where the zeroth order is found. If not given, this is \n",
    "        calculated (assuming the zeroth order photons are part of the event list).\n",
    "        \n",
    "    Returns\n",
    "    -------\n",
    "    prop : np.array\n",
    "        Probability for a photon in a specific order to be detected.\n",
    "    '''\n",
    "    if zeropos is None:\n",
    "        ind = (photons['order'] == 0)\n",
    "        if filterfunc is not None:\n",
    "            ind = ind & filterfunc(photons)\n",
    "        zeropos, medzeropos, stdzero = sigma_clipped_stats(photons[col][ind])\n",
    "\n",
    "    pos = np.zeros_like(orders, dtype=float)\n",
    "    std = np.zeros_like(orders, dtype=float)\n",
    "    \n",
    "    for i, o in enumerate(orders):\n",
    "        ind = (photons['order'] == o)\n",
    "        if filterfunc is not None:\n",
    "            ind = ind & filterfunc(photons)\n",
    "\n",
    "        if ind.sum() > 20:\n",
    "            meanpos, medianpos, stdpos = sigma_clipped_stats(photons[col][ind])\n",
    "        else:\n",
    "            meanpos, stdpos = np.nan, np.nan\n",
    "        pos[i] = meanpos\n",
    "        std[i] = stdpos\n",
    "    res = np.abs(pos - zeropos) / (std * 2.3548)\n",
    "    return res, pos, std"
   ]
  },
  {
   "cell_type": "code",
   "execution_count": null,
   "metadata": {
    "collapsed": true
   },
   "outputs": [],
   "source": [
    "# Split the two pairs of channels, because they have different zero order positions.\n",
    "allrays1 = [p[p['facet'] < 2000] for p in allrays]\n",
    "allrays2 = [p[p['facet'] >= 2000] for p in allrays]"
   ]
  },
  {
   "cell_type": "code",
   "execution_count": null,
   "metadata": {
    "collapsed": true
   },
   "outputs": [],
   "source": [
    "photonfilter = lambda p: np.isfinite(p['probability']) & (p['CCD_ID'] >=0)\n",
    "res = np.array([resolving_power(p, orders, filterfunc=photonfilter, zeropos=0) for p in allrays1])"
   ]
  },
  {
   "cell_type": "code",
   "execution_count": null,
   "metadata": {
    "collapsed": true
   },
   "outputs": [],
   "source": [
    "outtab = Table(res[:, 0, :], names = ['order_{0}'.format(o) for o in orders])\n",
    "outtab.add_column(Column(name='wave', data=wave), index=0)\n",
    "outtab['wave'].unit = u.Angstrom\n",
    "outtab.write(os.path.join(get_path('figures'), 'Resolvingpower.csv'), format='ascii.csv') #, overwrite=True)"
   ]
  },
  {
   "cell_type": "code",
   "execution_count": null,
   "metadata": {
    "collapsed": true
   },
   "outputs": [],
   "source": [
    "def plot_res(res, ax=None):\n",
    "    if ax is None:\n",
    "        fig = plt.figure()\n",
    "        ax = fig.add_subplot(111)\n",
    "\n",
    "    for i in np.arange(3, 10):\n",
    "        ax.plot(wave, res[:, 0, i], label='order {0}'.format(orders[i]))\n",
    "    ax.legend()\n",
    "    ax.set_xlabel('wavelength [$\\AA{}$]')\n",
    "    ax.set_ylabel('resolving power')\n",
    "    temp = ax.set_xlim([8, 55])\n",
    "    return ax"
   ]
  },
  {
   "cell_type": "code",
   "execution_count": null,
   "metadata": {
    "collapsed": true
   },
   "outputs": [],
   "source": [
    "res_ma = np.ma.masked_invalid(res)"
   ]
  },
  {
   "cell_type": "code",
   "execution_count": null,
   "metadata": {
    "collapsed": true
   },
   "outputs": [],
   "source": [
    "with mpl.style.context('fivethirtyeight'):\n",
    "    plt.rc('axes', prop_cycle=(cycler('linestyle', ['-', '--', ':']) * \n",
    "                               cycler('color', ['r', 'b', 'y', 'c', 'g', 'm', '#7A68A6', '#188487', '#E24A33'])))\n",
    "\n",
    "    fig = plt.figure()\n",
    "    ax = fig.add_subplot(111)\n",
    "    ax = plot_res(res, ax)\n",
    "    temp = ax.set_title('Spectral resolving power')\n",
    "    #ax.plot(wave, np.ma.average(res_ma[:, 0, :-1], weights=aeff[:, :-1], axis=1), 'k:')\n",
    "    ax.set_xlabel('wavelength [$\\AA{}$]')\n",
    "    ax.set_ylabel('resolving power')\n",
    "    fig.subplots_adjust(bottom=0.13, left=0.13, top=.85)\n",
    "    fig.savefig(os.path.join(get_path('figures'), 'respower.png'))\n",
    "    fig.savefig(os.path.join(get_path('figures'), 'respower.pdf'))"
   ]
  },
  {
   "cell_type": "markdown",
   "metadata": {},
   "source": [
    "Spectral resolving power for individual orders. There can be some wired features in this plot, that are essentially numerirical:\n",
    "\n",
    "- *gaps*: The resolving power is only calcualted if a certain minimum number of photons is detected in an order. If most photons fall into a chip gap, then values on the curve might be missing.\n",
    "- *spikes*: If a spectral order falls very close to a chip gap, the distribution of detected photons might seem very small, e.g. if half the order falls into the gap, the FWHM of the distribution of detected photons is only about 1/2 of the real value, leading to an upward spike in resolving power in the plot.\n",
    "\n",
    "Since I understand where these features are coming from and it's easy to ignore them when looking by eye, I've decided to deal with them in detail later. For now, just ignore them."
   ]
  },
  {
   "cell_type": "code",
   "execution_count": null,
   "metadata": {
    "collapsed": true
   },
   "outputs": [],
   "source": [
    "\n",
    "with mpl.style.context('fivethirtyeight'):\n",
    "    fig = plt.figure()\n",
    "    ax = fig.add_subplot(111)\n",
    "    ax.plot(wave, np.ma.average(res_ma[:, 0, :-1], weights=aeff[:, :-1], axis=1))\n",
    "    ax.set_xlabel('wavelength [$\\AA{}$]')\n",
    "    ax.set_ylabel('resolving power')\n",
    "    fig.subplots_adjust(bottom=0.13, left=0.13, top=.85)\n",
    "    fig.savefig(os.path.join(get_path('figures'), 'averageres.png'))\n",
    "    fig.savefig(os.path.join(get_path('figures'), 'averageres.pdf'))\n"
   ]
  },
  {
   "cell_type": "markdown",
   "metadata": {},
   "source": [
    "## Figure of merit"
   ]
  },
  {
   "cell_type": "code",
   "execution_count": null,
   "metadata": {
    "collapsed": true
   },
   "outputs": [],
   "source": [
    "def combine_figures_of_merit(aeff, res):\n",
    "    out = np.zeros(aeff.shape)\n",
    "    for i in range(len(out)):\n",
    "        res_i = res[:, 0, i]\n",
    "        sort_res = np.argsort(res_i)\n",
    "        merits = np.sqrt(res[:, 0, i] * aeff[:, i] * Ageometric * 2)\n",
    "        out[i] = np.nansum(merits[sort_res[:2]])\n",
    "\n",
    "    return out"
   ]
  },
  {
   "cell_type": "code",
   "execution_count": null,
   "metadata": {
    "collapsed": true
   },
   "outputs": [],
   "source": [
    "def plot_merrit(aeff, res):\n",
    "    fig = plt.figure()\n",
    "    ax = fig.add_subplot(111)\n",
    "    #ax.plot(wave, combine_figures_of_merit(aeff, res), 'k',\n",
    "    #            label='top 2 orders\\nadded')\n",
    "    for i in np.arange(0, 10):\n",
    "        ax.plot(wave, np.sqrt(res[:, 0, i] * aeff[:, i] * Ageometric * 2),\n",
    "                label='order {0}'.format(orders[i]))\n",
    "    ax.legend()\n",
    "    ax.set_xlabel('wavelength [$\\AA{}$]')\n",
    "    ax.set_ylabel('Figure of merrit [cm]')\n",
    "    temp = ax.set_xlim([8, 55])\n",
    "    return fig, ax"
   ]
  },
  {
   "cell_type": "code",
   "execution_count": null,
   "metadata": {
    "collapsed": true,
    "scrolled": false
   },
   "outputs": [],
   "source": [
    "fig, ax = plot_merrit(aeff, res)\n",
    "ax.set_xlim([5, 50])\n",
    "temp = ax.set_title('Figure of merit for line detection: large number of CCDs')"
   ]
  },
  {
   "cell_type": "code",
   "execution_count": null,
   "metadata": {
    "collapsed": true
   },
   "outputs": [],
   "source": [
    "fig, ax = plot_merrit(aeff_16ccd, res)\n",
    "ax.set_xlim([5, 50])\n",
    "temp = ax.set_title('Figure of merit for line detection: 16 CCDs')"
   ]
  },
  {
   "cell_type": "markdown",
   "metadata": {},
   "source": [
    "## An example on the detector\n",
    "In the next few cells, I will run an example through the ray-trace code and make plots that show the actual detector image that this would produce.\n",
    "Keep in mind that the current detector model is very simple: There is a uniform CCD contamination and an energy-dependend factor for the quantum efficiency, but otherwise the detector is perfect: No read-out streaks, no pile-up, and no chanrge-transfer inefficiency (all of which are to be expected in real detector) are simulated. Also, this particular simulation does not include any sort of background (astrophysical or instrumental).\n",
    "\n",
    "For this example, I chose the spectrum of EQ Peg A (an active star) with the parameters from [Liefke et al. (2008)](http://adsabs.harvard.edu/abs/2008A%26A...491..859L). In practice, there is a close companion EQ Peg B and the two spectra will overlap in ARCUS, but for the purposes of this example, EQ Peg A alone will be good enough to represent an emission line spectrum.\n",
    "\n",
    "The code below reads the input spectrum from table of energy and flux density that I generated with Sherpa (could have used XSPEC or ISIS, too)."
   ]
  },
  {
   "cell_type": "code",
   "execution_count": null,
   "metadata": {
    "collapsed": true
   },
   "outputs": [],
   "source": [
    "EQPegAspec = Table.read('../../inputdata/EQPegA_flux.tbl', format='ascii', names=['energy', 'flux'])\n",
    "# restrict table to ARCUS energy range\n",
    "EQPegAspec = EQPegAspec[(EQPegAspec['energy'] > 0.25) & (EQPegAspec['energy'] < 1.5)]\n",
    "\n",
    "EQPegAcoord = astropy.coordinates.SkyCoord.from_name(\"EQ Peg A\")"
   ]
  },
  {
   "cell_type": "code",
   "execution_count": null,
   "metadata": {
    "collapsed": true
   },
   "outputs": [],
   "source": [
    "plt.plot((EQPegAspec['energy'] * u.keV).to(u.Angstrom, equivalencies=u.spectral()), EQPegAspec['flux'])\n",
    "plt.xlabel('wavelength [$\\AA{}$]')\n",
    "plt.ylabel('flux density [arbitrary scale]')\n",
    "title = plt.title('EQ Peg A input spectrum')"
   ]
  },
  {
   "cell_type": "code",
   "execution_count": null,
   "metadata": {
    "collapsed": true
   },
   "outputs": [],
   "source": [
    "# Simulations runs for a while if we want a large number of photons and thus I run it in an external script.\n",
    "# Read result for plotting here:\n",
    "eqpegA = Table.read(os.path.join(get_path('rays'), 'EQPegA100ks.fits'))"
   ]
  },
  {
   "cell_type": "code",
   "execution_count": null,
   "metadata": {
    "collapsed": true
   },
   "outputs": [],
   "source": [
    "topccdids"
   ]
  },
  {
   "cell_type": "code",
   "execution_count": null,
   "metadata": {
    "collapsed": true
   },
   "outputs": [],
   "source": [
    "import matplotlib.colors\n",
    "\n",
    "ind = eqpegA['CCD_ID'] >=0\n",
    "ind = np.array([c in topccdids for c in eqpegA['CCD_ID']])\n",
    "fig = plt.figure(figsize=(12,2))\n",
    "ax = fig.add_subplot(111)\n",
    "out = ax.hist2d(eqpegA['proj_x'][ind], eqpegA['proj_y'][ind], weights=eqpegA['probability'][ind],\n",
    "          bins=[np.arange(-500,1200,10.), np.arange(-10, 10, .2)],\n",
    "          )#norm=matplotlib.colors.LogNorm())\n",
    "ax.set_xlabel('Focal plane coordinate [mm]')\n",
    "temp = ax.set_ylabel('Focal plane coordinate [mm]')"
   ]
  },
  {
   "cell_type": "markdown",
   "metadata": {},
   "source": [
    "Image of the total grating signal detected. The images is shown in focal plane coordinates, projected from the positions where the photons are detected on CCDs that follow the Rowland cirlce. This is **not** the same as the image a flat detector in the focal plane would see. **Note: X and y axis have very different scales!**\n",
    "\n",
    "The spectrum seems to open up a little bit in the middle because the spectral focus does not coincide with the imaging focus. In other words, the detectors are placed to increase the spectral resolution, at the cost of the sub-optimal width in cross-dipersion direction."
   ]
  },
  {
   "cell_type": "code",
   "execution_count": null,
   "metadata": {
    "collapsed": true
   },
   "outputs": [],
   "source": [
    "def rect_from_ccd_geometry(geometry):\n",
    "    bl = geometry('center') + geometry('v_y') + geometry('v_z')\n",
    "    width = -2. * geometry('v_y')[1]\n",
    "    height = -2. * geometry('v_z')[2]\n",
    "    # Scale that to fit in range [0, 1]\n",
    "    return [(bl[1] + 200.) / 1200., bl[2]/1200.+0.5, width/1200., height/1200.]"
   ]
  },
  {
   "cell_type": "code",
   "execution_count": null,
   "metadata": {
    "collapsed": true
   },
   "outputs": [],
   "source": [
    "fig = plt.figure(figsize=(12,12))\n",
    "\n",
    "for i in topccdids:\n",
    "    rect = rect_from_ccd_geometry(instrum.det.elements[i].geometry)\n",
    "    ax = fig.add_axes(rect)\n",
    "    ind = eqpegA['CCD_ID'] == i\n",
    "    hist, xedges, yedges = np.histogram2d(eqpegA['detpix_y'][ind], 2048-eqpegA['detpix_x'][ind], \n",
    "                            weights=eqpegA['probability'][ind],\n",
    "                            range=[[0,1024], [0,2048]], bins=200\n",
    "          )\n",
    "    #mask out 0 as invalid\n",
    "    hist[hist==0] = np.nan\n",
    "    im = ax.imshow(hist, aspect='auto', interpolation='none', vmin=1., vmax=200)\n",
    "    #ax.set_axis_off()\n",
    "    ax.grid()\n",
    "    ax.get_xaxis().set_ticks([])\n",
    "    ax.get_yaxis().set_ticks([])\n",
    "    \n",
    "#cax = plt.colorbar(im)\n",
    "#fig.savefig(os.path.join(get_path('figures'), 'EQPegonCCD.pdf'), dpi=300)"
   ]
  },
  {
   "cell_type": "markdown",
   "metadata": {},
   "source": [
    "Layout of the detectors as seen from the top. In 3-D space the detectors follow the Rowland circle, but they are plotted here as they would be seen from the top. Some dispersed photons fall beyond the boundaries of the chips shown here, but in order to restrict ARCUS to a managable number of chips, choices have to be made and this configuration maximizes the total signal for a fixed number of chips."
   ]
  },
  {
   "cell_type": "code",
   "execution_count": null,
   "metadata": {
    "collapsed": true,
    "scrolled": false
   },
   "outputs": [],
   "source": [
    "fig = plt.figure(figsize=(12,6))\n",
    "\n",
    "ax = fig.add_subplot(111)\n",
    "ind = eqpegA['CCD_ID'] == 24\n",
    "hist, xedges, yedges = np.histogram2d(eqpegA['detpix_y'][ind], eqpegA['detpix_x'][ind], \n",
    "                                weights=eqpegA['probability'][ind],\n",
    "                            range=[[0,1024], [0,2048]], bins=[1024,2048]\n",
    "          )\n",
    "im = ax.imshow(hist, aspect='auto', interpolation='none', norm=matplotlib.colors.LogNorm())\n",
    "ax.grid()\n",
    "cax = plt.colorbar(im)\n",
    "#ax.set_axis_off()\n",
    "\n",
    "fig.savefig(os.path.join(get_path('figures'), 'EQPegonCCD24_log.pdf'), dpi=300)\n",
    "fig.savefig(os.path.join(get_path('figures'), 'EQPegonCCD24_log.png'))"
   ]
  },
  {
   "cell_type": "code",
   "execution_count": null,
   "metadata": {
    "collapsed": true,
    "scrolled": false
   },
   "outputs": [],
   "source": [
    "fig = plt.figure(figsize=(12,12))\n",
    "for j, i in enumerate(topccdids):\n",
    "    ax = fig.add_subplot(8,2,j + 1)\n",
    "    ind = eqpegA['CCD_ID'] == i\n",
    "    hist, xedges, yedges = np.histogram2d(eqpegA['detpix_y'][ind], eqpegA['detpix_x'][ind], \n",
    "                                    weights=eqpegA['probability'][ind],\n",
    "                                range=[[0,1024], [0,2048]], bins=[1024,2048]\n",
    "              )\n",
    "    ax.imshow(hist, aspect='auto', interpolation='none', norm=matplotlib.colors.LogNorm())\n",
    "    ax.grid()"
   ]
  },
  {
   "cell_type": "markdown",
   "metadata": {},
   "source": [
    "This plot show a detector image a single CCD. The image is binned to the size of the actual physical pixels and uses a logarithmic color scale. On the bottom is the spectal trace for one of the pairs of channels, at the top is the zeroth order for the other pair of channels."
   ]
  },
  {
   "cell_type": "markdown",
   "metadata": {},
   "source": [
    "## Order sorting\n",
    "Different orders will overlap spatially on the CCD. We need to make use of the intrinsic energy resolution of the CCD to separate them. Below, I look at two different simulations (EQ Peg with lines and a contionuum source) to determine how good the CCDs have to be to fullfill this task."
   ]
  },
  {
   "cell_type": "code",
   "execution_count": null,
   "metadata": {
    "collapsed": true
   },
   "outputs": [],
   "source": [
    "# Add a column with a \"smeared CCD energy\"\n",
    "eqpegA['PI'] = eqpegA['energy'] * 1000 + np.random.randn(len(eqpegA)) * 65./2.35\n",
    "ind = eqpegA['energy'] <= 1.\n",
    "eqpegA['PI'][ind] = eqpegA['energy'][ind] * 1000 + np.random.randn(ind.sum()) * (5 + 8.6 * np.sqrt(3.2 * eqpegA['energy'][ind] + 16.))/2.35\n",
    "# And, for plotting ad wavelenght column\n",
    "eqpegA['wave'] = eqpegA['energy'].to(u.Angstrom, equivalencies=u.spectral()).value"
   ]
  },
  {
   "cell_type": "code",
   "execution_count": null,
   "metadata": {
    "collapsed": true,
    "scrolled": false
   },
   "outputs": [],
   "source": [
    "ind = (eqpegA['detpix_y'] < 500)\n",
    "\n",
    "fig = plt.figure(figsize=(12,12))\n",
    "ax = fig.add_subplot(111)\n",
    "out = ax.hist2d(eqpegA['proj_x'][ind], eqpegA['energy'][ind], weights=eqpegA['probability'][ind],\n",
    "          bins=[np.arange(-50,1000,10.), np.arange(0, 1.5, .02)],\n",
    "          )#norm=matplotlib.colors.LogNorm())\n",
    "ax.set_ylabel('Energy [keV]')\n",
    "ax.set_xlabel('focal plane coordiante [mm]')\n",
    "temp = ax.set_title('Order sorting plot')"
   ]
  },
  {
   "cell_type": "code",
   "execution_count": null,
   "metadata": {
    "collapsed": true
   },
   "outputs": [],
   "source": [
    "dispersedangle = np.mean(eqpegA['detc1_phi'][ind & (eqpegA['order']==0)]) - eqpegA['detc1_phi']\n",
    "mlambda = 2000. * np.sin(dispersedangle / 2)\n",
    "\n",
    "ind = photonfiltertopccds(eqpegA) & (eqpegA['detpix_y'] < 500) & np.isfinite(eqpegA['order'])\n",
    "fig = plt.figure(figsize=(12,12))\n",
    "ax = fig.add_subplot(111)\n",
    "out = ax.hist2d(mlambda[ind],\n",
    "                eqpegA['PI'][ind] / (mlambda[ind]*u.Angstrom).to(u.eV, equivalencies=u.spectral()), \n",
    "    \n",
    "                weights=eqpegA['probability'][ind],\n",
    "          bins=[np.arange(-1,  200., .1),np.arange(0, 14, .1)],\n",
    "          norm=matplotlib.colors.LogNorm())\n",
    "ax.set_xlabel('m $\\lambda$ [$\\AA$]')\n",
    "ax.set_ylabel('PI  / (m $\\lambda$)')\n",
    "temp = ax.set_title('Order sorting plot')"
   ]
  },
  {
   "cell_type": "code",
   "execution_count": null,
   "metadata": {
    "collapsed": true
   },
   "outputs": [],
   "source": [
    "# For plotting add wavelength column\n",
    "eqpegA['wave'] = eqpegA['energy'].to(u.Angstrom, equivalencies=u.spectral()).value\n",
    "\n",
    "dispersedangle = np.mean(eqpegA['detc1_phi'][ind & (eqpegA['order']==0)]) - eqpegA['detc1_phi']\n",
    "mlambda = 2000. * np.sin(dispersedangle / 2)\n",
    "eqpegA['dispersedangle'] = dispersedangle\n",
    "eqpegA['mlambda'] = mlambda\n",
    "\n",
    "ind = photonfiltertopccds(eqpegA) & (eqpegA['detpix_y'] < 500) & np.isfinite(eqpegA['order'])\n",
    "\n",
    "\n",
    "#Add a column with a \"smeared CCD energy\"\n",
    "eqpegA['PI_Eric'] = eqpegA['energy'] * 1000 + np.random.randn(len(eqpegA)) * 65./2.35\n",
    "ind1 = eqpegA['energy'] > 1.\n",
    "eqpegA['PI_Eric'][ind1] = eqpegA['energy'][ind1] * 1000 + np.random.randn(ind1.sum()) * (5 + 8.6 * np.sqrt(3.2 * eqpegA['energy'][ind1] + 16.))/2.35\n",
    "\n",
    "fig = plt.figure(figsize=(12, 12))\n",
    "ax = fig.add_subplot(2,2,1)\n",
    "out = np.histogram2d(mlambda[ind],\n",
    "                     eqpegA['PI_Eric'][ind] / (mlambda[ind]*u.Angstrom).to(u.eV, equivalencies=u.spectral()), \n",
    "                     weights=eqpegA['probability'][ind],\n",
    "                     bins=[np.arange(-1,  200., .1), np.arange(0, 14, .1)])\n",
    "col = ax.imshow(out[0].T, vmax=50, origin='lower', aspect='auto', extent = (-1, 200, 0, 14))\n",
    "ax.set_xlabel('m $\\lambda$ [$\\AA$]')\n",
    "ax.set_ylabel('PI  / (m $\\lambda$)')\n",
    "ax.set_title(\"Eric's formula for CCD resolution\")\n",
    "plt.colorbar(col)\n",
    "\n",
    "for i, s in enumerate([70., 80., 95.]):\n",
    "    eqpegA['PI'] = eqpegA['energy'] * 1000 + np.random.randn(len(eqpegA)) * s/2.35\n",
    "    out = np.histogram2d(mlambda[ind],\n",
    "                    eqpegA['PI'][ind] / (mlambda[ind]*u.Angstrom).to(u.eV, equivalencies=u.spectral()), \n",
    "                    weights=eqpegA['probability'][ind],\n",
    "                     bins=[np.arange(-1,  200., .1),np.arange(0, 14, .1)])\n",
    "\n",
    "    ax = fig.add_subplot(2, 2, i + 2)\n",
    "    col = ax.imshow(out[0].T, vmax=30, origin='lower', aspect='auto', extent = (-1, 200, 0, 14))\n",
    "    ax.set_xlabel('m $\\lambda$ [$\\AA$]')\n",
    "    ax.set_ylabel('PI  / (m $\\lambda$)')\n",
    "    ax.set_title(\"CCD FWHM = {0} eV\".format(s))\n",
    "    plt.colorbar(col)\n"
   ]
  },
  {
   "cell_type": "code",
   "execution_count": null,
   "metadata": {
    "collapsed": true
   },
   "outputs": [],
   "source": [
    "eqpegA_1 = eqpegA[ind]\n",
    "eqpegA_1.write(os.path.join(get_path('rays'), 'EQPegA_ordersort.fits'), overwrite=True)"
   ]
  },
  {
   "cell_type": "code",
   "execution_count": null,
   "metadata": {
    "collapsed": true,
    "scrolled": false
   },
   "outputs": [],
   "source": [
    "flatspec = Table.read(os.path.join('/melkor/d1/guenther/processing/ARCUS/flatspecjitter000.fits'))\n",
    "ind = photonfiltertopccds(flatspec) & (flatspec['detpix_y'] < 500) & np.isfinite(flatspec['order'])\n",
    "# Note this is not EQ Peg, I just don't have time to rename everything\n",
    "    \n",
    "# For plotting add wavelength column\n",
    "flatspec['wave'] = (flatspec['energy']).to(u.Angstrom, equivalencies=u.spectral()).value\n",
    "\n",
    "dispersedangle = np.mean(flatspec['detc1_phi'][ind & (flatspec['order']==0)]) - flatspec['detc1_phi']\n",
    "mlambda = 2000. * np.sin(dispersedangle / 2)\n",
    "flatspec['dispersedangle'] = dispersedangle\n",
    "\n",
    "#Add a column with a \"smeared CCD energy\"\n",
    "flatspec['PI_Eric'] = flatspec['energy'] * 1000 + np.random.randn(len(flatspec)) * 65./2.35\n",
    "ind1 = flatspec['energy'] > 1.\n",
    "flatspec['PI_Eric'][ind1] = flatspec['energy'][ind1] * 1000 + np.random.randn(ind1.sum()) * (5 + 8.6 * np.sqrt(3.2 * flatspec['energy'][ind1] + 16.))/2.35\n",
    "\n",
    "fig = plt.figure(figsize=(12, 12))\n",
    "ax = fig.add_subplot(2,2,1)\n",
    "out = np.histogram2d(mlambda[ind],\n",
    "                     flatspec['PI_Eric'][ind] / (mlambda[ind]*u.Angstrom).to(u.eV, equivalencies=u.spectral()), \n",
    "                     weights=flatspec['probability'][ind],\n",
    "                     bins=[np.arange(-1,  200., .4), np.arange(0, 14, .2)])\n",
    "col = ax.imshow(out[0].T, vmax=10, origin='lower', aspect='auto', extent = (-1, 200, 0, 14))\n",
    "ax.set_xlabel('m $\\lambda$ [$\\AA$]')\n",
    "ax.set_ylabel('PI  / (m $\\lambda$)')\n",
    "ax.set_title(\"Suzaku-like CCDs\")\n",
    "plt.colorbar(col)\n",
    "\n",
    "for i, s in enumerate([70., 80., 95.]):\n",
    "    flatspec['PI'] = flatspec['energy'] * 1000 + np.random.randn(len(flatspec)) * s/2.35\n",
    "    out = np.histogram2d(mlambda[ind],\n",
    "                    flatspec['PI'][ind] / (mlambda[ind]*u.Angstrom).to(u.eV, equivalencies=u.spectral()), \n",
    "                    weights=flatspec['probability'][ind],\n",
    "                     bins=[np.arange(-1,  200., .4),np.arange(0, 14, .2)])\n",
    "\n",
    "    ax = fig.add_subplot(2, 2, i + 2)\n",
    "    col = ax.imshow(out[0].T, vmax=10, origin='lower', aspect='auto', extent = (-1, 200, 0, 14))\n",
    "    ax.set_xlabel('m $\\lambda$ [$\\AA$]')\n",
    "    ax.set_ylabel('PI  / (m $\\lambda$)')\n",
    "    ax.set_title(\"CCD FWHM = {0} eV\".format(s))\n",
    "    plt.colorbar(col)"
   ]
  },
  {
   "cell_type": "code",
   "execution_count": null,
   "metadata": {
    "collapsed": true
   },
   "outputs": [],
   "source": [
    "# Similar plot for export\n",
    "fig = plt.figure(figsize=(11,5))\n",
    "for i, s in enumerate([65.,  95.]):\n",
    "    flatspec['PI'] = flatspec['energy'] * 1000 + np.random.randn(len(flatspec)) * s/2.35\n",
    "    out = np.histogram2d(mlambda[ind],\n",
    "                    flatspec['PI'][ind] / (mlambda[ind]*u.Angstrom).to(u.eV, equivalencies=u.spectral()), \n",
    "                    weights=flatspec['probability'][ind],\n",
    "                     bins=[np.arange(-1,  200., .4),np.arange(0, 14, .2)])\n",
    "\n",
    "    ax = fig.add_subplot(1, 2, i + 1)\n",
    "    col = ax.imshow(out[0].T, vmax=10, origin='lower', aspect='auto', extent = (-1, 200, 0, 14))\n",
    "    ax.set_xlabel('m $\\lambda$ [$\\AA$]')\n",
    "    ax.set_ylabel('PI  / (m $\\lambda$)')\n",
    "    ax.set_title(\"CCD FWHM = {0} eV\".format(s))\n",
    "    plt.colorbar(col)\n",
    "    \n",
    "fig.subplots_adjust(left=0.1, right=0.95)    \n",
    "fig.savefig(os.path.join(get_path('figures'), 'OrderSorting.png'))\n",
    "fig.savefig(os.path.join(get_path('figures'), 'OrderSorting.pdf'))"
   ]
  },
  {
   "cell_type": "code",
   "execution_count": null,
   "metadata": {
    "collapsed": true
   },
   "outputs": [],
   "source": [
    "display_codetoggle()"
   ]
  }
 ],
 "metadata": {
  "anaconda-cloud": {},
  "hide_input": false,
  "kernelspec": {
   "display_name": "Python [default]",
   "language": "python",
   "name": "python2"
  },
  "language_info": {
   "codemirror_mode": {
    "name": "ipython",
    "version": 2
   },
   "file_extension": ".py",
   "mimetype": "text/x-python",
   "name": "python",
   "nbconvert_exporter": "python",
   "pygments_lexer": "ipython2",
   "version": "2.7.13"
  }
 },
 "nbformat": 4,
 "nbformat_minor": 1
}
