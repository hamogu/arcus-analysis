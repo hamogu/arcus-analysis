{
 "cells": [
  {
   "cell_type": "markdown",
   "metadata": {},
   "source": [
    "# Arcus performance metrics"
   ]
  },
  {
   "cell_type": "code",
   "execution_count": null,
   "metadata": {},
   "outputs": [],
   "source": [
    "from __future__ import print_function"
   ]
  },
  {
   "cell_type": "code",
   "execution_count": null,
   "metadata": {},
   "outputs": [],
   "source": [
    "from nbtemplate import display_header, display_codetoggle, get_path\n",
    "display_header('CATmerrit.ipynb', status='proposal version')"
   ]
  },
  {
   "cell_type": "markdown",
   "metadata": {},
   "source": [
    "In this notebook, I show the effective area and resolution we can expect for Arcus with CAT gratings in the nominal design.\n",
    "\n",
    "### What's in this document and what is not\n",
    "This document contains mostly results of simulations, not the code itself because many of the plots below require a grid of simulations, e.g. in for different energies, and take while to run. Thus, those grids are run in a separate process and the relevant results (e.g. the position of the final rays on the detector) is saved in a fits file. In this notebook we then parse these fits files to extract the relevant information.\n",
    "\n",
    "\n",
    "## What's included in the simulations?\n",
    "Details of the setup for the simulations are obviously defined in the python code, but a list of the most important effects that are included is here:\n",
    "\n",
    "- On-axis, point-like source\n",
    "- Spacecraft pointing with jitter\n",
    "- Mirror with in-plane and out-of-plane scatter\n",
    "- two optical axes, each of them used by one pair of channels\n",
    "- SPO and grating facet positions identical with the mechanical design\n",
    "- facets are flat (i.e. simulation includes finite size effects)\n",
    "- CCDs are flat and have pixels\n",
    "- CCD gaps between individual chips.\n",
    "\n",
    "## Caveats\n",
    "\n",
    "No simulation is perfect and there are many details of the Arcus design that are not or only very marginally relevant for the optical performance that are not covered in these simulations. The main caveats with respect to the optical design are:\n",
    "\n",
    "- The SPO model for a mirror is simplified. Instead of a full surface in 3d, SPOs are represented but a single reflection in a plane. Comparison with experimental data shows that this is a valid approximation for on-axis sources, but cannot reproduce the effects expected for off-axis sources (most notably, the vignetting).\n",
    "- Tolerances: Effective area and resolving power depend on the accurate placement of SPOs, CAT gratings and CCDs. The simulations here are mostly done placing all these elements at their nominal position."
   ]
  },
  {
   "cell_type": "code",
   "execution_count": null,
   "metadata": {},
   "outputs": [],
   "source": [
    "import os\n",
    "import sys\n",
    "from glob import glob\n",
    "import functools\n",
    "\n",
    "import numpy as np\n",
    "import matplotlib.pyplot as plt\n",
    "import matplotlib as mpl\n",
    "\n",
    "%matplotlib inline\n",
    "\n",
    "import astropy\n",
    "import astropy.coordinates\n",
    "from astropy.table import Table, Column\n",
    "import astropy.units as u\n",
    "\n",
    "from astropy.visualization import astropy_mpl_style\n",
    "plt.style.use(astropy_mpl_style)\n"
   ]
  },
  {
   "cell_type": "code",
   "execution_count": null,
   "metadata": {},
   "outputs": [],
   "source": [
    "from cycler import cycler"
   ]
  },
  {
   "cell_type": "code",
   "execution_count": null,
   "metadata": {},
   "outputs": [],
   "source": [
    "import marxs\n",
    "from marxs.source import PointSource, FixedPointing\n",
    "from marxs.analysis.gratings import resolvingpower_from_photonlist, weighted_per_order\n",
    "import arcus\n",
    "import arcus.arcus as instrum"
   ]
  },
  {
   "cell_type": "code",
   "execution_count": null,
   "metadata": {},
   "outputs": [],
   "source": [
    "import mpld3\n",
    "#mpld3.disable_notebook()"
   ]
  },
  {
   "cell_type": "code",
   "execution_count": null,
   "metadata": {
    "scrolled": true
   },
   "outputs": [],
   "source": [
    "r0 = Table.read(rayfiles[0])\n",
    "print('Files were written with')\n",
    "print('MARXS version', r0.meta['MARXSVER'])\n",
    "print('ARCUS version', r0.meta['ARCUSVER'])\n",
    "print('ARCUS inpudata git hash', r0.meta['ARCDATHA'])\n",
    "print('NOTE THAT THESE VERSIONS CAN BE DIFFERENT FROM THE LAST TIME THE NOTEBOOK WAS RUN')\n"
   ]
  },
  {
   "cell_type": "code",
   "execution_count": null,
   "metadata": {},
   "outputs": [],
   "source": [
    "res, aeff, energy, wave, aeff_4, res_4 = aeffRfromraygrid(get_path('raygrid-perfect'), instrum)"
   ]
  },
  {
   "cell_type": "code",
   "execution_count": null,
   "metadata": {},
   "outputs": [],
   "source": [
    "mres, maeff, menergy, mwave, maeff_4, mres_4 = aeffRfromraygrid(get_path('raygrid'), instrum)"
   ]
  },
  {
   "cell_type": "markdown",
   "metadata": {},
   "source": [
    "## Effective area"
   ]
  },
  {
   "cell_type": "code",
   "execution_count": null,
   "metadata": {},
   "outputs": [],
   "source": [
    "#colorcycle = ['#348ABD', '#7A68A6', '#A60628', '#467821', '#CF4457', '#188487', '#E24A33']\n",
    "\n",
    "def plot_aeff(aeff, plot_orders, ax=None):\n",
    "    if ax is None:\n",
    "        fig = plt.figure()\n",
    "        ax = fig.add_subplot(111)\n",
    "\n",
    "    for o in plot_orders: #, colorcycle):\n",
    "        if o !=0:\n",
    "            ax.plot(wave, aeff[:, orders == o], label='order {0}'.format(abs(o)))\n",
    "        else:\n",
    "            ind0 = (orders == 0)\n",
    "            ax.plot(wave, aeff[:, ind0], 'k:', label='0th order')\n",
    "    ax.plot(wave, np.sum(aeff[:, orders != 0], axis=1), \n",
    "            'k-', label='all dispersed\\norders')\n",
    "\n",
    "    ax.set_xlabel('wavelength [$\\AA{}$]')\n",
    "    ax.set_ylabel('$A_\\mathrm{eff}$ [cm$^2]$')\n",
    "    temp = ax.set_xlim([8, 55])\n",
    "    return ax"
   ]
  },
  {
   "cell_type": "code",
   "execution_count": null,
   "metadata": {
    "scrolled": false
   },
   "outputs": [],
   "source": [
    "with mpl.style.context('fivethirtyeight'):\n",
    "    plt.rc('axes', prop_cycle=(cycler('linestyle', ['-', '--', ':']) * \n",
    "                           cycler('color', ['r', 'b', 'y', 'c', 'g', 'm', '#7A68A6', '#188487', '#E24A33'])))\n",
    "    # Do the same plot but split up by energy ranges\n",
    "    fig = plt.figure(figsize=(8, 6))\n",
    "    ax = fig.add_subplot(111)\n",
    "    plot_aeff(aeff_4, np.arange(-9, 1), ax)\n",
    "    ax.set_title('Effective area summed over all 4 channels')\n",
    "    fig.subplots_adjust(bottom=0.13, left=0.13, top=.85)\n",
    "    ax.set_xlim([8, 75])\n",
    "    ax.legend()\n",
    "    fig.savefig(os.path.join(get_path('figures'), 'Aeff_16CCDs.png'))\n",
    "    fig.savefig(os.path.join(get_path('figures'), 'Aeff_16CCDs.pdf'))"
   ]
  },
  {
   "cell_type": "markdown",
   "metadata": {},
   "source": [
    "Effective area curve for Arcus based on the instrument setup and nominal alignment for every element. The effective area for all four channels is added. The contribution of individual grating orders is shown with colored curves. Each of the curves has a number of dips in it when an order falls into a chip gap. For any individual channel, the effective area drops to 0 in this case, but the channels are placed such the the chip gaps to no coincide in all of them, so the summed effective area suffers, but some signal is still detected.\n",
    "\n",
    "The black curve sums the effective area of all detected dispersed orders, irrespective of their spectral resolving power. However, for most of the wavelength range, only orders that are very similar in resolving power (e.g. orders 4 and 5 at 30 $\\unicode{xC5}$) contribute anyway. The only exception to this rule is the region around 12 $\\unicode{xC5}$, where both order 1 and 9 contribute to the observed signal, with (as we will see below) significantly different $R$."
   ]
  },
  {
   "cell_type": "code",
   "execution_count": null,
   "metadata": {},
   "outputs": [],
   "source": [
    "with mpl.style.context('fivethirtyeight'):\n",
    "    plt.rc('axes', prop_cycle=(cycler('linestyle', ['-', '--', ':']) * \n",
    "                           cycler('color', ['r', 'b', 'y', 'c', 'g', 'm', '#7A68A6', '#188487', '#E24A33'])))\n",
    "    # Do the same plot but split up by energy ranges\n",
    "    fig = plt.figure(figsize=(12, 10))\n",
    "    for i in apertures:\n",
    "        ax = fig.add_subplot(2, 2, i+1)\n",
    "        plot_aeff(aeff[:, i, :], np.arange(-9, 1), ax)\n",
    "        ax.set_title('Effective area for channel {}'.format(i))\n",
    "        \n",
    "    fig.subplots_adjust(bottom=0.13, left=0.13, top=.85)\n",
    "    \n",
    "    #fig.savefig(os.path.join(get_path('figures'), 'Aeff_16CCDs.png'))\n",
    "    #fig.savefig(os.path.join(get_path('figures'), 'Aeff_16CCDs.pdf'))"
   ]
  },
  {
   "cell_type": "markdown",
   "metadata": {},
   "source": [
    "This plot shows the effective area for each of the four channels separately, using the same color coding as above. The channels are very similar and at this scale the difference can hardly be seen, but in particular there is a slight offset in the position of the chip gaps between channel 0 and 1 on the one side and 2 and 3 on the other. Note that for each order, the effective area drops to 0, when the order falls into a chip gap, but the effective area summed over all orders does not, at least in those regions where more than one order contributes signal."
   ]
  },
  {
   "cell_type": "code",
   "execution_count": null,
   "metadata": {},
   "outputs": [],
   "source": [
    "#This is another way of showing which CCDs are detecting the most signal. As in the plot above, the CCD ID number is shown on the x-axis, but instead of summing the signal over all wavelengths, it's shown here for each wavelength. \n",
    "#There are two pairs of channels, so everything is mirrored at about CCD ID 32 or so. The figure shows roughly diagonal strips. As the wavelength increases from the top towards the bottom of the plot, a particular grating order gets dispersed to larger angles, causing the strip to move outward. As the order moves away from the preferred angle, it gets wekaer and weaker and more photons are found in the next lower order, which can be seen as a next line appearing. For most wavelength the signal is concentated in one or two orders for each wavelength."
   ]
  },
  {
   "cell_type": "code",
   "execution_count": null,
   "metadata": {},
   "outputs": [],
   "source": [
    "#Looking ot the two plots above, there are two separate effects to be seen:\n",
    "#\n",
    "#- Chip gaps: These are unavoidable, but as stated above it is possible that they appear to be absent for some of the simulations because the wavelength grid is too rough rought now. Thus, lines that seem very similar except for a few sudden drops are probably just that - very similar.\n",
    "#- Large structure: The blaze peak is so wide that it is well covered by a set of 8 CCDs. Moving these by just a little (+- half a CCD) only changes the number of rays detected at the edges and that has only a very small effect of the total effective area.\n",
    "#\n",
    "#In summary, I can say that optimization of the chip placement on a scale smaller than one chip size (about 50 mm) do not make much of a difference at this point."
   ]
  },
  {
   "cell_type": "markdown",
   "metadata": {},
   "source": [
    "## Spectral resolving power\n",
    "\n",
    "I define the resolving power as:\n",
    "$R = \\frac{\\lambda}{\\Delta \\lambda} = \\frac{d_x}{FWMH}$\n",
    "where $\\lambda$ is the wavelength of a spectral line with negligible intrinsic\n",
    "width, and $\\Delta \\lambda$ is the observed width of this feature. Since the\n",
    "detector does not give the wavelength directly, $d_x$ and the $FWHM$ are linear\n",
    "distances measured along a curved detector that follows the Rowland circle. The $FWMH$ is the full width at\n",
    "half maximum of the event distribution and $d_x$ is the distance between\n",
    "the center of a diffracted order and the zeroth order."
   ]
  },
  {
   "cell_type": "code",
   "execution_count": null,
   "metadata": {},
   "outputs": [],
   "source": [
    "def plot_res(res, ax=None):\n",
    "    if ax is None:\n",
    "        fig = plt.figure()\n",
    "        ax = fig.add_subplot(111)\n",
    "\n",
    "    for i in np.arange(3, 10):\n",
    "        ax.plot(wave, res[:, i], label='order {0}'.format(np.abs(orders[i]))\n",
    "    ax.set_xlabel('wavelength [$\\AA{}$]')\n",
    "    ax.set_ylabel('resolving power')\n",
    "    temp = ax.set_xlim([8, 55])\n",
    "    return ax"
   ]
  },
  {
   "cell_type": "code",
   "execution_count": null,
   "metadata": {},
   "outputs": [],
   "source": [
    "with mpl.style.context('fivethirtyeight'):\n",
    "    plt.rc('axes', prop_cycle=(cycler('linestyle', ['-', '--', ':']) * \n",
    "                               cycler('color', ['r', 'b', 'y', 'c', 'g', 'm', '#7A68A6', '#188487', '#E24A33'])))\n",
    "\n",
    "    fig = plt.figure()\n",
    "    ax = fig.add_subplot(111)\n",
    "    ax = plot_res(res_4, ax)\n",
    "    ax.legend()\n",
    "    temp = ax.set_title('Spectral resolving power')\n",
    "    #ax.plot(wave, np.ma.average(res_ma[:, 0, :-1], weights=aeff[:, :-1], axis=1), 'k:')\n",
    "    ax.set_xlabel('wavelength [$\\AA{}$]')\n",
    "    ax.set_ylabel('resolving power')\n",
    "    fig.subplots_adjust(bottom=0.13, left=0.13, top=.85)\n",
    "    fig.savefig(os.path.join(get_path('figures'), 'respower.png'))\n",
    "    fig.savefig(os.path.join(get_path('figures'), 'respower.pdf'))"
   ]
  },
  {
   "cell_type": "markdown",
   "metadata": {},
   "source": [
    "Spectral resolving power for individual orders. Note that the upward spikes in resolving power are numerical artifacts:\n",
    "\n",
    "- *gaps*: The resolving power is only calculated if a certain minimum number of photons is detected in an order. If most photons fall into a chip gap, then values on the curve might be missing.\n",
    "- *spikes*: The resolving power is measured from the width of the detected photons distribution. If a spectral order falls very close to a chip gap, e.g. if half the photons remain undetected because they land between the CCDs, then the FWHM of the distribution of *detected photons* is only about 1/2 of the real value, leading to an upward spike in resolving power in the plot.\n",
    "\n",
    "Since I understand where these features are coming from and it's easy to ignore them when looking by eye, I've decided to deal with them in detail later. For now, just ignore them."
   ]
  },
  {
   "cell_type": "code",
   "execution_count": null,
   "metadata": {},
   "outputs": [],
   "source": [
    "with mpl.style.context('fivethirtyeight'):\n",
    "    plt.rc('axes', prop_cycle=(cycler('linestyle', ['-', '--', ':']) * \n",
    "                               cycler('color', ['r', 'b', 'y', 'c', 'g', 'm', '#7A68A6', '#188487', '#E24A33'])))\n",
    "\n",
    "    fig = plt.figure()\n",
    "    for i in apertures:\n",
    "        ax = fig.add_subplot(2, 2, i + 1)\n",
    "        ax = plot_res(res[:, i, :], ax)\n",
    "        temp = ax.set_title('R for channel {}'.format(i))\n",
    "        #ax.plot(wave, np.ma.average(res_ma[:, 0, :-1], weights=aeff[:, :-1], axis=1), 'k:')\n",
    "        ax.set_xlabel('wavelength [$\\AA{}$]')\n",
    "        ax.set_ylabel('resolving power')\n",
    "        \n",
    "    fig.subplots_adjust(bottom=0.13, left=0.13, top=.85)\n",
    "    #fig.savefig(os.path.join(get_path('figures'), 'respower.png'))\n",
    "    #fig.savefig(os.path.join(get_path('figures'), 'respower.pdf'))"
   ]
  },
  {
   "cell_type": "code",
   "execution_count": null,
   "metadata": {},
   "outputs": [],
   "source": [
    "\n",
    "with mpl.style.context('fivethirtyeight'):\n",
    "    fig = plt.figure()\n",
    "    ax = fig.add_subplot(111)\n",
    "    ax.plot(wave, np.ma.average(res_4[:, :-1], \n",
    "                                weights=np.ma.masked_equal(aeff_4[:, :-1], 0), axis=1),\n",
    "           label='perfect alignment')\n",
    "    ax.plot(mwave, np.ma.average(mres_4[:, :-1], \n",
    "                                 weights=np.ma.masked_equal(maeff_4[:, :-1], 0), axis=1),\n",
    "           label='Baseline tolerance')\n",
    "    ax.set_xlabel('wavelength [$\\AA{}$]')\n",
    "    ax.set_ylabel('resolving power')\n",
    "    fig.subplots_adjust(bottom=0.13, left=0.13, top=.85)\n",
    "    ax.legend()\n",
    "    fig.savefig(os.path.join(get_path('figures'), 'averageres.png'))\n",
    "    fig.savefig(os.path.join(get_path('figures'), 'averageres.pdf'))\n"
   ]
  },
  {
   "cell_type": "markdown",
   "metadata": {},
   "source": [
    "This figure shows the resolving power averaged over all channels and all dispersed spectral orders. When averaging, values are weighted by their respective effective area. Some of the upward spikes seen in the previous plots are also visible here. In addition, there are some drops in $R$ that occur when a wavelength is observed where two orders with slightly different $R$ contribute and one of them falls into a chip gap for a certain wavelength. In the region $39-44\\;\\unicode[serif]{xC5}$ only a single order contributes, and so we see the $R$ rising with wavelength as in the previous plots. For small wavelengths $<12\\unicode[serif]{xC5}$ very low orders contribute to the signal, bringing down the average $R$. \n",
    "\n",
    "However, over most of the wavelength range, $R$ is almost constant. That is not a coincidence, but rooted in the physics of CAT gratings. The spectral resolving power is measured as $R = \\frac{d_x}{FWMH}$. The $FWHM$ is dominated by the mirror point spread function (PSF). In practice the PSF is slightly energy dependent, but this is not captured in the simple mirror model used for these simulations. All other effects on the $FWHM$ are very small (for example, it technically also depends on where on a CCD the signal falls since the CCDs are not curved and do not follow the Rowland circle exactly, but for Arcus this effect is negligible). So, the only variable left is $d_x$ the distance of the spot from the zeroth order. Photons of later wavelength are dispersed to larger distances and thus have larger $d_x$ which explains why $R$ increases with wavelength for every order. On the other hand, CAT gratings most efficiently diffract photons at a particular angle (the *blaze peak*). Thus, for longer and longer wavelengths the signal in an order becomes weaker, because the position of the order moves away from the blaze peak. At the same time, the next lower order moves towards the blaze peak and becomes increasingly stronger. In other words, the higher order (which has a higher $R$) drops in effective area, while the next lower order gains effective area. Together, this means that the averaged resolving power stays essentially constant."
   ]
  },
  {
   "cell_type": "markdown",
   "metadata": {},
   "source": [
    "## Figure of merit"
   ]
  },
  {
   "cell_type": "code",
   "execution_count": null,
   "metadata": {},
   "outputs": [],
   "source": [
    "def combine_figures_of_merit(aeff, res):\n",
    "    out = np.zeros(aeff.shape)\n",
    "    for i in range(len(out)):\n",
    "        res_i = res[:, 0, i]\n",
    "        sort_res = np.argsort(res_i)\n",
    "        merits = np.sqrt(res[:, i] * aeff[:, i])\n",
    "        out[i] = np.nansum(merits[sort_res[:2]])\n",
    "\n",
    "    return out"
   ]
  },
  {
   "cell_type": "code",
   "execution_count": null,
   "metadata": {},
   "outputs": [],
   "source": [
    "def plot_merrit(aeff, res):\n",
    "    fig = plt.figure()\n",
    "    ax = fig.add_subplot(111)\n",
    "    #ax.plot(wave, combine_figures_of_merit(aeff, res), 'k',\n",
    "    #            label='top 2 orders\\nadded')\n",
    "    for i in np.arange(3, 10):\n",
    "        ax.plot(wave, np.sqrt(res[:, i] * aeff[:, i]),\n",
    "                label='order {0}'.format(orders[i]))\n",
    "    ax.legend()\n",
    "    ax.set_xlabel('wavelength [$\\AA{}$]')\n",
    "    ax.set_ylabel('Figure of merrit [cm]')\n",
    "    temp = ax.set_xlim([8, 55])\n",
    "    return fig, ax"
   ]
  },
  {
   "cell_type": "code",
   "execution_count": null,
   "metadata": {
    "scrolled": false
   },
   "outputs": [],
   "source": [
    "fig, ax = plot_merrit(aeff_4, res_4)\n",
    "ax.set_xlim([5, 50])\n",
    "temp = ax.set_title('Figure of merit for line detection')"
   ]
  },
  {
   "cell_type": "markdown",
   "metadata": {},
   "source": [
    "## An example on the detector\n",
    "In the next few cells, I will run an example through the ray-trace code and make plots that show the actual detector image that this would produce.\n",
    "Keep in mind that the current detector model is very simple: There is a uniform CCD contamination and an energy-dependend factor for the quantum efficiency, but otherwise the detector is perfect: No read-out streaks, no pile-up, and no chanrge-transfer inefficiency (all of which are to be expected in real detector) are simulated. Also, this particular simulation does not include any sort of background (astrophysical or instrumental).\n",
    "\n",
    "For this example, I chose the spectrum of EQ Peg A (an active star) with the parameters from [Liefke et al. (2008)](http://adsabs.harvard.edu/abs/2008A%26A...491..859L). In practice, there is a close companion EQ Peg B and the two spectra will overlap in ARCUS, but for the purposes of this example, EQ Peg A alone will be good enough to represent an emission line spectrum.\n",
    "\n",
    "The code below reads the input spectrum from table of energy and flux density that I generated with Sherpa (could have used XSPEC or ISIS, too)."
   ]
  },
  {
   "cell_type": "code",
   "execution_count": null,
   "metadata": {},
   "outputs": [],
   "source": [
    "EQPegAspec = Table.read('../../inputdata/EQPegA_flux.tbl', format='ascii', names=['energy', 'flux'])\n",
    "# restrict table to ARCUS energy range\n",
    "EQPegAspec = EQPegAspec[(EQPegAspec['energy'] > 0.25) & (EQPegAspec['energy'] < 1.5)]\n",
    "\n",
    "EQPegAcoord = astropy.coordinates.SkyCoord.from_name(\"EQ Peg A\")"
   ]
  },
  {
   "cell_type": "code",
   "execution_count": null,
   "metadata": {},
   "outputs": [],
   "source": [
    "plt.plot((EQPegAspec['energy'] * u.keV).to(u.Angstrom, equivalencies=u.spectral()), EQPegAspec['flux'])\n",
    "plt.xlabel('wavelength [$\\AA{}$]')\n",
    "plt.ylabel('flux density [arbitrary scale]')\n",
    "title = plt.title('EQ Peg A input spectrum')"
   ]
  },
  {
   "cell_type": "code",
   "execution_count": null,
   "metadata": {},
   "outputs": [],
   "source": [
    "# Simulations runs for a while if we want a large number of photons and thus I run it in an external script.\n",
    "# Read result for plotting here:\n",
    "eqpegA = Table.read(os.path.join(get_path('rays'), 'EQPegA100ks.fits'))"
   ]
  },
  {
   "cell_type": "code",
   "execution_count": null,
   "metadata": {},
   "outputs": [],
   "source": [
    "topccdids"
   ]
  },
  {
   "cell_type": "code",
   "execution_count": null,
   "metadata": {},
   "outputs": [],
   "source": [
    "import matplotlib.colors\n",
    "\n",
    "ind = eqpegA['CCD_ID'] >=0\n",
    "ind = np.array([c in topccdids for c in eqpegA['CCD_ID']])\n",
    "fig = plt.figure(figsize=(12,2))\n",
    "ax = fig.add_subplot(111)\n",
    "out = ax.hist2d(eqpegA['proj_x'][ind], eqpegA['proj_y'][ind], weights=eqpegA['probability'][ind],\n",
    "          bins=[np.arange(-500,1200,10.), np.arange(-10, 10, .2)],\n",
    "          )#norm=matplotlib.colors.LogNorm())\n",
    "ax.set_xlabel('Focal plane coordinate [mm]')\n",
    "temp = ax.set_ylabel('Focal plane coordinate [mm]')"
   ]
  },
  {
   "cell_type": "markdown",
   "metadata": {},
   "source": [
    "Image of the total grating signal detected. The images is shown in focal plane coordinates, projected from the positions where the photons are detected on CCDs that follow the Rowland cirlce. This is **not** the same as the image a flat detector in the focal plane would see. **Note: X and y axis have very different scales!**\n",
    "\n",
    "The spectrum seems to open up a little bit in the middle because the spectral focus does not coincide with the imaging focus. In other words, the detectors are placed to increase the spectral resolution, at the cost of the sub-optimal width in cross-dipersion direction."
   ]
  },
  {
   "cell_type": "code",
   "execution_count": null,
   "metadata": {},
   "outputs": [],
   "source": [
    "def rect_from_ccd_geometry(geometry):\n",
    "    bl = geometry('center') + geometry('v_y') + geometry('v_z')\n",
    "    width = -2. * geometry('v_y')[1]\n",
    "    height = -2. * geometry('v_z')[2]\n",
    "    # Scale that to fit in range [0, 1]\n",
    "    return [(bl[1] + 200.) / 1200., bl[2]/1200.+0.5, width/1200., height/1200.]"
   ]
  },
  {
   "cell_type": "code",
   "execution_count": null,
   "metadata": {},
   "outputs": [],
   "source": [
    "fig = plt.figure(figsize=(12,12))\n",
    "\n",
    "for i in topccdids:\n",
    "    rect = rect_from_ccd_geometry(instrum.det.elements[i].geometry)\n",
    "    ax = fig.add_axes(rect)\n",
    "    ind = eqpegA['CCD_ID'] == i\n",
    "    hist, xedges, yedges = np.histogram2d(eqpegA['detpix_y'][ind], 2048-eqpegA['detpix_x'][ind], \n",
    "                            weights=eqpegA['probability'][ind],\n",
    "                            range=[[0,1024], [0,2048]], bins=200\n",
    "          )\n",
    "    #mask out 0 as invalid\n",
    "    hist[hist==0] = np.nan\n",
    "    im = ax.imshow(hist, aspect='auto', interpolation='none', vmin=1., vmax=200)\n",
    "    #ax.set_axis_off()\n",
    "    ax.grid()\n",
    "    ax.get_xaxis().set_ticks([])\n",
    "    ax.get_yaxis().set_ticks([])\n",
    "    \n",
    "#cax = plt.colorbar(im)\n",
    "#fig.savefig(os.path.join(get_path('figures'), 'EQPegonCCD.pdf'), dpi=300)"
   ]
  },
  {
   "cell_type": "markdown",
   "metadata": {},
   "source": [
    "Layout of the detectors as seen from the top. In 3-D space the detectors follow the Rowland circle, but they are plotted here as they would be seen from the top. Some dispersed photons fall beyond the boundaries of the chips shown here, but in order to restrict ARCUS to a managable number of chips, choices have to be made and this configuration maximizes the total signal for a fixed number of chips."
   ]
  },
  {
   "cell_type": "code",
   "execution_count": null,
   "metadata": {
    "scrolled": false
   },
   "outputs": [],
   "source": [
    "fig = plt.figure(figsize=(12,6))\n",
    "\n",
    "ax = fig.add_subplot(111)\n",
    "ind = eqpegA['CCD_ID'] == 24\n",
    "hist, xedges, yedges = np.histogram2d(eqpegA['detpix_y'][ind], eqpegA['detpix_x'][ind], \n",
    "                                weights=eqpegA['probability'][ind],\n",
    "                            range=[[0,1024], [0,2048]], bins=[1024,2048]\n",
    "          )\n",
    "im = ax.imshow(hist, aspect='auto', interpolation='none', norm=matplotlib.colors.LogNorm())\n",
    "ax.grid()\n",
    "cax = plt.colorbar(im)\n",
    "#ax.set_axis_off()\n",
    "\n",
    "fig.savefig(os.path.join(get_path('figures'), 'EQPegonCCD24_log.pdf'), dpi=300)\n",
    "fig.savefig(os.path.join(get_path('figures'), 'EQPegonCCD24_log.png'))"
   ]
  },
  {
   "cell_type": "code",
   "execution_count": null,
   "metadata": {
    "scrolled": false
   },
   "outputs": [],
   "source": [
    "fig = plt.figure(figsize=(12,12))\n",
    "for j, i in enumerate(topccdids):\n",
    "    ax = fig.add_subplot(8,2,j + 1)\n",
    "    ind = eqpegA['CCD_ID'] == i\n",
    "    hist, xedges, yedges = np.histogram2d(eqpegA['detpix_y'][ind], eqpegA['detpix_x'][ind], \n",
    "                                    weights=eqpegA['probability'][ind],\n",
    "                                range=[[0,1024], [0,2048]], bins=[1024,2048]\n",
    "              )\n",
    "    ax.imshow(hist, aspect='auto', interpolation='none', norm=matplotlib.colors.LogNorm())\n",
    "    ax.grid()"
   ]
  },
  {
   "cell_type": "markdown",
   "metadata": {},
   "source": [
    "This plot show a detector image a single CCD. The image is binned to the size of the actual physical pixels and uses a logarithmic color scale. On the bottom is the spectal trace for one of the pairs of channels, at the top is the zeroth order for the other pair of channels."
   ]
  },
  {
   "cell_type": "markdown",
   "metadata": {},
   "source": [
    "## Order sorting\n",
    "Different orders will overlap spatially on the CCD. We need to make use of the intrinsic energy resolution of the CCD to separate them. Below, I look at two different simulations (EQ Peg with lines and a contionuum source) to determine how good the CCDs have to be to fullfill this task."
   ]
  },
  {
   "cell_type": "code",
   "execution_count": null,
   "metadata": {},
   "outputs": [],
   "source": [
    "# Add a column with a \"smeared CCD energy\"\n",
    "eqpegA['PI'] = eqpegA['energy'] * 1000 + np.random.randn(len(eqpegA)) * 65./2.35\n",
    "ind = eqpegA['energy'] <= 1.\n",
    "eqpegA['PI'][ind] = eqpegA['energy'][ind] * 1000 + np.random.randn(ind.sum()) * (5 + 8.6 * np.sqrt(3.2 * eqpegA['energy'][ind] + 16.))/2.35\n",
    "# And, for plotting ad wavelenght column\n",
    "eqpegA['wave'] = eqpegA['energy'].to(u.Angstrom, equivalencies=u.spectral()).value"
   ]
  },
  {
   "cell_type": "code",
   "execution_count": null,
   "metadata": {
    "scrolled": false
   },
   "outputs": [],
   "source": [
    "ind = (eqpegA['detpix_y'] < 500)\n",
    "\n",
    "fig = plt.figure(figsize=(12,12))\n",
    "ax = fig.add_subplot(111)\n",
    "out = ax.hist2d(eqpegA['proj_x'][ind], eqpegA['energy'][ind], weights=eqpegA['probability'][ind],\n",
    "          bins=[np.arange(-50,1000,10.), np.arange(0, 1.5, .02)],\n",
    "          )#norm=matplotlib.colors.LogNorm())\n",
    "ax.set_ylabel('Energy [keV]')\n",
    "ax.set_xlabel('focal plane coordiante [mm]')\n",
    "temp = ax.set_title('Order sorting plot')"
   ]
  },
  {
   "cell_type": "code",
   "execution_count": null,
   "metadata": {},
   "outputs": [],
   "source": [
    "dispersedangle = np.mean(eqpegA['detc1_phi'][ind & (eqpegA['order']==0)]) - eqpegA['detc1_phi']\n",
    "mlambda = 2000. * np.sin(dispersedangle / 2)\n",
    "\n",
    "ind = photonfiltertopccds(eqpegA) & (eqpegA['detpix_y'] < 500) & np.isfinite(eqpegA['order'])\n",
    "fig = plt.figure(figsize=(12,12))\n",
    "ax = fig.add_subplot(111)\n",
    "out = ax.hist2d(mlambda[ind],\n",
    "                eqpegA['PI'][ind] / (mlambda[ind]*u.Angstrom).to(u.eV, equivalencies=u.spectral()), \n",
    "    \n",
    "                weights=eqpegA['probability'][ind],\n",
    "          bins=[np.arange(-1,  200., .1),np.arange(0, 14, .1)],\n",
    "          norm=matplotlib.colors.LogNorm())\n",
    "ax.set_xlabel('m $\\lambda$ [$\\AA$]')\n",
    "ax.set_ylabel('PI  / (m $\\lambda$)')\n",
    "temp = ax.set_title('Order sorting plot')"
   ]
  },
  {
   "cell_type": "code",
   "execution_count": null,
   "metadata": {},
   "outputs": [],
   "source": [
    "# For plotting add wavelength column\n",
    "eqpegA['wave'] = eqpegA['energy'].to(u.Angstrom, equivalencies=u.spectral()).value\n",
    "\n",
    "dispersedangle = np.mean(eqpegA['detc1_phi'][ind & (eqpegA['order']==0)]) - eqpegA['detc1_phi']\n",
    "mlambda = 2000. * np.sin(dispersedangle / 2)\n",
    "eqpegA['dispersedangle'] = dispersedangle\n",
    "eqpegA['mlambda'] = mlambda\n",
    "\n",
    "ind = photonfiltertopccds(eqpegA) & (eqpegA['detpix_y'] < 500) & np.isfinite(eqpegA['order'])\n",
    "\n",
    "\n",
    "#Add a column with a \"smeared CCD energy\"\n",
    "eqpegA['PI_Eric'] = eqpegA['energy'] * 1000 + np.random.randn(len(eqpegA)) * 65./2.35\n",
    "ind1 = eqpegA['energy'] > 1.\n",
    "eqpegA['PI_Eric'][ind1] = eqpegA['energy'][ind1] * 1000 + np.random.randn(ind1.sum()) * (5 + 8.6 * np.sqrt(3.2 * eqpegA['energy'][ind1] + 16.))/2.35\n",
    "\n",
    "fig = plt.figure(figsize=(12, 12))\n",
    "ax = fig.add_subplot(2,2,1)\n",
    "out = np.histogram2d(mlambda[ind],\n",
    "                     eqpegA['PI_Eric'][ind] / (mlambda[ind]*u.Angstrom).to(u.eV, equivalencies=u.spectral()), \n",
    "                     weights=eqpegA['probability'][ind],\n",
    "                     bins=[np.arange(-1,  200., .1), np.arange(0, 14, .1)])\n",
    "col = ax.imshow(out[0].T, vmax=50, origin='lower', aspect='auto', extent = (-1, 200, 0, 14))\n",
    "ax.set_xlabel('m $\\lambda$ [$\\AA$]')\n",
    "ax.set_ylabel('PI  / (m $\\lambda$)')\n",
    "ax.set_title(\"Eric's formula for CCD resolution\")\n",
    "plt.colorbar(col)\n",
    "\n",
    "for i, s in enumerate([70., 80., 95.]):\n",
    "    eqpegA['PI'] = eqpegA['energy'] * 1000 + np.random.randn(len(eqpegA)) * s/2.35\n",
    "    out = np.histogram2d(mlambda[ind],\n",
    "                    eqpegA['PI'][ind] / (mlambda[ind]*u.Angstrom).to(u.eV, equivalencies=u.spectral()), \n",
    "                    weights=eqpegA['probability'][ind],\n",
    "                     bins=[np.arange(-1,  200., .1),np.arange(0, 14, .1)])\n",
    "\n",
    "    ax = fig.add_subplot(2, 2, i + 2)\n",
    "    col = ax.imshow(out[0].T, vmax=30, origin='lower', aspect='auto', extent = (-1, 200, 0, 14))\n",
    "    ax.set_xlabel('m $\\lambda$ [$\\AA$]')\n",
    "    ax.set_ylabel('PI  / (m $\\lambda$)')\n",
    "    ax.set_title(\"CCD FWHM = {0} eV\".format(s))\n",
    "    plt.colorbar(col)\n"
   ]
  },
  {
   "cell_type": "code",
   "execution_count": null,
   "metadata": {},
   "outputs": [],
   "source": [
    "eqpegA_1 = eqpegA[ind]\n",
    "eqpegA_1.write(os.path.join(get_path('rays'), 'EQPegA_ordersort.fits'), overwrite=True)"
   ]
  },
  {
   "cell_type": "code",
   "execution_count": null,
   "metadata": {
    "scrolled": false
   },
   "outputs": [],
   "source": [
    "flatspec = Table.read(os.path.join('/melkor/d1/guenther/processing/ARCUS/flatspecjitter000.fits'))\n",
    "ind = photonfiltertopccds(flatspec) & (flatspec['detpix_y'] < 500) & np.isfinite(flatspec['order'])\n",
    "# Note this is not EQ Peg, I just don't have time to rename everything\n",
    "    \n",
    "# For plotting add wavelength column\n",
    "flatspec['wave'] = (flatspec['energy']).to(u.Angstrom, equivalencies=u.spectral()).value\n",
    "\n",
    "dispersedangle = np.mean(flatspec['detc1_phi'][ind & (flatspec['order']==0)]) - flatspec['detc1_phi']\n",
    "mlambda = 2000. * np.sin(dispersedangle / 2)\n",
    "flatspec['dispersedangle'] = dispersedangle\n",
    "\n",
    "#Add a column with a \"smeared CCD energy\"\n",
    "flatspec['PI_Eric'] = flatspec['energy'] * 1000 + np.random.randn(len(flatspec)) * 65./2.35\n",
    "ind1 = flatspec['energy'] > 1.\n",
    "flatspec['PI_Eric'][ind1] = flatspec['energy'][ind1] * 1000 + np.random.randn(ind1.sum()) * (5 + 8.6 * np.sqrt(3.2 * flatspec['energy'][ind1] + 16.))/2.35\n",
    "\n",
    "fig = plt.figure(figsize=(12, 12))\n",
    "ax = fig.add_subplot(2,2,1)\n",
    "out = np.histogram2d(mlambda[ind],\n",
    "                     flatspec['PI_Eric'][ind] / (mlambda[ind]*u.Angstrom).to(u.eV, equivalencies=u.spectral()), \n",
    "                     weights=flatspec['probability'][ind],\n",
    "                     bins=[np.arange(-1,  200., .4), np.arange(0, 14, .2)])\n",
    "col = ax.imshow(out[0].T, vmax=10, origin='lower', aspect='auto', extent = (-1, 200, 0, 14))\n",
    "ax.set_xlabel('m $\\lambda$ [$\\AA$]')\n",
    "ax.set_ylabel('PI  / (m $\\lambda$)')\n",
    "ax.set_title(\"Suzaku-like CCDs\")\n",
    "plt.colorbar(col)\n",
    "\n",
    "for i, s in enumerate([70., 80., 95.]):\n",
    "    flatspec['PI'] = flatspec['energy'] * 1000 + np.random.randn(len(flatspec)) * s/2.35\n",
    "    out = np.histogram2d(mlambda[ind],\n",
    "                    flatspec['PI'][ind] / (mlambda[ind]*u.Angstrom).to(u.eV, equivalencies=u.spectral()), \n",
    "                    weights=flatspec['probability'][ind],\n",
    "                     bins=[np.arange(-1,  200., .4),np.arange(0, 14, .2)])\n",
    "\n",
    "    ax = fig.add_subplot(2, 2, i + 2)\n",
    "    col = ax.imshow(out[0].T, vmax=10, origin='lower', aspect='auto', extent = (-1, 200, 0, 14))\n",
    "    ax.set_xlabel('m $\\lambda$ [$\\AA$]')\n",
    "    ax.set_ylabel('PI  / (m $\\lambda$)')\n",
    "    ax.set_title(\"CCD FWHM = {0} eV\".format(s))\n",
    "    plt.colorbar(col)"
   ]
  },
  {
   "cell_type": "code",
   "execution_count": null,
   "metadata": {},
   "outputs": [],
   "source": [
    "# Similar plot for export\n",
    "fig = plt.figure(figsize=(11,5))\n",
    "for i, s in enumerate([65.,  95.]):\n",
    "    flatspec['PI'] = flatspec['energy'] * 1000 + np.random.randn(len(flatspec)) * s/2.35\n",
    "    out = np.histogram2d(mlambda[ind],\n",
    "                    flatspec['PI'][ind] / (mlambda[ind]*u.Angstrom).to(u.eV, equivalencies=u.spectral()), \n",
    "                    weights=flatspec['probability'][ind],\n",
    "                     bins=[np.arange(-1,  200., .4),np.arange(0, 14, .2)])\n",
    "\n",
    "    ax = fig.add_subplot(1, 2, i + 1)\n",
    "    col = ax.imshow(out[0].T, vmax=10, origin='lower', aspect='auto', extent = (-1, 200, 0, 14))\n",
    "    ax.set_xlabel('m $\\lambda$ [$\\AA$]')\n",
    "    ax.set_ylabel('PI  / (m $\\lambda$)')\n",
    "    ax.set_title(\"CCD FWHM = {0} eV\".format(s))\n",
    "    plt.colorbar(col)\n",
    "    \n",
    "fig.subplots_adjust(left=0.1, right=0.95)    \n",
    "fig.savefig(os.path.join(get_path('figures'), 'OrderSorting.png'))\n",
    "fig.savefig(os.path.join(get_path('figures'), 'OrderSorting.pdf'))"
   ]
  },
  {
   "cell_type": "code",
   "execution_count": null,
   "metadata": {},
   "outputs": [],
   "source": [
    "display_codetoggle()"
   ]
  }
 ],
 "metadata": {
  "anaconda-cloud": {},
  "hide_input": false,
  "kernelspec": {
   "display_name": "Python [default]",
   "language": "python",
   "name": "python2"
  },
  "language_info": {
   "codemirror_mode": {
    "name": "ipython",
    "version": 2
   },
   "file_extension": ".py",
   "mimetype": "text/x-python",
   "name": "python",
   "nbconvert_exporter": "python",
   "pygments_lexer": "ipython2",
   "version": "2.7.14"
  }
 },
 "nbformat": 4,
 "nbformat_minor": 1
}
