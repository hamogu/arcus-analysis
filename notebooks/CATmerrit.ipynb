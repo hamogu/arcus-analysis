{
 "cells": [
  {
   "cell_type": "code",
   "execution_count": null,
   "metadata": {},
   "outputs": [],
   "source": [
    "# Arcus performance metrics"
   ]
  },
  {
   "cell_type": "code",
   "execution_count": null,
   "metadata": {},
   "outputs": [],
   "source": [
    "from __future__ import print_function"
   ]
  },
  {
   "cell_type": "code",
   "execution_count": null,
   "metadata": {},
   "outputs": [],
   "source": [
    "from nbtemplate import display_header, display_codetoggle, get_path\n",
    "display_header('CATmerrit.ipynb', status='reviewed for SV')"
   ]
  },
  {
   "cell_type": "markdown",
   "metadata": {},
   "source": [
    "In this notebook, I show the effective area and resolution we can expect for Arcus with CAT gratings in the nominal design and according to the baseline tolerance budget.\n",
    "\n",
    "### What's in this document and what is not\n",
    "This document contains mostly results of simulations, not the code itself because many of the plots below require a grid of simulations, e.g. in for different energies, and take while to run. Thus, those grids are run in a separate process and the relevant results (e.g. the position of the final rays on the detector) is saved in a fits file. In this notebook we then parse these fits files to extract the relevant information.\n",
    "\n",
    "\n",
    "## What's included in the simulations?\n",
    "Details of the setup for the simulations are obviously defined in the python code, but a list of the most important effects that are included is here:\n",
    "\n",
    "- On-axis, point-like source\n",
    "- Spacecraft pointing with jitter\n",
    "- Mirror with in-plane and out-of-plane scatter\n",
    "- two optical axes, each of them used by one pair of channels\n",
    "- SPO and grating facet positions identical with the mechanical design\n",
    "- facets are flat (i.e. simulation includes finite size effects)\n",
    "- CCDs are flat and have pixels\n",
    "- CCD gaps between individual chips.\n",
    "\n",
    "## Caveats\n",
    "\n",
    "No simulation is perfect and there are many details of the Arcus design that are not or only very marginally relevant for the optical performance that are not covered in these simulations. The main caveats with respect to the optical design are:\n",
    "\n",
    "- The SPO model for a mirror is simplified. Instead of a full surface in 3d, SPOs are represented but a single reflection in a plane. Comparison with experimental data shows that this is a valid approximation for on-axis sources, but cannot reproduce the effects expected for off-axis sources (most notably, the vignetting).\n",
    "- Tolerances: Effective area and resolving power depend on the accurate placement of SPOs, CAT gratings and CCDs. The simulations here are mostly done placing all these elements at their nominal position."
   ]
  },
  {
   "cell_type": "code",
   "execution_count": null,
   "metadata": {},
   "outputs": [],
   "source": [
    "import os\n",
    "import sys\n",
    "from glob import glob\n",
    "import functools\n",
    "\n",
    "import numpy as np\n",
    "import matplotlib.pyplot as plt\n",
    "import matplotlib as mpl\n",
    "\n",
    "%matplotlib inline\n",
    "\n",
    "import astropy\n",
    "import astropy.coordinates\n",
    "from astropy.table import Table, Column\n",
    "import astropy.units as u\n",
    "\n",
    "plt.style.use(\"fivethirtyeight\")\n"
   ]
  },
  {
   "cell_type": "code",
   "execution_count": null,
   "metadata": {},
   "outputs": [],
   "source": [
    "from cycler import cycler"
   ]
  },
  {
   "cell_type": "code",
   "execution_count": null,
   "metadata": {},
   "outputs": [],
   "source": [
    "import marxs\n",
    "from marxs.source import PointSource, FixedPointing\n",
    "from marxs.analysis.gratings import resolvingpower_from_photonlist, weighted_per_order\n",
    "import arcus\n",
    "import arcus.arcus as instrum\n",
    "from arcus.analysis.grid import apertures, orders_from_meta"
   ]
  },
  {
   "cell_type": "code",
   "execution_count": null,
   "metadata": {},
   "outputs": [],
   "source": [
    "tarc = Table.read(os.path.join(get_path('arcus'), 'raygrid-smallRAeff.fits'))\n",
    "tarc.orders = orders_from_meta(tarc.meta)\n",
    "tper = Table.read(os.path.join(get_path('arcus'), 'raygrid-perfect-smallRAeff.fits'))\n",
    "tper.orders = orders_from_meta(tper.meta)"
   ]
  },
  {
   "cell_type": "code",
   "execution_count": null,
   "metadata": {
    "scrolled": true
   },
   "outputs": [],
   "source": [
    "print('Files were written with')\n",
    "print('MARXS version', tarc.meta['MARXSVER'])\n",
    "print('ARCUS version', tarc.meta['ARCUSVER'])\n",
    "print('ARCUS inpudata git hash', tarc.meta['ARCDATGI'])\n",
    "print('NOTE THAT THESE VERSIONS CAN BE DIFFERENT FROM THE LAST TIME THE NOTEBOOK WAS RUN')\n"
   ]
  },
  {
   "cell_type": "markdown",
   "metadata": {},
   "source": [
    "## Effective area"
   ]
  },
  {
   "cell_type": "code",
   "execution_count": null,
   "metadata": {},
   "outputs": [],
   "source": [
    "def plot_aeff(tab, aeff, plot_orders, ax=None):\n",
    "    if ax is None:\n",
    "        fig = plt.figure()\n",
    "        ax = fig.add_subplot(111)\n",
    "\n",
    "    for o in plot_orders: #, colorcycle):\n",
    "        if o !=0:\n",
    "            ax.plot(tab['wave'], aeff[:, tab.orders == o], label='order {0}'.format(o))\n",
    "        else:\n",
    "            ind0 = (tab.orders == 0)\n",
    "            ax.plot(tab['wave'], aeff[:, ind0], 'k:', label='0th order')\n",
    "    ax.plot(tab['wave'], np.sum(aeff[:, tab.orders != 0], axis=1), \n",
    "            'k-', label='all dispersed\\norders')\n",
    "\n",
    "    temp = ax.set_xlim([8, 55])\n",
    "    return ax"
   ]
  },
  {
   "cell_type": "code",
   "execution_count": null,
   "metadata": {
    "scrolled": false
   },
   "outputs": [],
   "source": [
    "    plt.rc('axes', prop_cycle=(cycler('linestyle', ['-', '--', ':']) * \n",
    "                           cycler('color', ['r', 'b', 'y', 'c', 'g', 'm', '#7A68A6', '#188487', '#E24A33'])))\n",
    "    # Do the same plot but split up by energy ranges\n",
    "    fig = plt.figure(figsize=(8, 5))\n",
    "    ax = fig.add_subplot(111)\n",
    "    plot_aeff(tper, tper['Aeff4'], np.arange(-9, 1), ax)\n",
    "    ax.set_title('Effective area summed over all 4 channels')\n",
    "    fig.subplots_adjust(bottom=0.13, left=0.13, top=.85)\n",
    "    ax.set_xlim([8, 75])\n",
    "    ax.legend()\n",
    "    ax.set_xlabel('wavelength [$\\AA{}$]')\n",
    "    ax.set_ylabel('$A_\\mathrm{eff}$ [cm$^2]$')\n",
    "    fig.savefig(os.path.join(get_path('figures'), 'Aeff_16CCDs.png'), dpi=600, bbox_inches='tight')\n",
    "    fig.savefig(os.path.join(get_path('figures'), 'Aeff_16CCDs.pdf'))"
   ]
  },
  {
   "cell_type": "markdown",
   "metadata": {},
   "source": [
    "Effective area curve for Arcus based on the instrument setup and nominal alignment for every element. The effective area for all four channels is added. The contribution of individual grating orders is shown with colored curves. Each of the curves has a number of dips in it when an order falls into a chip gap. For any individual channel, the effective area drops to 0 in this case, but the channels are placed such the the chip gaps do not coincide in all of them, so the summed effective area suffers, but some signal is still detected.\n",
    "\n",
    "The black curve sums the effective area of all detected dispersed orders, irrespective of their spectral resolving power. However, for most of the wavelength range, only orders that are very similar in resolving power (e.g. orders 4 and 5 at 30 $\\unicode{xC5}$) contribute anyway. The only exception to this rule is the region around 12 $\\unicode{xC5}$, where both order 1 and 9 contribute to the observed signal, with (as we will see below) significantly different $R$."
   ]
  },
  {
   "cell_type": "code",
   "execution_count": null,
   "metadata": {},
   "outputs": [],
   "source": [
    "    # Do the same plot but split up by energy ranges\n",
    "    fig, axes = plt.subplots(2, 2, sharex=True, sharey=True, figsize=(8, 6))\n",
    "    for i, a in enumerate(apertures):\n",
    "        ax = axes[np.unravel_index(i, axes.shape)]\n",
    "        plot_aeff(tper, tper['Aeff'][:, i, :], np.arange(-9, 1), ax)\n",
    "        ax.set_title('channel {}'.format(a))\n",
    "    for i in [0, 1]:\n",
    "        axes[1, i].set_xlabel('wavelength [$\\AA{}$]')    \n",
    "        axes[i, 0].set_ylabel('$A_\\mathrm{eff}$ [cm$^2]$')\n",
    "    fig.subplots_adjust(bottom=0.13, left=0.13, top=.85, wspace=0.1, hspace=0.15)\n",
    "    \n",
    "    #fig.savefig(os.path.join(get_path('figures'), 'Aeff_16CCDs.png'))\n",
    "    #fig.savefig(os.path.join(get_path('figures'), 'Aeff_16CCDs.pdf'))"
   ]
  },
  {
   "cell_type": "markdown",
   "metadata": {},
   "source": [
    "This plot shows the effective area for each of the four channels separately, using the same color coding as above. The channels are very similar and at this scale the difference can hardly be seen, but in particular there is a slight offset in the position of the chip gaps between channel 0 and 1 on the one side and 2 and 3 on the other. Note that for each order, the effective area drops to 0, when the order falls into a chip gap, but the effective area summed over all orders does not, at least in those regions where more than one order contributes signal."
   ]
  },
  {
   "cell_type": "markdown",
   "metadata": {},
   "source": [
    "## Spectral resolving power\n",
    "\n",
    "I define the resolving power as:\n",
    "$R = \\frac{\\lambda}{\\Delta \\lambda} = \\frac{d_x}{FWMH}$\n",
    "where $\\lambda$ is the wavelength of a spectral line with negligible intrinsic\n",
    "width, and $\\Delta \\lambda$ is the observed width of this feature. Since the\n",
    "detector does not give the wavelength directly, $d_x$ and the $FWHM$ are linear\n",
    "distances measured as follows: Events that hit a CCD are projected (not propagated, that would bring them out of focus) into a plane. The $FWMH$ is the full width at half maximum of the event distribution and $d_x$ is the distance between\n",
    "the center of a diffracted order and the zeroth order.\n",
    "Since the CCDs are flat and do not follow the Rowland circle exactly, the $R$ is somewhat lower than the $R$ expected on the Rowland circle. However, this effect is so small that it is negligible in practice. There is one problem with this procedure: If the center of the photon distribution is very close to a chip gap, then only a faction of the true distribution is visible on the chip and naturally the $FWHM$ of this distribution will be narrower than the true distribution. Thus, we also calculate the $R$ for a cylindrical detector on the Rowland circle and use the $R$ derived this way for positions close to the chip edge."
   ]
  },
  {
   "cell_type": "code",
   "execution_count": null,
   "metadata": {},
   "outputs": [],
   "source": [
    "def plot_res(tab, res, ax=None, orders=np.arange(-9, -1)):\n",
    "    if ax is None:\n",
    "        fig = plt.figure()\n",
    "        ax = fig.add_subplot(111)\n",
    "\n",
    "    for o in orders:\n",
    "        i = tab.orders == o\n",
    "        ax.plot(tab['wave'], res[:, i], label='order {0}'.format(tab.orders[i][0]))\n",
    "        \n",
    "    temp = ax.set_xlim([8, 55])\n",
    "    return ax"
   ]
  },
  {
   "cell_type": "code",
   "execution_count": null,
   "metadata": {
    "scrolled": true
   },
   "outputs": [],
   "source": [
    "    fig = plt.figure(figsize=(8, 5))\n",
    "    ax = fig.add_subplot(111)\n",
    "    ax = plot_res(tper, tper['R4'], ax, orders=np.arange(-12, -1))\n",
    "    ax.plot(tarc['wave'], tarc['R_disp'], 'k', label='averaged')\n",
    "    ax.legend()\n",
    "    temp = ax.set_title('Spectral resolving power')\n",
    "    #ax.plot(wave, np.ma.average(res_ma[:, 0, :-1], weights=aeff[:, :-1], axis=1), 'k:')\n",
    "    ax.set_xlabel('wavelength [$\\AA{}$]')\n",
    "    ax.set_ylabel('resolving power')\n",
    "    ax.set_xlim(10., 70.)\n",
    "    #ax.set_xlim(5., 50.)\n",
    "    ax.set_ylim(2400, 4400)\n",
    "    fig.subplots_adjust(bottom=0.13, left=0.13, top=.85)\n",
    "    fig.savefig(os.path.join(get_path('figures'), 'respower.png'), dpi=600, bbox_inches='tight')\n",
    "    fig.savefig(os.path.join(get_path('figures'), 'respower.pdf'))"
   ]
  },
  {
   "cell_type": "code",
   "execution_count": null,
   "metadata": {},
   "outputs": [],
   "source": [
    "def plot_res_mlambda(tab, res, ax=None, orders=np.arange(-9, -1)):\n",
    "    if ax is None:\n",
    "        fig = plt.figure()\n",
    "        ax = fig.add_subplot(111)\n",
    "\n",
    "    for o in orders:\n",
    "        i = tab.orders == o\n",
    "        ax.plot(tab['wave'] * o, res[:, i], label='order {0}'.format(tab.orders[i][0]))\n",
    "    return ax"
   ]
  },
  {
   "cell_type": "code",
   "execution_count": null,
   "metadata": {},
   "outputs": [],
   "source": [
    "    fig = plt.figure(figsize=(8, 5))\n",
    "    ax = fig.add_subplot(111)\n",
    "    ax = plot_res_mlambda(tarc, tarc['R4'], ax, orders=np.arange(-12, -1))\n",
    "    #ax.plot(tarc['wave'], tarc['R_disp'], 'k', label='averaged')\n",
    "    ax.legend()\n",
    "    temp = ax.set_title('Spectral resolving power')\n",
    "    #ax.plot(wave, np.ma.average(res_ma[:, 0, :-1], weights=aeff[:, :-1], axis=1), 'k:')\n",
    "    ax.set_xlabel(' m * wavelength [$\\AA{}$]')\n",
    "    ax.set_ylabel('resolving power')\n",
    "    #ax.set_xlim(10., 70.)\n",
    "    #ax.set_xlim(5., 50.)\n",
    "    #ax.set_ylim(2400, 4400)\n",
    "    fig.subplots_adjust(bottom=0.13, left=0.13, top=.85)\n",
    "    #fig.savefig(os.path.join(get_path('figures'), 'respower.png'), dpi=600, bbox_inches='tight')\n",
    "    #fig.savefig(os.path.join(get_path('figures'), 'respower.pdf'))"
   ]
  },
  {
   "cell_type": "markdown",
   "metadata": {},
   "source": [
    "Spectral resolving power for individual orders. The resolving power is only calculated if a certain minimum number of photons is detected in an order. If most photons fall into a chip gap, then values on the curve might be missing. The first plot shows the resolving power over the wavelength, the second one over $m$ (the order number) times the wavelength. $m\\lambda$ sets the dispersion angle, so the second plot shows that the observed resolving power is essentially only a function of the dispersion angle where the photons are found and other parameters, such as the energy, are not important. Photons with a high energy are better reflected at small angles and thus the SPOs in the inner rows are more important than for photons with a lower energy. Thus, one expects an energy dependent PSF and possibly an energy dependent resolving power at the same diffraction angle. The top plot shows the same data, but simply plotted over the wavelength."
   ]
  },
  {
   "cell_type": "code",
   "execution_count": null,
   "metadata": {},
   "outputs": [],
   "source": [
    "    fig, axes = plt.subplots(2, 2, sharex=True, sharey=True, figsize=(8, 6))\n",
    "    for i, a in enumerate(apertures):\n",
    "        ax = plot_res(tper, tper['R'][:, i, :], axes[np.unravel_index(i, axes.shape)])\n",
    "        temp = ax.set_title('R for channel {}'.format(a))\n",
    "        #ax.plot(wave, np.ma.average(res_ma[:, 0, :-1], weights=aeff[:, :-1], axis=1), 'k:')\n",
    "\n",
    "    for i in [0, 1]:\n",
    "        axes[1, i].set_xlabel('wavelength [$\\AA{}$]')    \n",
    "        axes[i, 0].set_ylabel('resolving power')\n",
    "    fig.subplots_adjust(bottom=0.13, left=0.13, top=.85, wspace=0.1, hspace=0.15)\n",
    "    fig.subplots_adjust(bottom=0.13, left=0.13, top=.85)\n",
    "    #fig.savefig(os.path.join(get_path('figures'), 'respower.png'))\n",
    "    #fig.savefig(os.path.join(get_path('figures'), 'respower.pdf'))"
   ]
  },
  {
   "cell_type": "code",
   "execution_count": null,
   "metadata": {
    "scrolled": true
   },
   "outputs": [],
   "source": [
    "    fig = plt.figure()\n",
    "    ax = fig.add_subplot(111)\n",
    "    ax.plot(tper['wave'], tper['R_disp'], label='perfect alignment')\n",
    "    ax.plot(tarc['wave'], tarc['R_disp'], label='baseline tolerance')\n",
    "    ax.set_xlabel('wavelength [$\\AA{}$]')\n",
    "    ax.set_ylabel('resolving power')\n",
    "    fig.subplots_adjust(bottom=0.13, left=0.13, top=.85)\n",
    "    ax.legend(loc='lower right')\n",
    "    fig.savefig(os.path.join(get_path('figures'), 'averageres.png'))\n",
    "    fig.savefig(os.path.join(get_path('figures'), 'averageres.pdf'), bbox_inches='tight')\n"
   ]
  },
  {
   "cell_type": "markdown",
   "metadata": {},
   "source": [
    "This figure shows the resolving power averaged over all channels and all dispersed spectral orders. When averaging, values are weighted by their respective effective area. There are some drops in $R$ that occur when a wavelength is observed where two orders with slightly different $R$ contribute and one of them falls into a chip gap for a certain wavelength. In the region $39-44\\;\\unicode[serif]{xC5}$ only a single order contributes, and so we see the $R$ rising with wavelength as in the previous plots. For small wavelengths $<12\\unicode[serif]{xC5}$ very low orders contribute to the signal, bringing down the average $R$. \n",
    "\n",
    "The plot shows almost no difference between the perfect alignment and the the baseline alignment tolerance scenario. This is consistent with the results in the [Alignment budget memo](http://space.mit.edu/home/guenther/ARCUS/Tolerances.html), the drop in $R$ is only one or two percent. If at all, the baseline alignment tolerance curve looks a little smoother and the drops or peaks (e.g. around $46\\unicode[serif]{xC5}$) that happen when one order falls int oa chip gap are less pronounced. This is likely just an artifact of the wavelength step used in these simulations. If the signal is spread out a little more on the CCD, then photons are still collected in cases where the perfect alignment scenario has insufficient signal to calculate $R$.\n",
    "\n",
    "Over most of the wavelength range, $R$ is almost constant. That is not a coincidence, but rooted in the physics of CAT gratings. The spectral resolving power is measured as $R = \\frac{d_x}{FWMH}$. The $FWHM$ is dominated by the mirror point spread function (PSF). In practice the PSF is slightly energy dependent, but this is not captured in the simple mirror model used for these simulations. All other effects on the $FWHM$ are very small (for example, it technically also depends on where on a CCD the signal falls since the CCDs are not curved and do not follow the Rowland circle exactly, but for Arcus this effect is negligible). So, the only variable left is $d_x$ the distance of the spot from the zeroth order. Photons with a longer wavelength are dispersed to larger distances and thus have larger $d_x$ which explains why $R$ increases with wavelength for every order. On the other hand, CAT gratings most efficiently diffract photons to a particular angle (the *blaze peak*). Thus, for longer and longer wavelengths the signal in an order becomes weaker, because the position of the order moves away from the blaze peak. At the same time, the next lower order moves towards the blaze peak and becomes increasingly stronger. In other words, the higher order (which has a higher $R$) drops in effective area, while the next lower order gains effective area. Together, this means that the averaged resolving power stays essentially constant."
   ]
  },
  {
   "cell_type": "markdown",
   "metadata": {},
   "source": [
    "## Figure of merit"
   ]
  },
  {
   "cell_type": "code",
   "execution_count": null,
   "metadata": {},
   "outputs": [],
   "source": [
    "def combine_figures_of_merit(aeff, res):\n",
    "    out = np.zeros(aeff.shape)\n",
    "    for i in range(len(out)):\n",
    "        res_i = res[:, 0, i]\n",
    "        sort_res = np.argsort(res_i)\n",
    "        merits = np.sqrt(res[:, i] * aeff[:, i])\n",
    "        out[i] = np.nansum(merits[sort_res[:2]])\n",
    "\n",
    "    return out"
   ]
  },
  {
   "cell_type": "code",
   "execution_count": null,
   "metadata": {},
   "outputs": [],
   "source": [
    "def plot_merrit(tab, aeff, res, orders=np.arange(-9, -2)):\n",
    "    fig = plt.figure()\n",
    "    ax = fig.add_subplot(111)\n",
    "    #ax.plot(wave, combine_figures_of_merit(aeff, res), 'k',\n",
    "    #            label='top 2 orders\\nadded')\n",
    "    for o in orders:\n",
    "        i = tab.orders == o\n",
    "        ax.plot(tab['wave'], np.sqrt(res[:, i] * aeff[:, i]),\n",
    "                label='order {0}'.format(tab.orders[i][0]))\n",
    "    ax.legend()\n",
    "    ax.set_xlabel('wavelength [$\\AA{}$]')\n",
    "    ax.set_ylabel('Figure of merrit [cm]')\n",
    "    return fig, ax"
   ]
  },
  {
   "cell_type": "code",
   "execution_count": null,
   "metadata": {
    "scrolled": false
   },
   "outputs": [],
   "source": [
    "fig, ax = plot_merrit(tper, tper['Aeff4'], tper['R4'])\n",
    "ax.set_xlim([5, 70])\n",
    "temp = ax.set_title('Figure of merit for line detection')"
   ]
  },
  {
   "cell_type": "markdown",
   "metadata": {},
   "source": [
    "The figure of merit for line detection is $\\sqrt{R*A_\\mathrm{eff}}$. It can be derived from the plots above and is shown here for the most relevant orders. The figure of merit changes with the scientific task at hand (measure line shifts, measure line fluxes), but this particular form is used in the Arcus proposal and thus shown here for illustration."
   ]
  },
  {
   "cell_type": "markdown",
   "metadata": {},
   "source": [
    "## Summary\n",
    "\n",
    "In this memo, I have show the performance of Arcus over the design bandpass of the gratings. These numbers are not perfect and still need to be compared to Casey DeRoo's independent ray-trace effort and this notebook will be updated. Furthermore, the Arcus configuration used in these simulations uses a 1 nm SiO layer on the SPOs for an average reflection angle of 0.8 deg. However, the SiO layer will be thicker (and thus reduce the effective area around the oxygen edge) or might be covered with a coating. Simulation will be updated in the next few weeks to reflect that. \n",
    "\n",
    "All the \"data behind the figures\" is available in a Dropbox account, please contact Moritz for the links."
   ]
  },
  {
   "cell_type": "markdown",
   "metadata": {},
   "source": [
    "## Appendix: Comparison to Casey DeRoo raytrace results"
   ]
  },
  {
   "cell_type": "markdown",
   "metadata": {},
   "source": [
    "This appendix compared the effective areas presented in detail above with tabulated arcusTrace simulations from C. DeRoo. The plots are shown below without a detailed analysis. An analysis in August 2018 showed both codes to give almost identical effective areas, but this comparison is only meaningful, if both codes are updated in lock-step. In September 2018, the effective area shown here are smaller than the tabulated values from arcusTrace because certain properties of Arcus have been updated here (SPO surface is SiO2, shadowing by L2 side-walls), but the tabulated area from Arcustrace are not yet updated."
   ]
  },
  {
   "cell_type": "code",
   "execution_count": null,
   "metadata": {},
   "outputs": [],
   "source": [
    "casey1 = Table.read(os.path.join(arcus.conf.caldb_inputdata, 'raytrace_areas', \n",
    "                                 'ExtendedBandpass_PerformanceResults_14dec17', 'IndividualChannels',\n",
    "                                 '171211_ArcusPerf_Uncoated_N10^5_OC3.csv'),\n",
    "                                 #'171126_arcusTrace_EffAreaByOrder_Uncoated_OC2.csv'), \n",
    "                    format='ascii')\n",
    "ordinals = ['0th', '1st', '2nd', '3rd', '4th', '5th', '6th', '7th', '8th', '9th', '10th', '11th', '12th']\n",
    "casey1.orders = -np.arange(0, 13)\n",
    "casey1['Aeff'] = np.vstack([casey1['EA_{}Order'.format(o)] for o in ordinals]).T\n",
    "casey1['R'] = np.vstack([casey1['Res_{}Order'.format(o)] for o in ordinals]).T\n",
    "casey1['wave'] *= 10  # nm to Ang"
   ]
  },
  {
   "cell_type": "code",
   "execution_count": null,
   "metadata": {},
   "outputs": [],
   "source": [
    "fig, axes = plt.subplots(1, 1, sharex=True, sharey=True, figsize=(8, 6))\n",
    "plot_aeff(tper, tper['Aeff'][:, 0, :], np.arange(-9, 1), axes)\n",
    "\n",
    "axes.set_xlabel('wavelength [$\\AA{}$]')    \n",
    "axes.set_ylabel('$A_\\mathrm{eff}$ [cm$^2]$')\n",
    "fig.subplots_adjust(bottom=0.13, left=0.13, top=.85, wspace=0.1, hspace=0.15)"
   ]
  },
  {
   "cell_type": "code",
   "execution_count": null,
   "metadata": {},
   "outputs": [],
   "source": [
    "fig, axes = plt.subplots(1, 1, sharex=True, sharey=True, figsize=(8, 6))\n",
    "plot_aeff(casey1, casey1['Aeff'], np.arange(-9, 1), axes)\n",
    "\n",
    "axes.set_xlabel('wavelength [$\\AA{}$]')    \n",
    "axes.set_ylabel('$A_\\mathrm{eff}$ [cm$^2]$')\n",
    "fig.subplots_adjust(bottom=0.13, left=0.13, top=.85, wspace=0.1, hspace=0.15)"
   ]
  },
  {
   "cell_type": "code",
   "execution_count": null,
   "metadata": {},
   "outputs": [],
   "source": [
    "colors = ['r', 'b', 'y', 'c', 'g', 'm', '#7A68A6', '#188487', '#E24A33']\n",
    "\n",
    "fig = plt.figure(figsize=(12, 5))\n",
    "ax = fig.add_subplot(111)\n",
    "\n",
    "for i, o in enumerate(np.arange(-9, 1)): #, colorcycle):\n",
    "    if o !=0:\n",
    "        ax.plot(tarc['wave'], tarc['Aeff'][:, 0, tarc.orders == o], label='order {0}'.format(o), c=colors[i])\n",
    "        ax.plot(casey1['wave'], casey1['Aeff'][:, casey1.orders == o], ':', label='__no_legend__'.format(o), c=colors[i])\n",
    "    else:\n",
    "        ax.plot(tarc['wave'], tarc['Aeff'][:, 0, tarc.orders == 0], 'k', label='0th order')\n",
    "        ax.plot(casey1['wave'], casey1['Aeff'][:, casey1.orders == 0], ':', c='k', label='__no_legend__')\n",
    "\n",
    "ax.legend()\n",
    "temp = ax.set_xlim([5, 60])\n"
   ]
  },
  {
   "cell_type": "code",
   "execution_count": null,
   "metadata": {},
   "outputs": [],
   "source": [
    "display_codetoggle()"
   ]
  }
 ],
 "metadata": {
  "anaconda-cloud": {},
  "hide_input": false,
  "kernelspec": {
   "display_name": "Python [conda env:mayavi3]",
   "language": "python",
   "name": "conda-env-mayavi3-py"
  },
  "language_info": {
   "codemirror_mode": {
    "name": "ipython",
    "version": 3
   },
   "file_extension": ".py",
   "mimetype": "text/x-python",
   "name": "python",
   "nbconvert_exporter": "python",
   "pygments_lexer": "ipython3",
   "version": "3.6.6"
  }
 },
 "nbformat": 4,
 "nbformat_minor": 1
}
