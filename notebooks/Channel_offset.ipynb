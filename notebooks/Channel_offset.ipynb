{
 "cells": [
  {
   "cell_type": "markdown",
   "metadata": {},
   "source": [
    "# Choose channel positions to reduce chip gaps"
   ]
  },
  {
   "cell_type": "code",
   "execution_count": null,
   "metadata": {},
   "outputs": [],
   "source": [
    "from nbtemplate import display_header, display_codetoggle, get_path\n",
    "display_header('Channel_offset.ipynb', status='Channel positioning for Arcus 2020')"
   ]
  },
  {
   "cell_type": "code",
   "execution_count": null,
   "metadata": {},
   "outputs": [],
   "source": [
    "import numpy as np\n",
    "import astropy.units as u\n",
    "import matplotlib.pyplot as plt\n",
    "import matplotlib.patches as patches\n",
    "%matplotlib inline\n",
    "\n",
    "from transforms3d.affines import decompose\n",
    "from arcus.arcus import DetCamera, defaultconf\n",
    "from arcus.ralfgrating import load_table\n",
    "cam = DetCamera(defaultconf)\n",
    "gratings = load_table('gratings', 'facets')"
   ]
  },
  {
   "cell_type": "markdown",
   "metadata": {},
   "source": [
    "*I suggest to stagger Arcus channels 5 mm apart. To do that, one camera is offset by 10 mm with respect to the other (or in other words: each is offset 5 mm with respect to some nominal camera position), and each of the two channels with the same \"nominal optical axes\" is offset by +/- 2.5 mm with respect to that common, nominal optical axis.*"
   ]
  },
  {
   "cell_type": "markdown",
   "metadata": {},
   "source": [
    "## Goal\n",
    "\n",
    "Arcus has four different channels, two dispersing in positive x direction and two dispersing in negative x direction. These channels are offset from each other in y (cross-dispersion) direction so that the traces can be identified separately on the CCDs. Each channel has gaps in its effective area when the photons hit a chip gap. For a fully symmetric layout, the four channels would have chip gaps at the same wavelengths, leading to gaps in wavelength coverage. For a steady pointing, this could lead to gaps in wavelength coverage. To remedy this problem, the CCDS are not placed symmetrically. One camera of 8 CCDs is placed a few mm further away from the geometric center of the focal plane. This is possible without a loss of resolving power, if the cameras are not exact copies, but the are CCDs located at slightly different heights in each camera to account for their different position on the Rowland torus. *This is the arrangement we proposed in 2018*.\n",
    "\n",
    "With this arrangement, only two channels have identical chip gaps. In this notebook, we look at moving the two channels that disperse in the same direction with respect to each other, so that chip gaps are distributed such that two channels never have a chip gap at the same position.\n",
    "\n",
    "### How far apart are the chips?\n",
    "\n",
    "The widest gap from pixel edge to pixel edge occurs for chip gaps that are placed below the frame of the optical blocking filters. These filters are only as wide as 3 CCDs, and thus three frames are needed to cover the 8 CCDs of one camera. The gap here is 4 mm wide. Adding 0.5 mm margin on each side because the calibration is less accurate when part of the line spread function falls in a chip gap, channels need to be staggered by 5 mm. Note that displacing channels this way leads to a reduction in resolving power, because no longer are the channels using the same optical axis that is used to place the CCDs on the Rowland circle. However, a distance of a few mm is far below the tolerances.\n",
    "\n",
    "### Will dither take care of it?\n",
    "Dithering between observations is another way to mitigate the impact of chip gaps. If the instrument dithers enough, it might not matter that the chip gaps are at the same locations for boresight pointing for two channels. A gap of 5 mm in the focal plane corresponds to the following dither on the sky:"
   ]
  },
  {
   "cell_type": "code",
   "execution_count": null,
   "metadata": {},
   "outputs": [],
   "source": [
    "(np.sin(5/12000) * u.rad).to(u.arcmin)"
   ]
  },
  {
   "cell_type": "markdown",
   "metadata": {},
   "source": [
    "That's much larger than the \"natural dither\" that we expect from the aspect control. So, for dither to smooth out chip gaps, Arcus would have to implement some deliberate dithering strategy.\n",
    "\n",
    "### Will observing multiple orders take care of it?\n",
    "At short wavelength, each wavelength is observed in more than one order, e.g. for 20 Å, Arcus will see order -6 and -7. When order -7 hits a chip gap, order -6 is still available. However, much of the signal is concentrated in just one order (-7 for 20 Å) and above 40 Å we see only one order anyway."
   ]
  },
  {
   "cell_type": "markdown",
   "metadata": {},
   "source": [
    "## Focal plane layout\n",
    "There are two different ways to look at the focal plane. One is in physical space in mm, the other in wavelength (or more precisely $m\\lambda$) space. To look at the latter, I imagine a grating on-axis and calculate which dispersion angles $\\phi$ hit chips in the focal plan and which do not. Since the grating equation is $m\\lambda = d\\;sin(\\phi)$ where $d$ is the grating constant, it natural to plot $m\\lambda$. In this metric, the position of the chip gaps is a the same for all orders."
   ]
  },
  {
   "cell_type": "code",
   "execution_count": null,
   "metadata": {},
   "outputs": [],
   "source": [
    "def _plot_cam_geom(ax, camera, conf, xlim):\n",
    "    for e in camera.elements:\n",
    "        trans, rot, zoom, shear = decompose(e.pos4d)\n",
    "        det = patches.Rectangle(trans[[0, 1]] - zoom[[1,2]], zoom[1] * 2, zoom[2] * 2, \n",
    "                             linewidth=1, edgecolor='orange', facecolor='orange', label='detector')\n",
    "        ax.add_patch(det)\n",
    "    \n",
    "    for channame, chan in conf['pos_opt_ax'].items():\n",
    "        x, y = chan[:2]\n",
    "        if 'm' in channame:\n",
    "            ax.annotate(\"\", xy=(xlim[0], y + 0), xycoords='data',\n",
    "                        xytext=(min(x, xlim[1]), y), textcoords='data',\n",
    "                        arrowprops=dict(arrowstyle=\"->\",\n",
    "                                        connectionstyle=\"arc3\",\n",
    "                                        ls=':', lw=3, ec='0.5'),\n",
    "                        )\n",
    "        else:\n",
    "            ax.annotate(\"\", xy=(xlim[1], y + 0), xycoords='data',\n",
    "                        xytext=(max(x, xlim[0]), y), textcoords='data',\n",
    "                        arrowprops=dict(arrowstyle=\"->\",\n",
    "                                        connectionstyle=\"arc3\",\n",
    "                                        ls=':', lw=3, ec='0.5'),\n",
    "                        )\n",
    "       \n",
    "        if (x > xlim[0]) and (x < xlim[1]):\n",
    "            ax.annotate(\"\",\n",
    "                        xy=(min(x + 0.1 * (xlim[1] - xlim[0]), xlim[1]), y + 0), \n",
    "                        xycoords='data',\n",
    "                        xytext=(x, y), textcoords='data',\n",
    "                        arrowprops=dict(arrowstyle=\"simple\",\n",
    "                                        connectionstyle=\"arc3\", ec='g', fc='g'),\n",
    "                        )\n",
    "            ax.annotate(\"\",\n",
    "                        xy=(x + 0, y + 20), \n",
    "                        xycoords='data',\n",
    "                        xytext=(x, y), textcoords='data',\n",
    "                        arrowprops=dict(arrowstyle=\"simple\",\n",
    "                                        connectionstyle=\"arc3\", ec='b'),\n",
    "                        )\n",
    "\n",
    "\n",
    "            optax = ax.plot([x], [y], 'bp', label='opt. axis', ms=10, zorder=10)\n",
    "\n",
    "    ax.set_ylim(-15, 30)\n",
    "    ax.set_xlim(xlim)\n",
    "    ax.set_xlabel('distance [mm]')\n",
    "    ax.set_ylabel('distance [mm]')"
   ]
  },
  {
   "cell_type": "code",
   "execution_count": null,
   "metadata": {},
   "outputs": [],
   "source": [
    "def mlam_boundaries(camera, opt_ax_x, opt_ax_f):\n",
    "    phi = np.zeros((len(camera.elements), 2))\n",
    "    for i, e in enumerate(camera.elements):\n",
    "        for j, fac in enumerate([-1, 1]):\n",
    "            camedge = e.geometry['center'] + fac * e.geometry['v_y']\n",
    "            phi[i, j] = np.arctan2(opt_ax_x + camedge[0], opt_ax_f + camedge[2])\n",
    "    return (np.sin(phi) * gratings['period'].mean() * gratings['period'].unit).to(u.Angstrom)"
   ]
  },
  {
   "cell_type": "code",
   "execution_count": null,
   "metadata": {},
   "outputs": [],
   "source": [
    "def _plot_mlam(ax, camera, conf):\n",
    "    labels = list(conf['pos_opt_ax'].keys())\n",
    "    for i, k in enumerate(conf['pos_opt_ax'].values()):\n",
    "        out = mlam_boundaries(camera, k[0], conf['f'])\n",
    "        pos_width = out.value.copy()\n",
    "        pos_width[:, 1] = pos_width[:, 1] - pos_width[:, 0]\n",
    "        # turn around everything for channels that disperse the other way\n",
    "        if 'm' in labels[i]:\n",
    "            pos_width = -pos_width\n",
    "        ax.broken_barh(pos_width, (i, .8), color='y')\n",
    "    ax.set_xlabel('m$\\lambda [\\AA]$')\n",
    "    ax.set_label('channel')\n",
    "    ax.set_yticks([.5, 1.5, 2.5, 3.5])\n",
    "    ax.set_yticklabels(labels)\n",
    "\n",
    "def plot_mlam(camera, conf):\n",
    "    fig, axes = plt.subplots(nrows=2, figsize=(10, 5), constrained_layout=True)\n",
    "    for ax in axes:\n",
    "        _plot_mlam(ax, camera, conf)\n",
    "    axes[1].set_xlim(-160, -80)\n",
    "    axes[1].set_title('Blaze peak')\n",
    "    axes[0].set_xlim(-20, 60)\n",
    "    axes[0].set_title('Zero order and low orders')\n",
    "    axes[0].axvline(x=0, color='b')\n",
    "    return fig, axes"
   ]
  },
  {
   "cell_type": "code",
   "execution_count": null,
   "metadata": {},
   "outputs": [],
   "source": [
    "def plot_camgeom(camera, conf):\n",
    "    fig, axes = plt.subplots(nrows=2, figsize=(10, 5), constrained_layout=True, \n",
    "                             subplot_kw={'aspect': 'equal'})\n",
    "    for ax, xlim in zip(axes, [[-400, -220], [220, 400]]):\n",
    "        _plot_cam_geom(ax, camera, conf, xlim)\n",
    "    axes[0].set_title('camera 1')\n",
    "    axes[1].set_title('camera 2')\n",
    "    return fig, axes"
   ]
  },
  {
   "cell_type": "code",
   "execution_count": null,
   "metadata": {},
   "outputs": [],
   "source": [
    "class Camera5(DetCamera):\n",
    "    offset = [0, 5.]\n",
    "    \n",
    "cam5 = Camera5(defaultconf)"
   ]
  },
  {
   "cell_type": "code",
   "execution_count": null,
   "metadata": {},
   "outputs": [],
   "source": [
    "class Camera55(DetCamera):\n",
    "    offset = [-5, 5.]\n",
    "    \n",
    "cam55 = Camera55(defaultconf)"
   ]
  },
  {
   "cell_type": "code",
   "execution_count": null,
   "metadata": {},
   "outputs": [],
   "source": [
    "arcus2018 = {'f': defaultconf['f'],\n",
    "             'pos_opt_ax': {'1': [-300,   -7.5,    0. ,    1. ],\n",
    "                            '1m': [300,  -2.5,   0. ,   1. ],\n",
    "                            '2': [-300,    2.5,    0. ,    1. ],\n",
    "                            '2m': [300,   7.5,   0. ,   1. ]},\n",
    "            }\n",
    "arcus = {'f': defaultconf['f'],\n",
    "             'pos_opt_ax': {'1': [-302.5,   -7.5,    0. ,    1. ],\n",
    "                            '1m': [297.5,  -2.5,   0. ,   1. ],\n",
    "                            '2': [-297.5,    2.5,    0. ,    1. ],\n",
    "                            '2m': [302.5,   7.5,   0. ,   1. ]},\n",
    "            }"
   ]
  },
  {
   "cell_type": "code",
   "execution_count": null,
   "metadata": {},
   "outputs": [],
   "source": [
    "fig, axes = plt.subplots(figsize=(10, 2), constrained_layout=True)\n",
    "_plot_cam_geom(axes, cam5, defaultconf, [-700, 700])"
   ]
  },
  {
   "cell_type": "markdown",
   "metadata": {},
   "source": [
    "The figure above shows the physical layout of the CCDs (orange) in the focal plane. Given the resolution of the figure, most chip gaps are not visible. Also note, that the x and the y axis are scaled differently. The purpose if this figure is only to give a high-level overview of the geometry. Two cameras with eight CCDs each are located in the focal plane. In this plot, 0 is the geometric center of all the Rowland tori involved. Note that the cameras are intentionally not symmetric to 0.\n",
    "\n",
    "The position of the four optical axes for the four channels is marked with a blue pentagon.  The $x$-axes (green arrows) and the $y$-axes (blue arrows) are parallel to each other and point in the same direction. This means that the $x$ value in optical channel coordinate systems (OCCS) 1 and 2 (origin on the left) increases along dispersed spectrum (gray dashed arrow) while the $x$ values in OCCS 1m and 2m (origin on the right) decreases because the direction of dispersion is opposite to that of channel 1 and 2. All coordinate systems are right-handed and thus both $z$-axes point out of the plane of the drawing.\n",
    "\n",
    "In the following, instead of showing the whole focal plane, I zoom in to the two regions close to the optical axes in the two cameras."
   ]
  },
  {
   "cell_type": "markdown",
   "metadata": {},
   "source": [
    "### Arcus 2018\n",
    "\n",
    "First, we look at the layout that we proposed in 2018 (always knowing that it would be revisited later). The two channels in camera 1 and camera 2 are located at the same x position."
   ]
  },
  {
   "cell_type": "code",
   "execution_count": null,
   "metadata": {},
   "outputs": [],
   "source": [
    "fig, axes = plot_camgeom(cam5, arcus2018)"
   ]
  },
  {
   "cell_type": "markdown",
   "metadata": {},
   "source": [
    "Focal plane layout for the Arcus 2018 proposal, zoomed in on a the regions close to the zeroths orders. Colors and arrows have the same meaning as above, but now the $x$ and $y$ axis now have the same scaling. Note how the cameras are not symmetric, e.g. there is a chip gap as -380 mm, but not at +380 mm. Consequently, the zeorth order in camera 1 are located at the center of the CCD, while the zeroths orders in camera 2 are offset by about 5 mm. Chip gaps have a different width because those that are located below the frame of the optical blocking filter are chosen to be wider."
   ]
  },
  {
   "cell_type": "code",
   "execution_count": null,
   "metadata": {},
   "outputs": [],
   "source": [
    "fig, axes = plot_mlam(cam5, arcus2018)"
   ]
  },
  {
   "cell_type": "markdown",
   "metadata": {},
   "source": [
    "The figure shows $m\\lambda$ coverage of the Arcus 2018 layout. The position of the zeroths orders is marked by a blue line. The $m\\lambda$ numbers are predominately negative, because we operate the CAT gratings in negative diffraction orders. Channel 1 and 2 are placed at the same $x$ values and thus show the same chip gaps, and channels 1m and 2m are at the same $x$ values. However, their zeroth orders run into the negative $x$ direction and, because the cameras are offset by 5 mm, their chip gaps are different from channels 1 and 2."
   ]
  },
  {
   "cell_type": "markdown",
   "metadata": {},
   "source": [
    "### Proposed channel layout"
   ]
  },
  {
   "cell_type": "code",
   "execution_count": null,
   "metadata": {},
   "outputs": [],
   "source": [
    "fig, axes = plot_camgeom(cam55, arcus)"
   ]
  },
  {
   "cell_type": "markdown",
   "metadata": {},
   "source": [
    "The plot shows the proposed layout of the focal plane.\n",
    "I propose to increase the offset between camera 1 and 2 from 5 mm to 10 mm (note that the position of the gaps between camera 1 and 2 now differs by 10 mm) and to offset the two channels that have their zeroths orders on the same chip by +/- 2.5 mm, such that they are spaced 5 mm apart. With this layout, all zeroths orders are still at a comfortable distance from the chip edges and thus a slight (less than a few armin in $x$ direction) error in the target acquisition will still place all zeroths orders on a CCD."
   ]
  },
  {
   "cell_type": "code",
   "execution_count": null,
   "metadata": {},
   "outputs": [],
   "source": [
    "fig, axes = plot_mlam(cam55, arcus)"
   ]
  },
  {
   "cell_type": "markdown",
   "metadata": {},
   "source": [
    "The $m\\lambda$ plots shows that in this layout, chip gaps do not overlap."
   ]
  },
  {
   "cell_type": "markdown",
   "metadata": {},
   "source": [
    "## Summary\n",
    "\n",
    "I suggest to stagger Arcus channels 5 mm apart. To do that, one camera is offset by 10 mm with respect to the other (or in other words: each is offset 5 mm with respect to some nominal camera position), and each of the two channels with the same \"nominal optical axes\" is offset by +/- 2.5 mm with respect to that common, nominal optical axis. "
   ]
  },
  {
   "cell_type": "markdown",
   "metadata": {},
   "source": [
    "## Appendix\n",
    "\n",
    "### Software check\n",
    "The plots above are made \"by hand\" by passing in channel positions. The plots below show the layout that is implemented in the software versions for arcus that was used to run this notebook (see software versions listed above)."
   ]
  },
  {
   "cell_type": "code",
   "execution_count": null,
   "metadata": {},
   "outputs": [],
   "source": [
    "cam = DetCamera(defaultconf)\n",
    "fig, axes = plot_camgeom(cam, defaultconf)"
   ]
  },
  {
   "cell_type": "code",
   "execution_count": null,
   "metadata": {},
   "outputs": [],
   "source": [
    "fig, axes = plot_mlam(cam, defaultconf)"
   ]
  },
  {
   "cell_type": "code",
   "execution_count": null,
   "metadata": {},
   "outputs": [],
   "source": [
    "display_codetoggle()"
   ]
  }
 ],
 "metadata": {
  "hide_input": false,
  "kernelspec": {
   "display_name": "Python [conda env:mayavi46]",
   "language": "python",
   "name": "conda-env-mayavi46-py"
  },
  "language_info": {
   "codemirror_mode": {
    "name": "ipython",
    "version": 3
   },
   "file_extension": ".py",
   "mimetype": "text/x-python",
   "name": "python",
   "nbconvert_exporter": "python",
   "pygments_lexer": "ipython3",
   "version": "3.8.2"
  }
 },
 "nbformat": 4,
 "nbformat_minor": 2
}
