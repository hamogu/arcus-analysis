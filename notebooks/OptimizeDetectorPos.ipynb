{
 "cells": [
  {
   "cell_type": "markdown",
   "metadata": {},
   "source": [
    "# Numerical optimization of the detector placement"
   ]
  },
  {
   "cell_type": "code",
   "execution_count": null,
   "metadata": {
    "collapsed": false
   },
   "outputs": [],
   "source": [
    "from nbtemplate import display_header, display_codetoggle, get_path\n",
    "display_header('OptimizeDetectorPos.ipynb', status='draft')"
   ]
  },
  {
   "cell_type": "code",
   "execution_count": null,
   "metadata": {
    "collapsed": true
   },
   "outputs": [],
   "source": [
    "import copy\n",
    "import numpy as np\n",
    "from matplotlib import pyplot as plt\n",
    "import astropy.units as u\n",
    "from arcus import Arcus\n",
    "import arcus.arcus\n",
    "from arcus.defaults import DefaultPointing, DefaultSource\n",
    "\n",
    "%matplotlib inline"
   ]
  },
  {
   "cell_type": "markdown",
   "metadata": {},
   "source": [
    "## Goal\n",
    "\n",
    "The CCDs in Arcus are placed on the surface of the Rowland circle. Given the limited number of CCDs available the position along this circle needs to be selected carefully in order to capture the maximal signal. \n",
    "\n",
    "## Approach\n",
    "\n",
    "Arcus is designed to follow a Rowland geometry. The [Rowland Geometry memo](http://space.mit.edu/home/guenther/ARCUS/RowlandGeometry.html) describes this geometry in detail and gives the exact parameters of the Rowland torus. In short, the Arcus spectrograph works by placing gratings on the surface of a torus and setting the CCDs on the opposite side of the torus. After passing through the CAT gratings the rays converge in both dispersion and cross-dispersion direction. When they pass the torus again, the distribution is the narrowest in the dispersion direction, thus placing the CCDs on the torus gives a spectrograph with the best possible resolving power. \n",
    "\n",
    "Different spectral orders are diffracted by different angles and thus land at different positions of the torus. The properties of the CAT gratings determine which orders have the highest signal and thus the CCDs need to be placed to catch those orders. Photons that are diffracted into higher or lower orders might miss the detectors and get lost. In an ideal world, every photon could be detected by placing a large number of CCDs, but in practice, coverage is limited because only 16 CCDs can placed on Arcus given the constraints in cost, energy, data volume, and size of the spacecraft.\n",
    "\n",
    "In this memo, I run a single ray-trace of the Arcus SPOs and CAT gratings. Then, I place CCDs at different positions along the Rowland circle and calculate the number of detected photons to determine the ideal detector placement. "
   ]
  },
  {
   "cell_type": "code",
   "execution_count": null,
   "metadata": {
    "collapsed": false
   },
   "outputs": [],
   "source": [
    "from matplotlib.patches import Circle\n",
    "fig = plt.figure(figsize=(8, 4))\n",
    "ax = fig.add_subplot(111, aspect='equal')\n",
    "ax.add_patch(Circle([0, 1], radius=1.2, fc=\"none\", ec='k'))\n",
    "ax.plot([-.65, -.65], [2.5, -.3], 'b', lw=2, label='opt axis')\n",
    "ax.plot([.65, .65], [2.5, -.3], 'b', lw=2, label='__no_legend__')\n",
    "ax.plot([0, 0], [1, -.2], 'k')\n",
    "ax.plot([0, 1.2 * np.sin(0.3)], [1, 1- 1.2 * np.cos(0.3)], 'k')\n",
    "\n",
    "d = 0.08\n",
    "for ang in [0.4, 0.6, 0.8, -0.45, -0.65, -0.85]:\n",
    "    mid = np.array([1.2 * np.sin(ang), 1- 1.2 * np.cos(ang)])\n",
    "    e1 = mid - d * np.array([np.cos(ang), np.sin(ang)])\n",
    "    e2 = mid + d * np.array([np.cos(ang), np.sin(ang)])\n",
    "    plt.plot([e1[0], e2[0]], [e1[1], e2[1]], lw=8)\n",
    "    \n",
    "ang = np.arange(0, .3, 0.01)\n",
    "x = 0.6 * np.sin(ang)\n",
    "y = 1. - 0.6 * np.cos(ang)\n",
    "ax.plot(x, y)\n",
    "ax.text(0.01, 0.5, '$\\phi$', fontsize='xx-large')\n",
    "\n",
    "ax.plot([0, np.sin(0.35)], [1. - 1.2 * np.cos(0.35), 1. - 1.2 * np.cos(0.35)], 'r', lw=3)\n",
    "    \n",
    "ax.set_ylim([-0.3, 1.1])\n",
    "ax.set_xlabel('x-coordinate')\n",
    "out = ax.set_ylabel('z-coordinate')"
   ]
  },
  {
   "cell_type": "markdown",
   "metadata": {},
   "source": [
    "The figure above shows a sketch of CCDs on the Rowland circle. Units for the x and z axis in this sketch are arbitrary and not related to the physical dimension of Arcus. The black circle is the Rowland circle. X-rays come from above. The two blue lines mark the position of two optical axes. Colored boxes signify the CCD positions (three on each side in this sketch). The position of the CCDs can be parameterized in different ways, e.g. one could list the x and z coordinate of the CCD edges, or the coordinate of the center (the tilt of the CCD can then be calculated from the condition that it is tangential to the Rowland circle). In the following, we will use either $\\phi$, the angle between the centerline of the Arcus telescope (at x=0 in the global instrument coordinate system) and the inner edge of the innermost CCD, or the x coordinate of the innermost edge of the active CCD area (red line) as parameters. The edge of a CCD is a well defined location that can easily be measured during the construction and aligning of the telescope and is thus a more useful reference point than the center of a CCD."
   ]
  },
  {
   "cell_type": "markdown",
   "metadata": {},
   "source": [
    "## Constraints on CCD placement\n",
    "\n",
    "Arcus has four channels, two of which disperse the spectrum along the positive instrument x axis and the other two disperse in the opposite direction, [see Fig 1 in the Rowland Geometry memo](http://space.mit.edu/home/guenther/ARCUS/RowlandGeometry.html). \n",
    "\n",
    "We optimize the CCD position taking a number of constraints into account.\n",
    "\n",
    "- The 16 CCDs are split into two groups of 8 CCDs each. Each group of CCDs **has to capture two zeroths orders** and two dispersed spectra. The zeroth orders are located at a fixed position (-300 mm and + 300 mm), the dispersed spectra cover a larger area.\n",
    "- There are about 0.8 mm of space between the last active column of a CCD and the physical edge of a chip. The closest possible distance between active CCD areas is thus 1.6 mm, but in order to mount them in the housing correctly, we need a small additional gap, leaving us with a minimum chip gap of 2.15 mm.\n",
    "- The CCDs need to be shielded from optical light by an optical blocking filter. These filters are only available up to a certain size. Each filter can cover at most 3 CCDs. The filters are surrounded by a small mounting frame, giving a minimum gap between X-ray transparent areas of 4 mm. It is clearly most efficient to place this filter support structure over a CCD chip gap (taking into account that the X-ray beam arrives at an angle). By placing the CCDs not just 2, but 4 mm apart we can avoid wasting active CCD area in the region that will always be shadowed by the filter support.\n",
    "- Most photons arrive close to the \"blaze peak\" and the signal becomes weaker further away from the peak. The center of the 8 CCD array will be set on that peak. Given that at most 3 CCDs can be covered by a single filter, the options are 2-3-3, 3-3-2, and 3-2-3. In principle, 3-2-3 is the worst of these options because both gaps are close to the center. We use a 2-3-3 scheme here, but note that in practice the blaze peak is so wide that this choice is not important.\n",
    "- The two zeroths orders should fall close to the center of a CCD. If they were close to the edge, we would risk not to miss the zeroth orders for sources that are acquired slightly off-axis. The zeroths orders are needed to calculate the wavelength scale and having them fall in a chip gap by accident might render the observation useless.\n",
    "- Chip gaps will inevitably lead to gaps in wavelength coverage. To ensure that no wavelength is completely lost, the two set of 8 CCDs will not be exactly symmetric to the instrument mid-plane, but offset with respect to each other by a few mm to ensure that any wavelength that is invisible on one side will be observed on the other."
   ]
  },
  {
   "cell_type": "markdown",
   "metadata": {},
   "source": [
    "## Ray-trace simulation\n",
    "\n",
    "This simulation uses a flat (in wavelength space) spectrum with photon wavelengths between $12 \\;\\unicode{xC5}$ and $50 \\;\\unicode{xC5}$. Effective areas are calcualted from the fraction of photons in some wavelenght bin that are detected (e.g. if half source the photon in one energy bin are detected, that means that the effective area in this bin is half the geometric opening area). This fraction is independent of the input spectrum but contains Poisson noise from the finite number of photons in the simulation. Choosing a flat spectrum leads to similiar noise levels in all wavebands that are analyzed in this memo.\n",
    "\n",
    "For simplicity, the simulation is done for a single channel. The position of the dispersed spectrum for all other channels can easily inferred from the symmetry of the Arcus design."
   ]
  },
  {
   "cell_type": "code",
   "execution_count": null,
   "metadata": {
    "collapsed": true
   },
   "outputs": [],
   "source": [
    "wave = np.arange(12., 50., .1) * u.Angstrom\n",
    "energy = wave.to(u.keV, equivalencies = u.spectral())\n",
    "flux = np.ones_like(wave)[1:] / np.abs(np.diff(energy))"
   ]
  },
  {
   "cell_type": "code",
   "execution_count": null,
   "metadata": {
    "collapsed": false
   },
   "outputs": [],
   "source": [
    "# Plot of the spectrum\n",
    "# plt.plot(energy[1:], flux)\n",
    "# plt.title('Input spectrum')\n",
    "# plt.ylabel('Flux density [cts/s/area/keV]')\n",
    "# out = plt.xlabel('energy [keV]')"
   ]
  },
  {
   "cell_type": "code",
   "execution_count": null,
   "metadata": {
    "collapsed": false
   },
   "outputs": [],
   "source": [
    "src = DefaultSource(energy={\"energy\": energy[::-1][1:], \"flux\": flux[::-1]})\n",
    "pnt = DefaultPointing()\n",
    "\n",
    "photons = src.generate_photons(1000000)\n",
    "photons = pnt(photons)\n",
    "photons['wave'] = photons['energy'].to(u.Angstrom, equivalencies=u.spectral())"
   ]
  },
  {
   "cell_type": "code",
   "execution_count": null,
   "metadata": {
    "collapsed": false
   },
   "outputs": [],
   "source": [
    "class ArcusNoDet(Arcus):\n",
    "    '''Modify the definition of Arcus to remove all detectors'''\n",
    "    def add_detectors(self, conf):\n",
    "        return []\n",
    "  \n",
    "instrum = ArcusNoDet(channels=['1'])\n",
    "photons = instrum(photons)"
   ]
  },
  {
   "cell_type": "code",
   "execution_count": null,
   "metadata": {
    "collapsed": true
   },
   "outputs": [],
   "source": [
    "conf = copy.deepcopy(arcus.arcus.defaultconf)"
   ]
  },
  {
   "cell_type": "code",
   "execution_count": null,
   "metadata": {
    "collapsed": true
   },
   "outputs": [],
   "source": [
    "def run_det_phi(photons, phi):\n",
    "    '''Simulate detector starting as position phi\n",
    "    \n",
    "    Set-up a detector starting at phi and run photons through it.\n",
    "    Return the detected photons (an empty photons list if none is detected).\n",
    "    '''\n",
    "    conf['phi_det_start'] = phi\n",
    "    det = arcus.arcus.DetCamera(conf)\n",
    "    p = det(photons.copy())\n",
    "    if 'CCD_ID' in p.colnames:\n",
    "        p = p[(p['CCD_ID'] >=0) & (p['probability'] > 0)]\n",
    "    else:\n",
    "        p = p[[]]  # No photon on any CCD\n",
    "    return p, det\n",
    "\n",
    "def Aeff(photons, n):\n",
    "    '''\n",
    "    \n",
    "    Parameters\n",
    "    ----------\n",
    "    photons : `astropy.table.Table`\n",
    "        Photons list\n",
    "    n : int\n",
    "        Number of photons originally simulated in the sambe band as photons.\n",
    "        If photons was the input specturm, ``n=len(photons)``, however, the way\n",
    "        this functoin is used, `photons` is often onlt the detected photons, so\n",
    "        the original number has to be passed in as a separate argument.\n",
    "    '''\n",
    "    return photons['probability'].sum() / n * instrum.elements[0].area\n",
    "    \n",
    "def Aeff0disp(photons, n):\n",
    "    pdisp = photons[photons['order'] < 0]\n",
    "    p0 = photons[photons['order'] == 0]\n",
    "    return Aeff(p0, n), Aeff(pdisp, n)\n",
    "\n",
    "def between(photons, interval):\n",
    "    '''Return index arry to select photons in a specific wavelength range'''\n",
    "    return (photons['wave'] > interval[0]) & (photons['wave'] < interval[1])"
   ]
  },
  {
   "cell_type": "code",
   "execution_count": null,
   "metadata": {
    "collapsed": true
   },
   "outputs": [],
   "source": [
    "ocolor = ['k', 'c', 'm', 'r', 'g', 'b', 'orange', '0.5', 'olive', 'magenta', 'salmon', 'y', \n",
    "          'maroon']\n",
    "'''Set a color for every order to ensure consistency for the following plots.'''\n",
    "\n",
    "def plot_detailed(ax, photons, photons_input, area=1):\n",
    "    pdisp = photons[photons['order'] < 0]\n",
    "    hist, bins = np.histogram(pdisp['wave'], weights=pdisp['probability'], bins=300)\n",
    "    # Get hist of input spectrum\n",
    "    histall, binsall = np.histogram(photons_input['wave'], bins=bins)\n",
    "    ax.plot(0.5 * (bins[:-1] + bins[1:]), hist / histall * area,\n",
    "            'k', lw=2, label='dispersed spec')\n",
    "    \n",
    "    olist = np.abs(np.array(list(set(photons['order']))))\n",
    "    olist.sort()\n",
    "    olist = olist[olist != 0]\n",
    "    \n",
    "    for o in olist:\n",
    "        ind = np.abs(photons['order']) == o\n",
    "        hist, bins_out = np.histogram(photons['wave'][ind], \n",
    "                                      weights=photons['probability'][ind], bins=bins)\n",
    "        plt.plot(0.5 * (bins[:-1] + bins[1:]), hist / histall * area,\n",
    "                 color=ocolor[int(abs(o))], label='order {:2g}'.format(abs(o)))\n",
    "\n",
    "    ax.set_xlabel('wavelength [$\\AA$]')\n",
    "    ax.set_ylabel('$A_\\mathrm{eff}$ for channel 1 [cm$^2$]')"
   ]
  },
  {
   "cell_type": "code",
   "execution_count": null,
   "metadata": {
    "collapsed": false
   },
   "outputs": [],
   "source": [
    "area = instrum.elements[0].area.to(u.cm**2)"
   ]
  },
  {
   "cell_type": "code",
   "execution_count": null,
   "metadata": {
    "collapsed": false
   },
   "outputs": [],
   "source": [
    "pg11b = photons[between(photons, [21.6, 28.])]\n",
    "\n",
    "fig = plt.figure(figsize=(10, 4))\n",
    "ax1 = fig.add_subplot(121)\n",
    "p, det = run_det_phi(pg11b, 0.01)\n",
    "plot_detailed(ax1, p, pg11b, area)\n",
    "ax1.legend(ncol=2)\n",
    "ax1.set_title('$\\phi$ = {}'.format(0.01))\n",
    "ax1.set_ylim(1.2 * np.array(ax1.get_ylim()))\n",
    "\n",
    "ax2 = fig.add_subplot(122)\n",
    "p2, det = run_det_phi(pg11b, 0.02)\n",
    "plot_detailed(ax2, p2, pg11b, area)\n",
    "ax2.legend(ncol=2)\n",
    "out = ax2.set_title('$\\phi$ = {}'.format(0.02))\n",
    "out = ax2.set_ylim(1.2 * np.array(ax2.get_ylim()))"
   ]
  },
  {
   "cell_type": "markdown",
   "metadata": {},
   "source": [
    "The plot above shows the simulated effective area curve zoomed in on the STM requirement G 1-1 (b), which specifies the average effective area for photons between $21.6 \\;\\unicode{xC5}$ and $28 \\;\\unicode{xC5}$. The black line shows the sum over all dispersed orders (inlcuding very low orders like order 1, where the spectral resolving power might be below the limit of G 1-1 (a) in the STM); the colors are for individual orders. The left and the right plot use the same input photons, but slightly different detector positions. In each plot, the position of the chip gaps can be clearly seen. For most of the wavelength range, the effective area is dominated by one spectral order, but a few more are seen with a significant number of counts. If an order falls into a chip gap for a specific wavelength, the number of counts in this wavelength drops to zero. However, photons are detected in the other orders so that the total effective area dips, but is still different from zero. Because the detectors are in slightly different positions in the lesft and right plot, different wavelengths fall into the chip gaps. In the right plot, the CCDs are positioned at larger distance from the zeroth order and thus the order 6 is seen out to $>23 \\;\\unicode{xC5}$, while on the left plot, eseentially no 6 order photon is seen. On the other hand, order 3 is off the chip for the right plot for $<23.5 \\;\\unicode{xC5}$, while it is always seen in the left plot. The CAT gratings disperse more light into order 6 than order 3, so gaining order 6 at the cost of loosing order 3 increases the average effective area."
   ]
  },
  {
   "cell_type": "code",
   "execution_count": null,
   "metadata": {
    "collapsed": true
   },
   "outputs": [],
   "source": [
    "phi_det_start = np.arange(0.0, 0.055, 0.0005)\n",
    "aeff = np.zeros((len(phi_det_start), 5)) * u.cm**2\n",
    "aeff0 = np.zeros_like(phi_det_start) * u.cm**2\n",
    "dets = []\n",
    "wvlintervals = [[21.6, 28], [33.7, 40.], [16., 21.6], [12., 50]]\n",
    "\n",
    "for i, phi in enumerate(phi_det_start):\n",
    "    p, det = run_det_phi(photons, phi)\n",
    "    for j, interval in enumerate(wvlintervals):\n",
    "        a0, adisp = Aeff0disp(p[between(p, interval)], between(photons, interval).sum())\n",
    "        aeff[i, 4] = a0\n",
    "        aeff[i, j] = adisp\n",
    "    dets.append(det)"
   ]
  },
  {
   "cell_type": "code",
   "execution_count": null,
   "metadata": {
    "collapsed": true
   },
   "outputs": [],
   "source": [
    "# Also check that \"- v_y\" is the correct direction if CCDS are turned\n",
    "x_innerccd = np.array([(d.elements[8].geometry('center') - d.elements[8].geometry('v_y'))[0] for d in dets])"
   ]
  },
  {
   "cell_type": "markdown",
   "metadata": {},
   "source": [
    "We now calculate the average effective area over four wavelength bands that are discussed in the science tracability matrix (STM), namely instrument requirement G1-1 (b): $21.6-28\\;\\unicode{xC5}$, G1-1(c): $33.7-40\\;\\unicode{xC5}$, G1-2 (a): $16.0-21.6\\;\\unicode{xC5}$, and G3-1 (b): $12-50\\;\\unicode{xC5}$. The figure below shows the averaged effective area depending on the position of the first CCD."
   ]
  },
  {
   "cell_type": "code",
   "execution_count": null,
   "metadata": {
    "collapsed": false
   },
   "outputs": [],
   "source": [
    "from scipy.interpolate import UnivariateSpline\n",
    "\n",
    "fig = plt.figure()\n",
    "ax1 = fig.add_subplot(111)     # phi scale\n",
    "ax2 = ax1.twiny() \n",
    "\n",
    "ax1.plot(x_innerccd, aeff[:, 4] * 30, 'k', lw=1, label='0 order visible?')\n",
    "\n",
    "for i in range(4):\n",
    "    ax1.plot(x_innerccd, aeff[:, i], lw=2, label='{} - {} $\\AA$'.format(wvlintervals[i][0], wvlintervals[i][1]))\n",
    "    \n",
    "\n",
    "ax1.legend()\n",
    "ax1.set_ylabel('average $A_{\\mathrm{eff}}$ [cm$^2$] der channel')\n",
    "ax1.set_xlabel('position of inner edge of innermost CCD [mm]')\n",
    "ax2.set_xlabel('$\\phi$ [rad]')\n",
    "\n",
    "# Spline fit to allow extrapolation when xlim set outside of known region\n",
    "deltax2phi = UnivariateSpline(x_innerccd, phi_det_start)\n",
    "\n",
    "\n",
    "def update_ax2(ax1):\n",
    "   x1, x2 = ax1.get_xlim()\n",
    "   ax2.set_xlim(deltax2phi(x1), deltax2phi(x2))\n",
    "   ax2.figure.canvas.draw()\n",
    "\n",
    "# automatically update ylim of ax2 when ylim of ax1 changes.\n",
    "ax1.callbacks.connect(\"xlim_changed\", update_ax2)\n",
    "\n",
    "out = ax1.set_xlim([0, 600])"
   ]
  },
  {
   "cell_type": "markdown",
   "metadata": {},
   "source": [
    "The black line indicates when the zeroth order is detected on a CCD on the other side or not (remember that the other channel is offset by 5 mm). The chip gaps for the zeroth order are not very large. We use a step size of $\\Delta \\phi = 0.0005$ rad, which is comparable to the width of the chip gap. Thus, we do not always have a simulation where the zeroth order is lost completely for every gap. For example, around 250 mm, the zeroth order is right on the edge of a CCD, leading to some loss of signal. Even if the black curve does not go to 0, these parameters need to be avoided, because, as explained above, the zeroth orders need to be comfortable away form chip gaps anyway. Note that for the zeroth order we do not show the effective area on the y axis, but just some relative scaling marking the regions where the zeroths order is detectable at all. The requirement that each set of 8 CCDs must image two zeroths orders sets an upper limit for the inner edge of the innermost CCD at 300 mm, the location of the zeroth order.\n",
    "\n",
    "Looking at the colored curves, we see that the behavior is relatively smooth. Because we average over a range of wavelengths, individual chip gaps are not important here. Somewhere in the range of wavelengths, there will always be a chip gap. Instead, the shape of these curves is driven by the overall shape of the blaze peak. For the blaze angle and focal length of Arcus, the blaze peak is wider than the area captured by just 8 CCDs on each side. That is why the placement shows so little sensitivity between about 150 and 300 mm. For every photon lost on the one side of the CCDs, we pick up another one on the other side. This makes the design of the cameras and the focal plane easier - optical constraints do not require an exact value for the position of the inner edge of the innermost CCD, so this value can be found in trade-off between optics and engineering requirements.\n",
    "\n",
    "The science requirement are most stringent for G1-1 (b): $21.6-28\\;\\unicode{xC5}$, and G1-1(c): $33.7-40\\;\\unicode{xC5}$, which are shown by the blue and green curve, respectively. These two curves favor CCDs further out. The blue curve is mostly flat after about 150 mm, the green curve continues to rise until about 200 mm.\n",
    "\n",
    "There is one more consideration that is not directly visible in the chart above: Higher orders offer higher resolving power. "
   ]
  },
  {
   "cell_type": "code",
   "execution_count": null,
   "metadata": {
    "collapsed": false
   },
   "outputs": [],
   "source": [
    "pg11c = photons[between(photons, [33.7, 40.])]\n",
    "\n",
    "fig = plt.figure(figsize=(10, 4))\n",
    "ax1 = fig.add_subplot(121)\n",
    "p, det = run_det_phi(pg11c, 0.01)\n",
    "plot_detailed(ax1, p, pg11c, area)\n",
    "ax1.legend(ncol=2)\n",
    "out = ax1.set_title('$\\phi$ = {}'.format(0.01))\n",
    "ax1.set_ylim(1.2 * np.array(ax1.get_ylim()))\n",
    "\n",
    "ax2 = fig.add_subplot(122)\n",
    "p2, det = run_det_phi(pg11c, 0.025)\n",
    "plot_detailed(ax2, p2, pg11c, area)\n",
    "ax2.legend(ncol=2)\n",
    "out = ax2.set_title('$\\phi$ = {}'.format(0.025))\n",
    "out = ax2.set_ylim(1.2 * np.array(ax2.get_ylim()))"
   ]
  },
  {
   "cell_type": "markdown",
   "metadata": {},
   "source": [
    "This plot shows the effective area over the wavelength again, for G1-1(c): $33.7-40\\;\\unicode{xC5}$ for two different possible CCD placements. While the average effective area over the bandpass is very similar (see plot above), in the left scenario this is based almost entirely on order 3, while in the right scenario order 4 is visible for about half the wavelength range in question. This reduces the impact of the chip gap around 34 $\\unicode{xC5}$ and it also offers a better spectral resolving power in this region."
   ]
  },
  {
   "cell_type": "markdown",
   "metadata": {},
   "source": [
    "## Results\n",
    "\n",
    "Based on the plot above, I recommend a detector placement where the innermost of the inner CCD is at about 220 mm from the symetry plane. This placement maximizes the effective area for G1-1 (b): $21.6-28\\;\\unicode{xC5}$, and G1-1(c): $33.7-40\\;\\unicode{xC5}$.\n",
    "\n",
    "The figure below shows which orders contribute at each wavelength for one particular channel. There are a few cases where chip gaps lead to severe drops in effective area, e.g. around $40\\;\\unicode{xC5}$. This happens particularly at longer wavelength where orders are further apart because the diffraction angle is larger and thus only one order contributes to the total observed signal. These cases show how important it is that the second set of CCDs is offset by a few mm to avoid having chip gaps in all spectra at the same position. "
   ]
  },
  {
   "cell_type": "code",
   "execution_count": null,
   "metadata": {
    "collapsed": false
   },
   "outputs": [],
   "source": [
    "phi_recommended = 0.037\n",
    "fig = plt.figure(figsize=(10, 4))\n",
    "ax1 = fig.add_subplot(111)\n",
    "p, det = run_det_phi(photons, phi_recommended)\n",
    "plot_detailed(ax1, p, photons, area)\n",
    "ax1.legend(ncol=3)\n",
    "out = ax1.set_title('$\\phi$ = {}'.format(phi_recommended))\n",
    "out = ax1.set_ylim(1.4 * np.array(ax1.get_ylim()))"
   ]
  },
  {
   "cell_type": "markdown",
   "metadata": {},
   "source": [
    "For reference, the CCD *center* positions in (x,y,z) for this detector placement are listed below:"
   ]
  },
  {
   "cell_type": "code",
   "execution_count": null,
   "metadata": {
    "collapsed": false
   },
   "outputs": [],
   "source": [
    "np.set_printoptions(precision=3, formatter={'float': lambda x: '{:5.1f}'.format(x)})\n",
    "detcen = np.array([d.geometry('center')[:3] for d in det.elements]) * u.mm\n",
    "print(detcen)"
   ]
  },
  {
   "cell_type": "markdown",
   "metadata": {},
   "source": [
    "Remember that the zeroth orders are located at -300 and +300 mm. Both locations are more than 1 cm from the chip edge.\n",
    "\n",
    "Lastly, we simulate a spectrum for all 4 channels of Arcus to show how the 5 mm offset prevents gaps in wavelength coverage."
   ]
  },
  {
   "cell_type": "code",
   "execution_count": null,
   "metadata": {
    "collapsed": false
   },
   "outputs": [],
   "source": [
    "p4 = src.generate_photons(1000000)\n",
    "p4 = pnt(p4)\n",
    "p4['wave'] = p4['energy'].to(u.Angstrom, equivalencies=u.spectral())\n",
    "\n",
    "instrum4 = ArcusNoDet()\n",
    "p4 = instrum4(p4)\n",
    "p4 = det(p4)"
   ]
  },
  {
   "cell_type": "code",
   "execution_count": null,
   "metadata": {
    "collapsed": false
   },
   "outputs": [],
   "source": [
    "fig = plt.figure(figsize=(10, 4))\n",
    "ax1 = fig.add_subplot(111)\n",
    "hist_in, bins = np.histogram(p4['wave'], bins=300)\n",
    "ind = (p4['order'] != 0) & (p4['CCD_ID'] >=0)\n",
    "hist, bins_out = np.histogram(p4['wave'][ind], \n",
    "                              weights=p4['probability'][ind], bins=bins)\n",
    "ax1.plot(0.5 * (bins[:-1] + bins[1:]), hist / hist_in * instrum4.elements[0].area.to(u.cm**2),\n",
    "         'k', lw=2, label='all channels')\n",
    "\n",
    "for i in range(4):\n",
    "    pchan = p4[p4['aperture'] == i]\n",
    "    hist_in, bins_out = np.histogram(pchan['wave'], bins=bins)\n",
    "    ind = (pchan['order'] != 0) & (pchan['CCD_ID'] >=0)\n",
    "    hist, bins_out = np.histogram(pchan['wave'][ind], \n",
    "                                  weights=pchan['probability'][ind], bins=bins)\n",
    "    # area was dfined above and it area per channel\n",
    "    ax1.plot(0.5 * (bins[:-1] + bins[1:]), hist / hist_in * area,\n",
    "                   label='channel {:2g}'.format(i + 1))\n",
    "\n",
    "    ax.plot()\n",
    "ax1.legend()\n",
    "out = ax1.set_title('$\\phi$ = {}'.format(phi_recommended))\n",
    "ax1.set_xlabel('wavelength [$\\AA$]')\n",
    "out = ax1.set_ylabel('$A_\\mathrm{eff}$ for dispersed orders [cm$^2$]')"
   ]
  },
  {
   "cell_type": "markdown",
   "metadata": {},
   "source": [
    "In the current set-up, there are two pairs of channels, where each pair has the zeroth orders at the same x position. Thus, the two channels within a pair have the chip gaps at identical places and effective area curves on top of each other (except for the Poisson noise doe to the finite number of photons used in this simulation). However, the asymmetry between the two sets of 8 CCDs places the chip gaps between the two pairs at slightly different positions as shown in the plot. In the summed effective area this leads to chip gaps that are at most 50% deep and that have a double-humped structure.\n",
    "\n"
   ]
  },
  {
   "cell_type": "markdown",
   "metadata": {},
   "source": [
    "## Discussion\n",
    "\n",
    "### Robustness of results\n",
    "The simulation results in this memo include most known effects of the Arcus performance, in particular, the pointing jitter. On the other hand, MARXS uses a very simple model for the SPOs. While the absolute scaling of the effective area might carry some uncertainty, relative results (i.e. the relative change in effective area for different detector positions) are expected to be robust.\n",
    "\n",
    "### Mechanical integration\n",
    "This memo does not address the problem of the mechnical integration, i.e. can the dimensions of the camera shown here be accomodated inside the space craft.\n",
    "\n",
    "\n",
    "### A proposal to reduce the effect of chip gaps further\n",
    "(My alingment tolerance calculations)[http://space.mit.edu/home/guenther/ARCUS/Tolerances.html] show that an offset in the x direction by a few mm has little influence on the resolving power, so one could reduce the impact of the chip gaps by introducing a small (e.g. -2.5 and +2.5 mm with resport to the nominal position) offset between the two channels in each pair and at the same time increase the asymmetry between the two CCDs sets slightly (from 5 mm to 10 mm). This would make each chip gap to be no more than 25% deep and give them a quadruple humped structure."
   ]
  },
  {
   "cell_type": "code",
   "execution_count": null,
   "metadata": {
    "collapsed": false
   },
   "outputs": [],
   "source": [
    "display_codetoggle()"
   ]
  }
 ],
 "metadata": {
  "anaconda-cloud": {},
  "hide_input": false,
  "kernelspec": {
   "display_name": "Python [default]",
   "language": "python",
   "name": "python2"
  },
  "language_info": {
   "codemirror_mode": {
    "name": "ipython",
    "version": 2
   },
   "file_extension": ".py",
   "mimetype": "text/x-python",
   "name": "python",
   "nbconvert_exporter": "python",
   "pygments_lexer": "ipython2",
   "version": "2.7.12"
  }
 },
 "nbformat": 4,
 "nbformat_minor": 2
}
