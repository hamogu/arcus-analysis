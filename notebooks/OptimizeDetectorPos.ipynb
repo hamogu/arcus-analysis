{
 "cells": [
  {
   "cell_type": "markdown",
   "metadata": {},
   "source": [
    "# Numerical optimization of the detector placement"
   ]
  },
  {
   "cell_type": "code",
   "execution_count": null,
   "metadata": {},
   "outputs": [],
   "source": [
    "from nbtemplate import display_header, get_path\n",
    "display_header('OptimizeDetectorPos.ipynb', status='changed channel spacing for Probe design')"
   ]
  },
  {
   "cell_type": "code",
   "execution_count": null,
   "metadata": {},
   "outputs": [],
   "source": [
    "import os\n",
    "import copy\n",
    "import numpy as np\n",
    "from matplotlib import pyplot as plt\n",
    "import astropy.units as u\n",
    "from astropy.table import QTable\n",
    "from marxs.missions.arcus import arcus\n",
    "from marxs.missions.arcus.defaults import DefaultPointing, DefaultSource\n",
    "\n",
    "%matplotlib inline"
   ]
  },
  {
   "cell_type": "markdown",
   "metadata": {},
   "source": [
    "## Goal\n",
    "\n",
    "The CCDs in Arcus are placed on the surface of the Rowland circle. Given the limited number of CCDs available the position along this circle needs to be selected carefully in order to capture the maximal signal. \n",
    "\n",
    "## Approach\n",
    "\n",
    "Arcus is designed to follow a Rowland geometry. The [Rowland Geometry memo](http://space.mit.edu/home/guenther/ARCUS/RowlandGeometry.html) describes this geometry in detail and gives the exact parameters of the Rowland torus. In short, the Arcus spectrograph works by placing gratings on the surface of a torus and setting the CCDs on the opposite side of the torus. After passing through the CAT gratings the rays converge in both dispersion and cross-dispersion direction. When they pass the torus again, the distribution is the narrowest in the dispersion direction, thus placing the CCDs on the torus gives a spectrograph with the best possible resolving power. \n",
    "\n",
    "Different spectral orders are diffracted by different angles and thus land at different positions of the torus. The properties of the CAT gratings determine which orders have the highest signal and thus the CCDs need to be placed to catch those orders. Photons that are diffracted into higher or lower orders might miss the detectors and get lost. In an ideal world, every photon could be detected by placing a large number of CCDs, but in practice, coverage is limited because only 16 CCDs can placed on Arcus given the constraints in cost, energy, data volume, and size of the spacecraft.\n",
    "\n",
    "In this memo, I run a single ray-trace of the Arcus SPOs and CAT gratings. Then, I place CCDs at different positions along the Rowland circle and calculate the number of detected photons to determine the ideal detector placement. "
   ]
  },
  {
   "cell_type": "code",
   "execution_count": null,
   "metadata": {},
   "outputs": [],
   "source": [
    "from matplotlib.patches import Circle\n",
    "fig = plt.figure(figsize=(8, 4))\n",
    "ax = fig.add_subplot(111, aspect='equal')\n",
    "ax.add_patch(Circle([0, 1], radius=1.2, fc=\"none\", ec='k'))\n",
    "ax.plot([-.65, -.65], [2.5, -.3], 'b', lw=2, label='opt axis')\n",
    "ax.plot([.65, .65], [2.5, -.3], 'b', lw=2, label='__no_legend__')\n",
    "ax.plot([0, 0], [1, -.2], 'k')\n",
    "ax.plot([0, 1.2 * np.sin(0.3)], [1, 1- 1.2 * np.cos(0.3)], 'k')\n",
    "\n",
    "d = 0.08\n",
    "for ang in [0.4, 0.6, 0.8, -0.45, -0.65, -0.85]:\n",
    "    mid = np.array([1.2 * np.sin(ang), 1- 1.2 * np.cos(ang)])\n",
    "    e1 = mid - d * np.array([np.cos(ang), np.sin(ang)])\n",
    "    e2 = mid + d * np.array([np.cos(ang), np.sin(ang)])\n",
    "    plt.plot([e1[0], e2[0]], [e1[1], e2[1]], lw=8)\n",
    "    \n",
    "ang = np.arange(0, .3, 0.01)\n",
    "x = 0.6 * np.sin(ang)\n",
    "y = 1. - 0.6 * np.cos(ang)\n",
    "ax.plot(x, y)\n",
    "ax.text(0.01, 0.5, '$\\phi$', fontsize='xx-large')\n",
    "\n",
    "ax.plot([0, np.sin(0.35)], [1. - 1.2 * np.cos(0.35), 1. - 1.2 * np.cos(0.35)], 'r', lw=3)\n",
    "    \n",
    "ax.set_ylim([-0.3, 1.1])\n",
    "ax.set_xlabel('x-coordinate')\n",
    "out = ax.set_ylabel('z-coordinate')"
   ]
  },
  {
   "cell_type": "markdown",
   "metadata": {},
   "source": [
    "The figure above shows a sketch of CCDs on the Rowland circle. Units for the x and z axis in this sketch are arbitrary and not related to the physical dimension of Arcus. The black circle is the Rowland circle. X-rays come from above. The two blue lines mark the position of two optical axes. Colored boxes signify the CCD positions (three on each side in this sketch). The position of the CCDs can be parameterized in different ways, e.g. one could list the x and z coordinate of the CCD edges, or the coordinate of the center (the tilt of the CCD can then be calculated from the condition that it is tangential to the Rowland circle). In the following, we will use either $\\phi$, the angle between the centerline of the Arcus telescope (at x=0 in the global instrument coordinate system) and the inner edge of the innermost CCD, or the x coordinate of the innermost edge of the active CCD area (red line) as parameters. The edge of a CCD is a well defined location that can easily be measured during the construction and aligning of the telescope and is thus a more useful reference point than the center of a CCD."
   ]
  },
  {
   "attachments": {},
   "cell_type": "markdown",
   "metadata": {},
   "source": [
    "## Constraints on CCD placement\n",
    "\n",
    "Arcus has four channels, two of which disperse the spectrum along the positive instrument x axis and the other two disperse in the opposite direction, [see Fig 1 in the Rowland Geometry memo](http://space.mit.edu/home/guenther/ARCUS/RowlandGeometry.html). \n",
    "\n",
    "We optimize the CCD position taking a number of constraints into account.\n",
    "\n",
    "- The 16 CCDs are split into two groups of 8 CCDs each. Each group of CCDs **has to capture two zeroths orders** (and associated low-order photons from the same channel) and dispersed signal from the remaining two orders. The zeroth orders are located at a fixed position (we currently use -375 mm and + 375 mm), the dispersed spectra cover a larger area.\n",
    "- There is about 0.8 mm of space between the last active column of a CCD and the physical edge of a chip. The closest possible distance between active CCD areas is thus 1.6 mm, but in order to mount them in the housing correctly, we need a small additional gap, leaving us with a minimum chip gap of 2.15 mm.\n",
    "- The CCDs need to be shielded from optical light by an optical blocking filter. These filters are only available up to a certain size. Each filter can cover at most 3 CCDs. The filters are surrounded by a small mounting frame, giving a minimum gap between X-ray transparent areas of 4 mm. It is clearly most efficient to place this filter support structure over a CCD chip gap (taking into account that the X-ray beam arrives at an angle). By placing the CCDs not just 2, but 4 mm apart we can avoid wasting active CCD area in the region that will always be shadowed by the filter support.\n",
    "- Most photons arrive close to the \"blaze peak\" and the signal becomes weaker further away from the peak. The center of the 8 CCD array will be set on that peak. Given that at most 3 CCDs can be covered by a single filter, the options are 2-3-3, 3-3-2, and 3-2-3. In principle, 3-2-3 is the worst of these options because both gaps are close to the center. We use a 2-3-3 scheme here, but note that in practice the blaze peak is so wide that this choice is not important.\n",
    "- The two zeroths orders should fall close to the center of a CCD. If they were close to the edge, we would risk to miss the zeroth orders for sources that are acquired slightly off-axis. The zeroths orders are needed to calculate the wavelength scale and having them fall in a chip gap by accident might render the observation useless.\n",
    "- Chip gaps will inevitably lead to gaps in wavelength coverage. To ensure that no wavelength is completely lost, the two sets of 8 CCDs will not be exactly symmetric to the instrument mid-plane, but offset with respect to each other by a few mm to ensure that any wavelength that is invisible on one side will be observed on the other."
   ]
  },
  {
   "cell_type": "markdown",
   "metadata": {},
   "source": [
    "## Ray-trace simulation\n",
    "\n",
    "This simulation uses a flat (in wavelength space) spectrum with photon wavelengths between 12 Å and 50 Å. Effective areas are calculated from the fraction of photons in some wavelength bin that are detected (e.g. if half source the photon in one energy bin are detected, that means that the effective area in this bin is half the geometric opening area). This fraction is independent of the input spectrum but contains Poisson noise from the finite number of photons in the simulation. Choosing a flat spectrum leads to similar noise levels in all wavebands that are analyzed in this memo.\n",
    "\n",
    "For simplicity, the simulation is done for a single channel. The position of the dispersed spectrum for all other channels can easily inferred from the symmetry of the Arcus design."
   ]
  },
  {
   "cell_type": "code",
   "execution_count": null,
   "metadata": {},
   "outputs": [],
   "source": [
    "wave = np.arange(12., 50., .1) * u.Angstrom\n",
    "energy = wave.to(u.keV, equivalencies = u.spectral())\n",
    "fluxdensity = np.ones(len(wave) - 1) / np.abs(np.diff(energy))/ u.s / u.cm**2"
   ]
  },
  {
   "cell_type": "code",
   "execution_count": null,
   "metadata": {},
   "outputs": [],
   "source": [
    "# Plot of the spectrum\n",
    "# plt.plot(wave[1:], flux)\n",
    "# plt.title('Input spectrum')\n",
    "# plt.ylabel('Flux density [cts/s/area/keV]')\n",
    "# out = plt.xlabel('energy [keV]')"
   ]
  },
  {
   "cell_type": "code",
   "execution_count": null,
   "metadata": {},
   "outputs": [],
   "source": [
    "src = DefaultSource()\n",
    "src.energy = QTable({\"energy\": energy[::-1][1:],\n",
    "                     \"fluxdensity\": fluxdensity[::-1]})\n",
    "pnt = DefaultPointing()\n",
    "\n",
    "photons = src.generate_photons(1000000 * u.s)\n",
    "photons = pnt(photons)\n",
    "photons['wave'] = photons['energy'].to(u.Angstrom, equivalencies=u.spectral())"
   ]
  },
  {
   "cell_type": "code",
   "execution_count": null,
   "metadata": {},
   "outputs": [],
   "source": [
    "class ArcusNoDet(arcus.Arcus):\n",
    "    '''Modify the definition of Arcus to remove all detectors'''\n",
    "    def add_detectors(self, conf):\n",
    "        return []\n",
    "  \n",
    "instrum = ArcusNoDet(channels=['1'])\n",
    "photons = instrum(photons)"
   ]
  },
  {
   "cell_type": "code",
   "execution_count": null,
   "metadata": {},
   "outputs": [],
   "source": [
    "conf = copy.deepcopy(arcus.defaultconf)"
   ]
  },
  {
   "cell_type": "code",
   "execution_count": null,
   "metadata": {},
   "outputs": [],
   "source": [
    "def run_det_phi(photons, phi):\n",
    "    '''Simulate detector starting as position phi\n",
    "    \n",
    "    Set-up a detector starting at phi and run photons through it.\n",
    "    Return the detected photons (an empty photons list if none is detected).\n",
    "    '''\n",
    "    conf['phi_det_start'] = phi\n",
    "    det = arcus.DetCamera(conf)\n",
    "    p = det(photons.copy())\n",
    "    if 'CCD' in p.colnames:\n",
    "        p = p[(p['CCD'] >=0) & (p['probability'] > 0)]\n",
    "    else:\n",
    "        p = p[[]]  # No photon on any CCD\n",
    "    return p, det\n",
    "\n",
    "def Aeff(photons, n):\n",
    "    '''\n",
    "    \n",
    "    Parameters\n",
    "    ----------\n",
    "    photons : `astropy.table.Table`\n",
    "        Photons list\n",
    "    n : int\n",
    "        Number of photons originally simulated in the same band as photons.\n",
    "        If photons was the input spectrum, ``n=len(photons)``, however, the way\n",
    "        this function is used, `photons` is often only the detected photons, so\n",
    "        the original number has to be passed in as a separate argument.\n",
    "    '''\n",
    "    return photons['probability'].sum() / n * instrum.elements[0].area\n",
    "    \n",
    "def Aeff0disp(photons, n):\n",
    "    pdisp = photons[photons['order'] != 0]\n",
    "    p0 = photons[photons['order'] == 0]\n",
    "    return Aeff(p0, n), Aeff(pdisp, n)\n",
    "\n",
    "def between(photons, interval):\n",
    "    '''Return index arry to select photons in a specific wavelength range'''\n",
    "    return (photons['wave'] > interval[0]) & (photons['wave'] < interval[1])"
   ]
  },
  {
   "cell_type": "code",
   "execution_count": null,
   "metadata": {},
   "outputs": [],
   "source": [
    "from marxs.analysis.plots import OrderColor\n",
    "            \n",
    "oc = OrderColor()\n",
    "\n",
    "# Arguments used for fill_between for summed Aeff and averaged R\n",
    "args_between = {'color': 'k', 'alpha': 0.5}"
   ]
  },
  {
   "cell_type": "code",
   "execution_count": null,
   "metadata": {},
   "outputs": [],
   "source": [
    "def plot_detailed(ax, photons, photons_input, area, orders=np.arange(-15, 5), ordercolor=oc):\n",
    "    pdisp = photons[photons['order'] != 0]\n",
    "    hist, bins = np.histogram(pdisp['wave'], weights=pdisp['probability'], bins=300)\n",
    "    # Get hist of input spectrum\n",
    "    histall, binsall = np.histogram(photons_input['wave'], bins=bins)\n",
    "    ax.fill_between(0.5 * (bins[:-1] + bins[1:]), hist / histall * area.to(u.cm**2),\n",
    "            **args_between, label='dispersed spec')\n",
    "    \n",
    "    for o in orders:\n",
    "        ind = photons['order'] == o\n",
    "        hist, bins_out = np.histogram(photons['wave'][ind], \n",
    "                                      weights=photons['probability'][ind], bins=bins)\n",
    "        plt.plot(0.5 * (bins[:-1] + bins[1:]), hist / histall * area.to(u.cm**2),\n",
    "                 **ordercolor(o), label='order {:2g}'.format(o))\n",
    "\n",
    "    ax.set_xlabel('wavelength [$\\AA$]')\n",
    "    ax.set_ylabel('$A_\\mathrm{eff}$ for channel 1 [cm$^2$]')"
   ]
  },
  {
   "cell_type": "code",
   "execution_count": null,
   "metadata": {},
   "outputs": [],
   "source": [
    "area = instrum.elements[0].area"
   ]
  },
  {
   "cell_type": "code",
   "execution_count": null,
   "metadata": {},
   "outputs": [],
   "source": [
    "pg11b = photons[between(photons, [21.6, 28.])]\n",
    "\n",
    "fig = plt.figure(figsize=(10, 4))\n",
    "ax1 = fig.add_subplot(121)\n",
    "p, det = run_det_phi(pg11b, 0.01)\n",
    "plot_detailed(ax1, p, pg11b, area, orders=np.arange(-6, 1))\n",
    "ax1.legend(ncol=2)\n",
    "ax1.set_title('$\\phi$ = {}'.format(0.01))\n",
    "ax1.set_ylim(1.5 * np.array(ax1.get_ylim()))\n",
    "\n",
    "ax2 = fig.add_subplot(122)\n",
    "p2, det = run_det_phi(pg11b, 0.02)\n",
    "plot_detailed(ax2, p2, pg11b, area, orders=np.arange(-6, 1))\n",
    "ax2.legend(ncol=2)\n",
    "out = ax2.set_title('$\\phi$ = {}'.format(0.02))\n",
    "out = ax2.set_ylim(1.5 * np.array(ax2.get_ylim()))\n",
    "for ax in [ax1, ax2]:\n",
    "    ax.set_xlim(21.6, 28.)\n",
    "\n",
    "fig.savefig(os.path.join(get_path('figures'), 'detposo7.pdf'), bbox_inches='tight') "
   ]
  },
  {
   "attachments": {},
   "cell_type": "markdown",
   "metadata": {},
   "source": [
    "The plot above shows the simulated effective area curve zoomed in on a region around the O VII lines, which will be found between 21.6 Å and 28 Å depending on redshift. The gray area shows the sum over all dispersed orders (including very low orders like order 1, where the spectral resolving power is $<1000$); the colors are for individual orders. The left and the right plot use the same input photons, but slightly different detector positions. In each plot, the position of the chip gaps can be clearly seen. For most of the wavelength range, the effective area is dominated by one spectral order, but a few more are seen with a significant number of counts. If an order falls into a chip gap for a specific wavelength, the number of counts in this wavelength drops to zero. However, photons are detected in the other orders so that the total effective area dips, but is still different from zero. Because the detectors are in slightly different positions in the left and right plot, different wavelengths fall into the chip gaps. In the right plot, the CCDs are positioned at larger distance from the zeroth order and thus the order -6 is seen out to $25$ Å, while on the left plot, no order -6 drops off the CCDs are lower wavelengths. The situation is reversed at different wavelength not shown in this plot - the point is that even at the best possible detector position we will still lose some photons because they hit chip gaps or fall beyond the camera edges."
   ]
  },
  {
   "cell_type": "code",
   "execution_count": null,
   "metadata": {},
   "outputs": [],
   "source": [
    "phi_det_start = np.arange(0.0, 0.055, 0.0005)\n",
    "aeff = np.zeros((len(phi_det_start), 5)) * u.cm**2\n",
    "aeff0 = np.zeros_like(phi_det_start) * u.cm**2\n",
    "dets = []\n",
    "wvlintervals = [[21.6, 28], [33.7, 40.], [16., 21.6], [12., 50]]\n",
    "\n",
    "for i, phi in enumerate(phi_det_start):\n",
    "    p, det = run_det_phi(photons, phi)\n",
    "    for j, interval in enumerate(wvlintervals):\n",
    "        a0, adisp = Aeff0disp(p[between(p, interval)], between(photons, interval).sum())\n",
    "        aeff[i, 4] = a0\n",
    "        aeff[i, j] = adisp\n",
    "    dets.append(det)"
   ]
  },
  {
   "cell_type": "code",
   "execution_count": null,
   "metadata": {},
   "outputs": [],
   "source": [
    "# Also check that \"- v_y\" is the correct direction if CCDs are turned\n",
    "x_innerccd = np.array([(d.elements[8].geometry['center'] - d.elements[8].geometry['v_y'])[0] for d in dets])"
   ]
  },
  {
   "attachments": {},
   "cell_type": "markdown",
   "metadata": {},
   "source": [
    "We now calculate the average effective area over four wavelength bands that important to different science investigations, namely around O VII: 21.6-28 Å, at long wavelengths: 33.7-40 Å, short of O VII: 16.0-21.6 Å, over the full range where we can expect high-resolution grating spectroscopy: 12-50 Å. The figure below shows the averaged effective area depending on the position of the first CCD."
   ]
  },
  {
   "cell_type": "code",
   "execution_count": null,
   "metadata": {},
   "outputs": [],
   "source": [
    "from scipy.interpolate import UnivariateSpline\n",
    "\n",
    "fig = plt.figure()\n",
    "ax1 = fig.add_subplot(111)     # phi scale\n",
    "ax2 = ax1.twiny() \n",
    "\n",
    "ax1.plot(x_innerccd, aeff[:, 4] * 30, 'k', lw=1, label='0 order visible?')\n",
    "\n",
    "for i in range(4):\n",
    "    ax1.plot(x_innerccd, aeff[:, i], lw=2,\n",
    "             label='{} - {} $\\AA$'.format(wvlintervals[i][0], wvlintervals[i][1]))\n",
    "    \n",
    "\n",
    "ax1.legend()\n",
    "ax1.set_ylabel('average $A_{\\mathrm{eff}}$ [cm$^2$] der channel')\n",
    "ax1.set_xlabel('position of inner edge of innermost CCD [mm]')\n",
    "ax2.set_xlabel('$\\phi$ [rad]')\n",
    "\n",
    "# Spline fit to allow extrapolation when xlim set outside of known region\n",
    "deltax2phi = UnivariateSpline(x_innerccd, phi_det_start)\n",
    "\n",
    "\n",
    "def update_ax2(ax1):\n",
    "   x1, x2 = ax1.get_xlim()\n",
    "   ax2.set_xlim(deltax2phi(x1), deltax2phi(x2))\n",
    "   ax2.figure.canvas.draw()\n",
    "\n",
    "# automatically update ylim of ax2 when ylim of ax1 changes.\n",
    "ax1.callbacks.connect(\"xlim_changed\", update_ax2)\n",
    "\n",
    "out = ax1.set_xlim([0, 300])\n",
    "\n",
    "fig.savefig(os.path.join(get_path('figures'), 'detposall.pdf'), bbox_inches='tight') "
   ]
  },
  {
   "attachments": {},
   "cell_type": "markdown",
   "metadata": {},
   "source": [
    "The black line indicates when the zeroth order is detected on a CCD on the other side or not (remember that the other channel is offset by 5 mm). The chip gaps for the zeroth order are not very large. We use a step size of $\\Delta \\phi = 0.0005$ rad, which is comparable to the width of the chip gap. Thus, we do not always have a simulation where the zeroth order is lost completely. Even if the black curve does not go to 0, these parameters need to be avoided, because, as explained above, the zeroth orders need to be comfortable away from chip gaps anyway. Note that for the zeroth order we do not show the effective area on the y axis, but just some relative scaling marking the regions where the zeroths order is detectable at all. The requirement that each set of 8 CCDs must image two zeroths orders sets an upper limit for the inner edge of the innermost CCD at 300 mm, the location of the zeroth order.\n",
    "\n",
    "Looking at the colored curves, we see that the behavior is relatively smooth. Because we average over a range of wavelengths, individual chip gaps are not important here. Somewhere in the range of wavelengths, there will always be a chip gap. Instead, the shape of these curves is driven by the overall shape of the blaze peak. For the blaze angle and focal length of Arcus, the blaze peak is wider than the area captured by just 8 CCDs on each side. That is why the placement shows so little sensitivity between about 150 and 300 mm. For every photon lost on the one side of the CCDs, we pick up another one on the other side. This makes the design of the cameras and the focal plane easier - optical constraints do not require an exact value for the position of the inner edge of the innermost CCD, so this value can be found in trade-off between optics and engineering requirements.\n",
    "\n",
    "There is one more consideration that is not directly visible in the chart above: Higher orders offer higher resolving power. "
   ]
  },
  {
   "cell_type": "code",
   "execution_count": null,
   "metadata": {},
   "outputs": [],
   "source": [
    "pg11c = photons[between(photons, [33.7, 40.])]\n",
    "\n",
    "fig = plt.figure(figsize=(10, 4))\n",
    "ax1 = fig.add_subplot(121)\n",
    "p, det = run_det_phi(pg11c, 0.01)\n",
    "plot_detailed(ax1, p, pg11c, area, orders=np.arange(-4, 1))\n",
    "ax1.legend(ncol=2)\n",
    "out = ax1.set_title('$\\phi$ = {}'.format(0.01))\n",
    "ax1.set_ylim(1.2 * np.array(ax1.get_ylim()))\n",
    "\n",
    "ax2 = fig.add_subplot(122)\n",
    "p2, det = run_det_phi(pg11c, 0.025)\n",
    "plot_detailed(ax2, p2, pg11c, area, orders=np.arange(-4, 1))\n",
    "ax2.legend(ncol=2)\n",
    "out = ax2.set_title('$\\phi$ = {}'.format(0.025))\n",
    "out = ax2.set_ylim(1.2 * np.array(ax2.get_ylim()))"
   ]
  },
  {
   "attachments": {},
   "cell_type": "markdown",
   "metadata": {},
   "source": [
    "This plot shows the effective area over the wavelength again 33.7-40 Å for two different possible CCD placements. While the average effective area over the bandpass is very similar (see plot above), in the left scenario this is based almost entirely on order 3, while in the right scenario order 4 is visible for about half the wavelength range in question. This reduces the impact of the chip gap around 34 Å and it also offers a better spectral resolving power in this region."
   ]
  },
  {
   "attachments": {},
   "cell_type": "markdown",
   "metadata": {},
   "source": [
    "## Results\n",
    "\n",
    "Based on the plot above, I recommend a detector placement where the innermost edge of the inner CCD is at about 220 mm from the symmetry plane. This placement maximizes the effective area in the longer wavelength regions that are most important for Arcus science.\n",
    "\n",
    "The figure below shows which orders contribute at each wavelength for one particular channel. There are a few cases where chip gaps lead to severe drops in effective area, e.g. around 40 Å. This happens particularly at longer wavelength where orders are further apart because the diffraction angle is larger and thus only one order contributes to the total observed signal. These cases show how important it is that the second set of CCDs is offset by a few mm to avoid having chip gaps in all spectra at the same position. "
   ]
  },
  {
   "cell_type": "code",
   "execution_count": null,
   "metadata": {},
   "outputs": [],
   "source": [
    "phi_recommended = 0.024\n",
    "fig = plt.figure(figsize=(10, 4))\n",
    "ax1 = fig.add_subplot(111)\n",
    "p, det = run_det_phi(photons, phi_recommended)\n",
    "plot_detailed(ax1, p, photons, area, orders=np.arange(-9, 4))\n",
    "ax1.legend(ncol=3)\n",
    "out = ax1.set_title('$\\phi$ = {}'.format(phi_recommended))\n",
    "out = ax1.set_ylim(1.4 * np.array(ax1.get_ylim()))"
   ]
  },
  {
   "cell_type": "markdown",
   "metadata": {},
   "source": [
    "For reference, the CCD *center* positions in (x,y,z) for this detector placement are listed below:"
   ]
  },
  {
   "cell_type": "code",
   "execution_count": null,
   "metadata": {},
   "outputs": [],
   "source": [
    "np.set_printoptions(precision=3, formatter={'float': lambda x: '{:5.1f}'.format(x)})\n",
    "detcen = np.array([d.geometry['center'][:3] for d in det.elements]) * u.mm\n",
    "print(detcen)"
   ]
  },
  {
   "attachments": {},
   "cell_type": "markdown",
   "metadata": {},
   "source": [
    "Remember that the zeroth orders are located around -375 and +375 mm. Both locations are more than 1 cm from the chip edge.\n",
    "\n",
    "Lastly, we simulate a spectrum for all 4 channels of Arcus to show how the 5 mm offset prevents gaps in wavelength coverage."
   ]
  },
  {
   "cell_type": "code",
   "execution_count": null,
   "metadata": {},
   "outputs": [],
   "source": [
    "p4 = src.generate_photons(1000000 * u.s)\n",
    "p4 = pnt(p4)\n",
    "p4['wave'] = p4['energy'].to(u.Angstrom, equivalencies=u.spectral())\n",
    "\n",
    "instrum4 = ArcusNoDet()\n",
    "p4 = instrum4(p4)\n",
    "p4 = det(p4)"
   ]
  },
  {
   "cell_type": "code",
   "execution_count": null,
   "metadata": {},
   "outputs": [],
   "source": [
    "fig = plt.figure(figsize=(10, 4))\n",
    "ax1 = fig.add_subplot(111)\n",
    "hist_in, bins = np.histogram(p4['wave'], bins=300)\n",
    "ind = (p4['order'] != 0) & (p4['CCD'] > 0)\n",
    "hist, bins_out = np.histogram(p4['wave'][ind], \n",
    "                              weights=p4['probability'][ind], bins=bins)\n",
    "ax1.plot(0.5 * (bins[:-1] + bins[1:]), hist / hist_in * instrum4.elements[0].area.to(u.cm**2),\n",
    "         'k', lw=2, label='all channels')\n",
    "\n",
    "for i in range(4):\n",
    "    pchan = p4[p4['aperture'] == i]\n",
    "    hist_in, bins_out = np.histogram(pchan['wave'], bins=bins)\n",
    "    ind = (pchan['order'] != 0) & (pchan['CCD'] > 0)\n",
    "    hist, bins_out = np.histogram(pchan['wave'][ind], \n",
    "                                  weights=pchan['probability'][ind], bins=bins)\n",
    "    # area was dfined above and it area per channel\n",
    "    ax1.plot(0.5 * (bins[:-1] + bins[1:]), hist / hist_in * area.to(u.cm**2),\n",
    "                   label='channel {:2g}'.format(i + 1))\n",
    "\n",
    "    ax.plot()\n",
    "ax1.legend()\n",
    "out = ax1.set_title('$\\phi$ = {}'.format(phi_recommended))\n",
    "ax1.set_xlabel('wavelength [$\\AA$]')\n",
    "out = ax1.set_ylabel('$A_\\mathrm{eff}$ for dispersed orders [cm$^2$]')"
   ]
  },
  {
   "cell_type": "markdown",
   "metadata": {},
   "source": [
    "In the current set-up, there are two pairs of channels, where each pair has the zeroth orders at the same x position. Thus, the two channels within a pair have the chip gaps at identical places and effective area curves on top of each other (except for the Poisson noise due to the finite number of photons used in this simulation). However, the asymmetry between the two sets of 8 CCDs places the chip gaps between the two pairs at slightly different positions as shown in the plot. In the summed effective area this leads to chip gaps that are at most 50% deep and that have a double-humped structure.\n",
    "\n"
   ]
  },
  {
   "attachments": {},
   "cell_type": "markdown",
   "metadata": {},
   "source": [
    "## Discussion\n",
    "\n",
    "### Robustness of results\n",
    "The simulation results in this memo include most known effects of the Arcus performance, in particular, the pointing jitter. On the other hand, MARXS uses a very simple model for the SPOs. While the absolute scaling of the effective area might carry some uncertainty, relative results (i.e. the relative change in effective area for different detector positions) are expected to be robust.\n",
    "\n",
    "### Mechanical integration\n",
    "This memo does not address the problem of the mechanical integration, i.e. if the dimensions of the camera shown here fit inside the spacecraft.\n",
    "\n",
    "### Impact of chip gaps on science\n",
    "Chips gaps are inevitable for any camera made up of discrete detectors. In Arcus, we mitigate this problem by not placing both cameras exactly at the same distance from the center line. That way, chip gaps introduce drops of no more than 50% in the effective area. Yet, that still leaves us with a very structured effective area curve with sharp drops and edges. What is the impact of this on the science taken with Arcus? There are different concerns here:\n",
    "\n",
    "- When observing a target with spectral features at known positions (e.g. a star with known emission lines or an absorption line system where lines have been previously detected and now need to be studied in detail), a we can avoid to have interesting features in chip gaps by commanding an offset pointing which moves the zeroths order slightly off-nominal positions and thus moves the position of the chip gaps. **However, this leads to significant extra effort for the design of the observations and mission planning (it makes the nominal pointing position depend on the spacecraft roll angle at that time)**.\n",
    "\n",
    "- When looking for features at unknown position (science target one: Detect absorption features from hot baryons), an observation will be significantly less sensitive around the chip gaps due to reduced signal. Or, in other words: **To reach uninterrupted nominal sensitivity over the entire wavelength band, observations need to be twice as long.**\n",
    "\n",
    "- **In practice, uncertainties will be larger around chip edges then at the center of a chip.** That is true both for statistical uncertainties (e.g. for a line right at a chip edge, the continuum next to it can be fitted on one side only) and for calibration (e.g. if a line is fully on one chip, it's easy to fit the centroid, but if the peak falls in a chip gap and the fit can only be done to the line wing, the LSF model of the wings needs to be very good).\n",
    "\n",
    "\n",
    "### A proposal to reduce the effect of chip gaps\n",
    "There are two main ways to reduce the impact of the chip gaps and I suggest to implement both:\n",
    "\n",
    "- [My alignment tolerance calculations](http://space.mit.edu/home/guenther/ARCUS/Tolerances.html) show that an offset in the x direction by a few mm has little influence on the resolving power, we thus decide to reduce the impact of the chip gaps by introducing a small (-2.5 and +2.5 mm with respect to the nominal position) offset between the two channels in each pair and at the same time set an asymmetry between the two CCDs sets (10 mm). This makes each chip gap no more than 25% deep and give them a quadruple humped structure. It also places the zeroth orders further apart from each other. On the one hand cross-dispersed zero-order photons will impact more regions of the dispersed spectrum, but on the other hand, that simplifies any calibration task that uses the zeroth order because the two zeroth orders in one pair of SPOs do not interact through read-out streaks and cross-dispersed photons. Examples are zero-order effective area (for QE calibration) or monitoring the PSF (in imaging or through the width of the read-out streak). \n",
    "\n",
    "- Dithering smears out any gap in effective area due to chip gaps, or CCD artifacts (hot columns, bad pixels) by making the wavelength that is effected time-dependent. Of course, Chandra is an example for a well-calibrated mission that uses dither successfully."
   ]
  }
 ],
 "metadata": {
  "anaconda-cloud": {},
  "hide_input": false,
  "kernelspec": {
   "display_name": "Arcus",
   "language": "python",
   "name": "python3"
  },
  "language_info": {
   "codemirror_mode": {
    "name": "ipython",
    "version": 3
   },
   "file_extension": ".py",
   "mimetype": "text/x-python",
   "name": "python",
   "nbconvert_exporter": "python",
   "pygments_lexer": "ipython3",
   "version": "3.10.8"
  },
  "vscode": {
   "interpreter": {
    "hash": "19d5601b7109f36b9de8e56622ce9ffae5a9d961730b52581061a43994a758db"
   }
  }
 },
 "nbformat": 4,
 "nbformat_minor": 2
}
