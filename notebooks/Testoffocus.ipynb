{
 "cells": [
  {
   "cell_type": "markdown",
   "metadata": {},
   "source": [
    "# Numerically testing the detector position"
   ]
  },
  {
   "cell_type": "code",
   "execution_count": null,
   "metadata": {
    "collapsed": false
   },
   "outputs": [],
   "source": [
    "from nbtemplate import display_header, display_codetoggle, get_path\n",
    "display_header('Testoffocus.ipynb')"
   ]
  },
  {
   "cell_type": "markdown",
   "metadata": {},
   "source": [
    "## Goal\n",
    "\n",
    "In this show memo, I want to test that the analytically derived detector position is indeed correct. From theory, we know that the detectors should be placed tagential to the Rowland circle and Arcus follows this layout. Here, we want derive the ideal detector position numerically to confirm that the Rowland geometry is in fact valid; one might think that non-ideal effect such as the finite size of the flat facets which do not follow the Rowland torus exactly might lead to a slightly distorted focal surface."
   ]
  },
  {
   "cell_type": "markdown",
   "metadata": {},
   "source": [
    "## Appoach\n",
    "\n",
    "Let us follow the rays from the mirror, though the gratings on its way\n",
    "to the CCDs. After leaving the CAT gratings, the rays are wide both in\n",
    "dispersion and in cross-dispersion direction. Travelling down in the\n",
    "direction of the focal plane, the beam then gets narrower in both\n",
    "directions. Eventually, it reaches a point where it is the narrowest in\n",
    "dispersion direction, but still relatively wide in cross-dispersion\n",
    "direction (this is the \"spectroscopic focus\"), the PSF is elongated. Beyond this point, the\n",
    "beam widens again in dispersion direction, but continues to narrow in\n",
    "cross-dispersion direction, the PSF becomes rounder until it reaches\n",
    "(approximately) a circle (\"imaging focus\"). This is the point where the total\n",
    "PSF size is smallest. The beam continues to narrow in cross-dispersion\n",
    "direction, and widen in dispersion direction until you hit the minimum\n",
    "in cross-disperion direction (\"cross-dispersion focus\"), the PSF is elongated again, but\n",
    "with the long axis in dispersion direction now. Beyond that, the beam\n",
    "get wider in both directions again. (Note that the order of these three foci can be reversed for Rowland tori where $R$ is smaller than $r$.)\n",
    "\n",
    "We take a grid of simulations for different wavelength points then iterate over all channels and all orders which happen to have > 20 rays in that channel and order for that specific wavelength. In total, that gives me > 2000 sets of rays for which I can numerically find the spectroscopic focus, the imaging focus and the cross-dispersion focus (I am not awar of any practical use for this point, but it is easy to find anyway)."
   ]
  },
  {
   "cell_type": "code",
   "execution_count": null,
   "metadata": {
    "collapsed": true
   },
   "outputs": [],
   "source": [
    "import os\n",
    "import glob\n",
    "# get on-axis rays\n",
    "raylist = glob.glob(os.path.join(get_path('forsixte'), '*_0_0.fits'))"
   ]
  },
  {
   "cell_type": "code",
   "execution_count": null,
   "metadata": {
    "collapsed": false
   },
   "outputs": [],
   "source": [
    "import numpy as np\n",
    "from astropy.table import Table\n",
    "from marxs.math.utils import e2h\n",
    "from marxs.analysis.analysis import find_best_detector_position, mean_width_2d\n",
    "from arcus.arcus import xyz2zxy"
   ]
  },
  {
   "cell_type": "code",
   "execution_count": null,
   "metadata": {
    "collapsed": false
   },
   "outputs": [],
   "source": [
    "def get_all_foci(photons):\n",
    "    out = []\n",
    "    for chan in range(3):\n",
    "        for o in range(-12, 1):\n",
    "            tn = tab[(tab['order'] == o) & (tab['channel'] == chan)]\n",
    "            if len(tn) > 20:\n",
    "                out.append([chan, o,\n",
    "                            find_best_detector_position(tn, orientation=xyz2zxy[:3, :3]).x,\n",
    "                            tn['det_x'].mean(),\n",
    "                            find_best_detector_position(tn, orientation=xyz2zxy[:3, :3], \n",
    "                                objective_func=mean_width_2d,\n",
    "                                objective_func_args={}).x,\n",
    "                            tn['det_x'].mean(),\n",
    "                            find_best_detector_position(tn, orientation=xyz2zxy[:3, :3], \n",
    "                                objective_func_args={'colname': 'det_y'}).x,\n",
    "                            tn['det_x'].mean()])\n",
    "    return out"
   ]
  },
  {
   "cell_type": "code",
   "execution_count": null,
   "metadata": {
    "collapsed": true
   },
   "outputs": [],
   "source": [
    "allfoci = []\n",
    "for filename in raylist:\n",
    "    tab = Table.read(filename, hdu=1)\n",
    "    tab['pos'] = e2h(tab['POS'], 1)\n",
    "    tab['dir'] = e2h(tab['DIR'], 0)\n",
    "    allfoci.append(np.array(get_all_foci(tab)))"
   ]
  },
  {
   "cell_type": "code",
   "execution_count": null,
   "metadata": {
    "collapsed": false
   },
   "outputs": [],
   "source": [
    "arr = np.vstack(allfoci)"
   ]
  },
  {
   "cell_type": "code",
   "execution_count": null,
   "metadata": {
    "collapsed": true
   },
   "outputs": [],
   "source": [
    "%matplotlib inline\n",
    "import matplotlib.pyplot as plt"
   ]
  },
  {
   "cell_type": "code",
   "execution_count": null,
   "metadata": {
    "collapsed": false
   },
   "outputs": [],
   "source": [
    "from arcus.arcus import DetTwoStrips, defaultconf\n",
    "det = DetTwoStrips(conf=defaultconf)"
   ]
  },
  {
   "cell_type": "markdown",
   "metadata": {},
   "source": [
    "## Results\n",
    "\n",
    "The plot below shows the position of best focus determined for all wavenelgths, channels and orders. Together, these points map out the focus surface well. Overplotted are the Arcus CCD positions with colored lines. They are easy to miss, because they follow the spectroscopic focus almost exactly."
   ]
  },
  {
   "cell_type": "code",
   "execution_count": null,
   "metadata": {
    "collapsed": false
   },
   "outputs": [],
   "source": [
    "plt.plot(arr[:, 3], arr[:, 2], '+', label='spectroscopic')\n",
    "plt.plot(arr[:, 5], arr[:, 4], '.', label='imaging')\n",
    "plt.plot(arr[:, 7], arr[:, 6], 'x', label='cross-disperion')\n",
    "plt.xlabel('Dispersion direction [mm]')\n",
    "plt.ylabel('z position [mm]')\n",
    "for ccd in det.elements:\n",
    "    center = ccd.geometry('center')[[0, 2]]\n",
    "    vec = ccd.geometry('v_y')[[0, 2]]\n",
    "    edges = np.stack([center - vec, center + vec])\n",
    "    plt.plot(edges[:, 0], edges[:, 1], label='__no_legend__', lw=5)\n",
    "\n",
    "plt.legend(loc='upper center', title='foci')"
   ]
  },
  {
   "cell_type": "code",
   "execution_count": null,
   "metadata": {
    "collapsed": false
   },
   "outputs": [],
   "source": [
    "plt.plot(arr[:, 3], arr[:, 2], '+', label='spectroscopic')\n",
    "plt.xlabel('Dispersion direction [mm]')\n",
    "plt.ylabel('z position [mm]')\n",
    "for ccd in det.elements:\n",
    "    center = ccd.geometry('center')[[0, 2]]\n",
    "    vec = ccd.geometry('v_y')[[0, 2]]\n",
    "    edges = np.stack([center - vec, center + vec])\n",
    "    plt.plot(edges[:, 0], edges[:, 1], label='__no_legend__', lw=5)\n",
    "    \n",
    "plt.xlim(200, 800)\n",
    "plt.ylim(-10, 40)"
   ]
  },
  {
   "cell_type": "markdown",
   "metadata": {},
   "source": [
    "This second plot zooms in on one camera with eight CCDs. Looking this closely, one can see that the CCDs match the position of the numerically determined focus values better than 1 mm, which is the acceptable distance from the ideal focus before defocussing degrades the spectral resolving power significantly. A fit by-eye indicates that the numerically determined focus is about 0.2 mm below the CCD position. This deviation is more than expected from the scatter. I cna only speculate for its exact cause, but in any case, this difference is smaller than the focus tolerance determined from our tolerancing study."
   ]
  },
  {
   "cell_type": "code",
   "execution_count": null,
   "metadata": {
    "collapsed": true
   },
   "outputs": [],
   "source": [
    "display_codetoggle()"
   ]
  }
 ],
 "metadata": {
  "kernelspec": {
   "display_name": "Python [default]",
   "language": "python",
   "name": "python2"
  },
  "language_info": {
   "codemirror_mode": {
    "name": "ipython",
    "version": 2
   },
   "file_extension": ".py",
   "mimetype": "text/x-python",
   "name": "python",
   "nbconvert_exporter": "python",
   "pygments_lexer": "ipython2",
   "version": "2.7.12"
  }
 },
 "nbformat": 4,
 "nbformat_minor": 2
}
