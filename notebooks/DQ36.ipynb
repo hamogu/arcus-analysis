{
 "cells": [
  {
   "cell_type": "markdown",
   "metadata": {},
   "source": [
    "# Aligning SPO plates and CAT grating L3 structures"
   ]
  },
  {
   "cell_type": "code",
   "execution_count": null,
   "metadata": {},
   "outputs": [],
   "source": [
    "from nbtemplate import display_header, get_path\n",
    "display_header('DQ36.ipynb')"
   ]
  },
  {
   "cell_type": "markdown",
   "metadata": {},
   "source": [
    "*Because the SPO plates are radial (and thus curved) while the CAT gratings need to be aligned to the dispersion axis, it is not possible to align them such that shadows from the SPO plates and the L2 structures of the CAT grating coincide in general. This also means that it is not possible to accidentally hit a configuration where all SPO shadows fall on active CAT area.*\n",
    "\n",
    "## Goal\n",
    "\n",
    "The goal of this notebook is to make a few plots to answer the following question: \n",
    "\n",
    "Gratings and SPOs have macroscopic opaque structures (SPOs: plate thickness and ribs; Gratings: L2 supports).  They are only a short distance from each other along the optical axis.  Have you considered relative alignment of these obstructing/blocking structures (in the plane normal to the optical axis), and how much the effective area can be impacted by non-ideal relative alignment?"
   ]
  },
  {
   "cell_type": "code",
   "execution_count": null,
   "metadata": {},
   "outputs": [],
   "source": [
    "import os\n",
    "import numpy as np\n",
    "import matplotlib as mpl\n",
    "import matplotlib.pyplot as plt"
   ]
  },
  {
   "cell_type": "code",
   "execution_count": null,
   "metadata": {},
   "outputs": [],
   "source": [
    "# Hexagon vectors\n",
    "hex_base = np.array([0.5577, 0])\n",
    "# Hexagon rotation matrix to make the other sides from the first bases vector\n",
    "hex_rot = np.array([[0.5, -3.**0.5 / 2], [3**0.5 / 2, 0.5]])\n",
    "hexagon = np.zeros((6, 2))\n",
    "for i in range(1, 6):\n",
    "    hexagon[i, :] = hexagon[i - 1] + hex_base\n",
    "    hex_base = hex_rot @ hex_base\n",
    "\n",
    "hex_row_offset = hexagon[2, :]\n",
    "hex_col_offset = hexagon[4, :]"
   ]
  },
  {
   "cell_type": "code",
   "execution_count": null,
   "metadata": {},
   "outputs": [],
   "source": [
    "def linewidth_from_data_units(linewidth, axis, reference='y'):\n",
    "    \"\"\"\n",
    "    Convert a linewidth in data units to linewidth in points.\n",
    "\n",
    "    Parameters\n",
    "    ----------\n",
    "    linewidth: float\n",
    "        Linewidth in data units of the respective reference-axis\n",
    "    axis: matplotlib axis\n",
    "        The axis which is used to extract the relevant transformation\n",
    "        data (data limits and size must not change afterwards)\n",
    "    reference: string\n",
    "        The axis that is taken as a reference for the data width.\n",
    "        Possible values: 'x' and 'y'. Defaults to 'y'.\n",
    "\n",
    "    Returns\n",
    "    -------\n",
    "    linewidth: float\n",
    "        Linewidth in points\n",
    "        \n",
    "    From: https://stackoverflow.com/questions/19394505/matplotlib-expand-the-line-with-specified-width-in-data-unit\n",
    "    \"\"\"\n",
    "    fig = axis.get_figure()\n",
    "    if reference == 'x':\n",
    "        length = fig.bbox_inches.width * axis.get_position().width\n",
    "        value_range = np.diff(axis.get_xlim())\n",
    "    elif reference == 'y':\n",
    "        length = fig.bbox_inches.height * axis.get_position().height\n",
    "        value_range = np.diff(axis.get_ylim())\n",
    "    # Convert length to points\n",
    "    length *= 72\n",
    "    # Scale linewidth to value range\n",
    "    return linewidth * (length / value_range)"
   ]
  },
  {
   "cell_type": "code",
   "execution_count": null,
   "metadata": {},
   "outputs": [],
   "source": [
    "def spoplate(center, r):\n",
    "    ang = np.arange(-.5, .5, 0.001)\n",
    "    return center[0] + r * np.sin(ang), center[1] + r * np.cos(ang)\n",
    "\n",
    "def porerim(center, r):\n",
    "    '''I draw there bars converging to the center. I'm not sure that's true or if they are\n",
    "    parallel, but the difference is not actually visible within one SPO plot.'''\n",
    "    dalpha = 1./ r\n",
    "    ang = np.arange(-.1, .1, dalpha)\n",
    "    return center[0]  + np.array([0.9 * r, 1.05 * r])[:, None] * np.sin(ang), center[1]  +  np.array([0.9 * r, 1.05 * r])[:, None] * np.cos(ang)"
   ]
  },
  {
   "cell_type": "code",
   "execution_count": null,
   "metadata": {},
   "outputs": [],
   "source": [
    "hexpatch = mpl.patches.Polygon(hexagon, fc='none', ec='b', lw=20)\n",
    "\n",
    "fig = plt.figure()\n",
    "ax = fig.add_subplot(111, aspect='equal')\n",
    "ax.set_ylim(-0, 8)\n",
    "ax.set_xlim(-0, 8)\n",
    "for j in range(-15, 15):\n",
    "    for i in range(-15, 15):\n",
    "        ax.add_patch(mpl.patches.Polygon(i * hex_col_offset  + j * hex_row_offset + hexagon, \n",
    "                                         fc='none', ec='b', lw=linewidth_from_data_units(0.1, ax)))\n",
    "\n",
    "for i in range(-40, 10):\n",
    "    x, y = spoplate([30, -500], 510 + i * 0.775)\n",
    "    ax.plot(x, y, lw=linewidth_from_data_units(0.17, ax), c='0.2')\n",
    "    \n",
    "x, y = porerim([30, -500], 530)\n",
    "out = ax.plot(x, y, lw=linewidth_from_data_units(0.17, ax), c='0.2')\n",
    "ax.set_xlabel('dispersion direction [mm]')\n",
    "ax.set_ylabel('cross-dispersion direction [mm]')\n",
    "\n",
    "plt.savefig(os.path.join(get_path(\"figures\"), 'DQ36closein.png'), bbox_inches='tight', dpi=300)\n",
    "plt.savefig(os.path.join(get_path(\"figures\"), 'DQ36closein.pdf'), bbox_inches='tight', dpi=300)"
   ]
  },
  {
   "cell_type": "markdown",
   "metadata": {},
   "source": [
    "This figure shows SPO structures (plates and ribs, *black*) on top of CAT grating L2 hexagons (*blue*). The SPO plates are slightly curved because their shape is radially around the focal point. In contrast, the CAT gratings are all aligned to the dispersion direction. The image makes it clear that, even if the CAT grating L2 structure was designed to match the spacing of the SPO plates, the dead area caused by both structures cannot be aligned in a special way over the area of the telescope. Instead, both structures have a certain fraction of open area and the total open area is simple the product of the individual factors."
   ]
  },
  {
   "cell_type": "code",
   "execution_count": null,
   "metadata": {},
   "outputs": [],
   "source": [
    "hexpatch = mpl.patches.Polygon(hexagon, fc='none', ec='b', lw=20)\n",
    "\n",
    "fig = plt.figure()\n",
    "ax = fig.add_subplot(111, aspect='equal')\n",
    "ax.set_ylim(-0, 2)\n",
    "ax.set_xlim(-0, 2)\n",
    "for j in range(-15, 15):\n",
    "    for i in range(-15, 15):\n",
    "        ax.add_patch(mpl.patches.Polygon(i * hex_col_offset  + j * hex_row_offset + hexagon, \n",
    "                                         fc='none', ec='b', lw=linewidth_from_data_units(0.1, ax)))\n",
    "\n",
    "for i in range(-40, 10):\n",
    "    x, y = spoplate([30, -500], 510 + i * 0.775)\n",
    "    ax.plot(x, y, lw=linewidth_from_data_units(0.17, ax), c='0.2')\n",
    "    \n",
    "x, y = porerim([30, -500], 530)\n",
    "out = ax.plot(x, y, lw=linewidth_from_data_units(0.17, ax), c='0.2')\n",
    "ax.set_xlabel('dispersion direction [mm]')\n",
    "out = ax.set_ylabel('cross-dispersion direction [mm]')\n"
   ]
  },
  {
   "cell_type": "markdown",
   "metadata": {},
   "source": [
    "This figure shows an enlarged area."
   ]
  }
 ],
 "metadata": {
  "hide_input": false,
  "kernelspec": {
   "display_name": "Python [conda env:mayavi46]",
   "language": "python",
   "name": "conda-env-mayavi46-py"
  },
  "language_info": {
   "codemirror_mode": {
    "name": "ipython",
    "version": 3
   },
   "file_extension": ".py",
   "mimetype": "text/x-python",
   "name": "python",
   "nbconvert_exporter": "python",
   "pygments_lexer": "ipython3",
   "version": "3.8.2"
  }
 },
 "nbformat": 4,
 "nbformat_minor": 2
}
