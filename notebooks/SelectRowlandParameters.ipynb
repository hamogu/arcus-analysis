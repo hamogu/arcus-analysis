{
 "cells": [
  {
   "cell_type": "code",
   "execution_count": null,
   "metadata": {
    "collapsed": true
   },
   "outputs": [],
   "source": [
    "from __future__ import print_function"
   ]
  },
  {
   "cell_type": "code",
   "execution_count": null,
   "metadata": {},
   "outputs": [],
   "source": [
    "from nbtemplate import display_header, display_codetoggle, get_path\n",
    "display_header('SelectRowlandParameters.ipynb', status='in development')"
   ]
  },
  {
   "cell_type": "code",
   "execution_count": null,
   "metadata": {
    "collapsed": true
   },
   "outputs": [],
   "source": [
    "import os\n",
    "import sys\n",
    "from glob import glob\n",
    "import functools\n",
    "\n",
    "import numpy as np\n",
    "import matplotlib.pyplot as plt\n",
    "import matplotlib as mpl\n",
    "from astropy.table import Table\n",
    "import astropy.units as u\n",
    "\n",
    "from marxs.analysis import gratings as anagrat\n",
    "\n",
    "%matplotlib inline"
   ]
  },
  {
   "cell_type": "code",
   "execution_count": null,
   "metadata": {},
   "outputs": [],
   "source": [
    "filelist = glob(os.path.join(get_path('grid2designtorus'), '*.fits'))"
   ]
  },
  {
   "cell_type": "code",
   "execution_count": null,
   "metadata": {},
   "outputs": [],
   "source": [
    "filelist.sort()  # for display purposes. Also, makes the order more predictable\n",
    "len(filelist)"
   ]
  },
  {
   "cell_type": "code",
   "execution_count": null,
   "metadata": {},
   "outputs": [],
   "source": [
    "def zero_pos(p, coord='circ_phi'):\n",
    "    ind = (p['order'] == 0) & np.isfinite(p[coord])\n",
    "    return np.mean(p[coord][ind])\n",
    "\n",
    "def angle_covered_by_CCDs(p, n_ccds=8):\n",
    "    return n_ccds * 25. / p.meta['CIRCLE_R']"
   ]
  },
  {
   "cell_type": "code",
   "execution_count": null,
   "metadata": {
    "collapsed": true
   },
   "outputs": [],
   "source": [
    "def add_phifolded(p):\n",
    "    # calculate which angles can be covered\n",
    "    phi_0 = zero_pos(p)\n",
    "\n",
    "    # phi at the point excatly half-way between the two channels, the \"middle\"\n",
    "    phi_m = phi_0 - np.arcsin(p.meta['D_CHAN'] / 2 / p.meta['CIRCLE_R'])\n",
    "\n",
    "    # make new column \"distance from phi_m\"\n",
    "    p['phi_folded'] = np.abs(p['circ_phi'] - phi_m)"
   ]
  },
  {
   "cell_type": "code",
   "execution_count": null,
   "metadata": {},
   "outputs": [],
   "source": [
    "def plot_phi_hist(ax, p):\n",
    "    p_order = p['order', 'phi_folded', 'probability'].group_by('order')\n",
    "    bins = np.linspace(0, .2, 41)\n",
    "    sl = slice(-1, 2, -1)\n",
    "    phis = [g['phi_folded'] for g in p_order.groups]\n",
    "    probs = [g['probability'] for g in p_order.groups]\n",
    "    ax.hist(phis[sl], weights=probs[sl], bins=bins, stacked=True, \n",
    "            label=[np.int(np.abs(k[0])) for k in p_order.groups.keys[sl]], rwidth=1, ec='none')\n",
    "    ax.legend(title='Order')\n",
    "    ax.set_xlabel('dispersion angle [rad]')\n",
    "    ax.set_ylabel('# photons')"
   ]
  },
  {
   "cell_type": "code",
   "execution_count": null,
   "metadata": {},
   "outputs": [],
   "source": [
    "def aeff(p):\n",
    "    p_wave = p['wave', 'probability'].group_by('wave')\n",
    "    aeff = p_wave['wave', 'probability'].groups.aggregate(np.sum)\n",
    "    aeff['probability'] *= p.meta['A_GEOM'] * 4  / p.meta['N_PHOT']\n",
    "    aeff.rename_column('probability', 'area')\n",
    "    aeff['area'].unit = u.cm**2\n",
    "    return aeff\n",
    "    \n",
    "def plot_aeff(ax, p, **kwargs):\n",
    "    aeffd = aeff(p[p['order'] != 0])\n",
    "    label = kwargs.pop('label', '__no_legend__')\n",
    "    ax.plot(aeffd['wave'], aeffd['area'], label=label, **kwargs)\n",
    "    aeff0 = aeff(p[p['order'] == 0])\n",
    "    ax.plot(aeff0['wave'], aeff0['area'], ':', **kwargs)"
   ]
  },
  {
   "cell_type": "code",
   "execution_count": null,
   "metadata": {},
   "outputs": [],
   "source": [
    "# Need to find function that selectes the \"optimal\" detector position. \n",
    "# That clearly depends on the sceince objective, so I might in fact try different functions.\n",
    "# Here is a first attempt:\n",
    "\n",
    "def ccd8zeroorder(p, phi_0):\n",
    "    ang8 = angle_covered_by_CCDs(p, n_ccds=8) \n",
    "    binwidth = angle_covered_by_CCDs(p, n_ccds=0.1) \n",
    "    # Look at region +- 8 CCDS fro mthe zeros order, because we definitely want that in the range.\n",
    "    # Don't go +/- 8 CCDs, but a little less, so zeroth order is never exactly on the edge of detector\n",
    "    bins = np.arange(phi_0 - (ang8 - binwidth), phi_0 + (ang8 + binwidth), binwidth)\n",
    "    # This is where more contraints (e.g. optimize only the aeff for O VII) would happen\n",
    "    hist, bin_edges = np.histogram(p['phi_folded'], weights=p['probability'], bins=bins)\n",
    "    signal = np.cumsum(hist)\n",
    "    signal8 = signal[80:] - signal[:-80]\n",
    "    return bins[np.argmax(signal8)]"
   ]
  },
  {
   "cell_type": "code",
   "execution_count": null,
   "metadata": {},
   "outputs": [],
   "source": [
    "fig = plt.figure()\n",
    "ax = fig.add_subplot(111)\n",
    "plot_aeff(ax, pclean, color='b')\n",
    "plot_aeff(ax, pdet16, color='g')\n",
    "plot_aeff(ax, pdet16o7, color='r')"
   ]
  },
  {
   "cell_type": "code",
   "execution_count": null,
   "metadata": {},
   "outputs": [],
   "source": [
    "# Filter by probability because the resolvingpower_from_photonlist currently does not take that into account.\n",
    "# Probabilites are all very similar and pclean already has the 0 prob photons removed\n",
    "orders = np.arange(-12, 0.1)\n",
    "\n",
    "def calc_resolution(photons, orders):\n",
    "    '''Calculate the resolving power from a simulation result\n",
    "    \n",
    "    Parameters\n",
    "    ----------\n",
    "    photons : photon list\n",
    "    orders : np.array of shape (M,)\n",
    "    \n",
    "    Returns\n",
    "    -------\n",
    "    wave : np.array of shape (N,)\n",
    "        wavelength array\n",
    "    resolvingpower : np.array of shape (N,)\n",
    "        Resolving power averages of all dispersed orders\n",
    "    res_out : np.array of shape (M, N)\n",
    "        Resolving power per order\n",
    "    probs : np.array of shape (M, N)\n",
    "        Weighting factor for the power received in every order\n",
    "    '''\n",
    "    p_wave = photons['energy', 'probability', 'circ_phi', 'order'].group_by('energy')\n",
    "    res_out = np.zeros((len(p_wave.groups), len(orders)))\n",
    "    prob_out = np.zeros_like(res_out)\n",
    "    for i, group in enumerate(p_wave.groups):\n",
    "        res, pos, std = anagrat.resolvingpower_from_photonlist(group, orders, col='circ_phi')\n",
    "        res_out[i, :] = res\n",
    "        # Now get how important every order is for order-weighted plots\n",
    "        for j, o in enumerate(orders):\n",
    "            prob_out[i, j] = (group['probability'][group['order'] == o]).sum()\n",
    "    # Normalize prob_out\n",
    "    probs = prob_out / prob_out.sum(axis=1)[:, None]\n",
    "    ind = (orders != 0)\n",
    "    resolvingpower = np.nansum(res_out[:, ind] * probs[:, ind], axis=1)\n",
    "    wave = p_wave.groups.keys['energy'].to(u.Angstrom, equivalencies=u.spectral())\n",
    "    return wave, resolvingpower, res_out, probs"
   ]
  },
  {
   "cell_type": "code",
   "execution_count": null,
   "metadata": {
    "collapsed": true
   },
   "outputs": [],
   "source": []
  },
  {
   "cell_type": "code",
   "execution_count": null,
   "metadata": {},
   "outputs": [],
   "source": [
    "wave, res, res_out, probs = calc_resolution(pclean, orders)\n",
    "out = plt.plot(wave, res_out)\n",
    "out = plt.plot(wave, res, 'b', lw=4)\n",
    "\n",
    "wave, res, res_out, probs = calc_resolution(pdet16, orders)\n",
    "out = plt.plot(wave, res, 'g', lw=4)\n",
    "\n",
    "wave, res, res_out, probs = calc_resolution(pdet16o7, orders)\n",
    "out = plt.plot(wave, res, 'r', lw=4)\n"
   ]
  },
  {
   "cell_type": "code",
   "execution_count": null,
   "metadata": {
    "collapsed": true
   },
   "outputs": [],
   "source": [
    "def plot_everything(p):\n",
    "    add_phifolded(p)\n",
    "    p['wave'] = p['energy'].to(u.Angstrom, equivalencies=u.spectral())\n",
    "    # make clean sample of photons\n",
    "    ind = np.isfinite(p['circ_phi']) & np.isfinite(p['order']) & (p['probability'] > 0)\n",
    "    pclean = p[ind]\n",
    "    \n",
    "    pcleandisp = pclean[pclean['order'] < 0]\n",
    "\n",
    "    phistart = ccd8zeroorder(pcleandisp, np.abs(phi_0 - phi_m))\n",
    "    pdet16 = pclean[(pclean['phi_folded'] > phistart) & (pclean['phi_folded'] < (phistart + angle_covered_by_CCDs(p)))]\n",
    "\n",
    "    po7 = pcleandisp[(pcleandisp['wave'] > 19.9) & (pcleandisp['wave'] < 22.5)]\n",
    "    phistart = ccd8zeroorder(po7, np.abs(phi_0 - phi_m))\n",
    "    pdet16o7 = pclean[(pclean['phi_folded'] > phistart) & (pclean['phi_folded'] < (phistart + angle_covered_by_CCDs(p)))]\n",
    "    \n",
    "    plists = [pclean, pdet16, pdet16o7]\n",
    "    colors = 'bgr'\n",
    "    \n",
    "    fig = plt.figure(figsize=(12, 6))\n",
    "    ax1 = fig.add_subplot(131)\n",
    "    plot_phi_hist(ax1, pclean)\n",
    "    \n",
    "    ax2 = fig.add_subplot(132)\n",
    "    for pl, c in zip(plists, colors):\n",
    "        plot_aeff(ax2, pl, color=c)\n",
    "\n",
    "    ax3 = fig.add_subplot(133)\n",
    "    wave, res, res_out, probs = calc_resolution(pclean, orders)\n",
    "    ax3.plot(wave, res_out)\n",
    "    ax3.plot(wave, res, 'b', lw=4)\n",
    "\n",
    "    wave, res, res_out, probs = calc_resolution(pdet16, orders)\n",
    "    ax3.plot(wave, res, 'g', lw=4)\n",
    "\n",
    "    wave, res, res_out, probs = calc_resolution(pdet16o7, orders)\n",
    "    ax3.plot(wave, res, 'r', lw=4)\n",
    "    \n",
    "    return fig"
   ]
  },
  {
   "cell_type": "code",
   "execution_count": null,
   "metadata": {},
   "outputs": [],
   "source": [
    "p = Table.read(filelist[-4])\n",
    "fig = plot_everything(p)"
   ]
  },
  {
   "cell_type": "code",
   "execution_count": null,
   "metadata": {},
   "outputs": [],
   "source": [
    "p = Table.read(filelist[30])\n",
    "fig = plot_everything(p)"
   ]
  },
  {
   "cell_type": "code",
   "execution_count": null,
   "metadata": {
    "collapsed": true
   },
   "outputs": [],
   "source": []
  }
 ],
 "metadata": {
  "anaconda-cloud": {},
  "hide_input": false,
  "kernelspec": {
   "display_name": "Python [default]",
   "language": "python",
   "name": "python2"
  },
  "language_info": {
   "codemirror_mode": {
    "name": "ipython",
    "version": 2
   },
   "file_extension": ".py",
   "mimetype": "text/x-python",
   "name": "python",
   "nbconvert_exporter": "python",
   "pygments_lexer": "ipython2",
   "version": "2.7.13"
  }
 },
 "nbformat": 4,
 "nbformat_minor": 2
}
