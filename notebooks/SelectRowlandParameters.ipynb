{
 "cells": [
  {
   "cell_type": "code",
   "execution_count": null,
   "metadata": {
    "collapsed": true
   },
   "outputs": [],
   "source": [
    "from __future__ import print_function"
   ]
  },
  {
   "cell_type": "code",
   "execution_count": null,
   "metadata": {
    "collapsed": false
   },
   "outputs": [],
   "source": [
    "from nbtemplate import display_header, get_path\n",
    "display_header('SelectRowlandParameters.ipynb', status='in development')"
   ]
  },
  {
   "cell_type": "code",
   "execution_count": null,
   "metadata": {
    "collapsed": true
   },
   "outputs": [],
   "source": [
    "import os\n",
    "import sys\n",
    "from glob import glob\n",
    "import functools\n",
    "\n",
    "import numpy as np\n",
    "import matplotlib.pyplot as plt\n",
    "import matplotlib as mpl\n",
    "from astropy.table import Table\n",
    "import astropy.units as u\n",
    "\n",
    "%matplotlib inline"
   ]
  },
  {
   "cell_type": "code",
   "execution_count": null,
   "metadata": {
    "collapsed": false
   },
   "outputs": [],
   "source": [
    "filelist = glob(os.path.join(get_path('grid2designtorus'), '*.fits'))"
   ]
  },
  {
   "cell_type": "code",
   "execution_count": null,
   "metadata": {
    "collapsed": false
   },
   "outputs": [],
   "source": [
    "filelist.sort()  # for display purposes. Also, makes the order more predictable\n",
    "len(filelist)"
   ]
  },
  {
   "cell_type": "code",
   "execution_count": null,
   "metadata": {
    "collapsed": true
   },
   "outputs": [],
   "source": [
    "p = Table.read(filelist[-4])\n",
    "p['wave'] = p['energy'].to(u.Angstrom, equivalencies=u.spectral())"
   ]
  },
  {
   "cell_type": "code",
   "execution_count": null,
   "metadata": {
    "collapsed": false
   },
   "outputs": [],
   "source": [
    "p['probability'].sum()"
   ]
  },
  {
   "cell_type": "code",
   "execution_count": null,
   "metadata": {
    "collapsed": false
   },
   "outputs": [],
   "source": [
    "zero_pos(p)"
   ]
  },
  {
   "cell_type": "code",
   "execution_count": null,
   "metadata": {
    "collapsed": true
   },
   "outputs": [],
   "source": [
    "p = p.group_by('wave')"
   ]
  },
  {
   "cell_type": "code",
   "execution_count": null,
   "metadata": {
    "collapsed": true
   },
   "outputs": [],
   "source": [
    "p_prob = p['wave', 'probability'].groups.aggregate(np.mean)"
   ]
  },
  {
   "cell_type": "code",
   "execution_count": null,
   "metadata": {
    "collapsed": false
   },
   "outputs": [],
   "source": [
    "# Factor 4 is there because we simulate only one channel in this grid for speed.\n",
    "plt.plot(p_prob['wave'], p_prob['probability'] * p_prob.meta['A_GEOM'] * 4)\n",
    "\n",
    "# This sill incluces everything - Photons that miss the detector, 0th order and dispersed etc."
   ]
  },
  {
   "cell_type": "code",
   "execution_count": null,
   "metadata": {
    "collapsed": false
   },
   "outputs": [],
   "source": [
    "def zero_pos(p, coord='circ_phi'):\n",
    "    ind = (p['order'] == 0) & np.isfinite(p[coord])\n",
    "    return np.mean(p[coord][ind])\n",
    "\n",
    "def angle_covered_by_CCDs(p, n_ccds=8):\n",
    "    return 8 * 25. / (2. * np.pi * p.meta['CIRCLE_R'])"
   ]
  },
  {
   "cell_type": "code",
   "execution_count": null,
   "metadata": {
    "collapsed": true
   },
   "outputs": [],
   "source": [
    "# calculate which angles can be covered\n",
    "phi_0 = zero_pos(p)\n",
    "phi_ccd = angle_covered_by_CCDs(p)\n",
    "\n",
    "# phi at the point excatly half-way between the two channels, the \"middle\"\n",
    "phi_m = phi_0 - np.arcsin(p.meta['D_CHAN'] / 2 / p.meta['CIRCLE_R'])\n",
    "\n",
    "# make new column \"distance from phi_m\"\n",
    "p['phi_folded'] = np.abs(p['circ_phi'] - phi_m)"
   ]
  },
  {
   "cell_type": "code",
   "execution_count": null,
   "metadata": {
    "collapsed": false
   },
   "outputs": [],
   "source": [
    "p.meta"
   ]
  },
  {
   "cell_type": "code",
   "execution_count": null,
   "metadata": {
    "collapsed": false
   },
   "outputs": [],
   "source": [
    "angle_covered_by_CCDs(p)"
   ]
  },
  {
   "cell_type": "code",
   "execution_count": null,
   "metadata": {
    "collapsed": false
   },
   "outputs": [],
   "source": [
    "ind = np.isfinite(p['circ_phi'])\n",
    "out = plt.hist(p['phi_folded'][ind], weight, bins=100, range=[0,.1])"
   ]
  },
  {
   "cell_type": "code",
   "execution_count": null,
   "metadata": {
    "collapsed": false
   },
   "outputs": [],
   "source": [
    "indgood = np.isfinite(p['order']) & np.isfinite(p['circ_phi'])\n",
    "inddisp = indgood & (p['order'] < 0)\n",
    "ind0 = indgood & (p['order'] == 0)"
   ]
  },
  {
   "cell_type": "code",
   "execution_count": null,
   "metadata": {
    "collapsed": false
   },
   "outputs": [],
   "source": [
    "indwave = p['wave'] > 12.\n",
    "hist, bin_edges = np.histogram(p['circ_phi'][indwave], weights=p['probability'][indwave])"
   ]
  },
  {
   "cell_type": "code",
   "execution_count": null,
   "metadata": {
    "collapsed": false
   },
   "outputs": [],
   "source": [
    "p_prob = p['wave', 'probability'].groups.aggregate(np.mean)\n",
    "# Factor 4 is there because we simulate only one channel in this grid for speed.\n",
    "#plt.plot(p_prob['wave'], p_prob['probability'] * p_prob.meta['A_GEOM'] * 4)\n",
    "phistart = 0\n",
    "indang = (p['circ_phi'] > phistart) & (p['circ_phi'] < (phistart + angle_covered_by_CCDs(p) + 1.)) & inddisp\n",
    "p_t = p[indang]\n",
    "p_prob = p_t.group_by('wave')\n",
    "p_prob = p_prob['wave', 'probability'].groups.aggregate(np.mean)\n",
    "plt.plot(p_prob['wave'], p_prob['probability'] * p.meta['A_GEOM'] * 4)\n"
   ]
  },
  {
   "cell_type": "code",
   "execution_count": null,
   "metadata": {
    "collapsed": false
   },
   "outputs": [],
   "source": [
    "p.colnames"
   ]
  },
  {
   "cell_type": "code",
   "execution_count": null,
   "metadata": {
    "collapsed": false
   },
   "outputs": [],
   "source": [
    "ind = np.isfinite(p['circ_phi'])\n",
    "out = plt.hist(p['circ_phi'][ind], bins=100)"
   ]
  },
  {
   "cell_type": "code",
   "execution_count": null,
   "metadata": {
    "collapsed": true
   },
   "outputs": [],
   "source": []
  }
 ],
 "metadata": {
  "anaconda-cloud": {},
  "kernelspec": {
   "display_name": "Python [default]",
   "language": "python",
   "name": "python2"
  },
  "language_info": {
   "codemirror_mode": {
    "name": "ipython",
    "version": 2
   },
   "file_extension": ".py",
   "mimetype": "text/x-python",
   "name": "python",
   "nbconvert_exporter": "python",
   "pygments_lexer": "ipython2",
   "version": "2.7.12"
  }
 },
 "nbformat": 4,
 "nbformat_minor": 2
}
