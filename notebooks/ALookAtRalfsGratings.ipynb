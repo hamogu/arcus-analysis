{
 "cells": [
  {
   "cell_type": "code",
   "execution_count": null,
   "metadata": {},
   "outputs": [],
   "source": [
    "from nbtemplate import display_header, display_codetoggle, get_path\n",
    "display_header('ALookAtRalfsGratings.ipynb')"
   ]
  },
  {
   "cell_type": "markdown",
   "metadata": {},
   "source": [
    "## Grating efficiencies\n",
    "\n",
    "This short write-up collects a few different ways to visualize the grating efficiencies that Ralf\n",
    "has provided for my simulations.\n",
    "Looking at those plots helps to understand which area of the Rowland circle shold be covered with detectors\n",
    "and which of them receive hardly any photons anyway."
   ]
  },
  {
   "cell_type": "code",
   "execution_count": null,
   "metadata": {},
   "outputs": [],
   "source": [
    "import numpy as np\n",
    "import astropy.units as u\n",
    "from cycler import cycler\n",
    "import matplotlib.pyplot as plt\n",
    "\n",
    "%matplotlib inline"
   ]
  },
  {
   "cell_type": "code",
   "execution_count": null,
   "metadata": {},
   "outputs": [],
   "source": [
    "plt.rc('axes', prop_cycle=(cycler('color', ['r', 'g', 'b', 'y', 'c', 'm', 'k', 'orange', 'lime']) *\n",
    "cycler('linestyle', ['-', '--', ':'])))\n"
   ]
  },
  {
   "cell_type": "code",
   "execution_count": null,
   "metadata": {
    "scrolled": true
   },
   "outputs": [],
   "source": [
    "import arcus"
   ]
  },
  {
   "cell_type": "code",
   "execution_count": null,
   "metadata": {},
   "outputs": [],
   "source": [
    "# Make wavelength grid for plots\n",
    "wave = np.arange(8., 50., 0.5) * u.Angstrom\n",
    "energies = wave.to(u.keV, equivalencies=u.spectral()).value"
   ]
  },
  {
   "cell_type": "code",
   "execution_count": null,
   "metadata": {},
   "outputs": [],
   "source": [
    "d = 2e-4 * u.mm\n",
    "\n",
    "ralftab = arcus.ralfgrating.InterpolateRalfTable()\n",
    "\n",
    "def plot_wave_orders(ax, blazeang, x='wave', plot_orders=range(-12, 1)):\n",
    "    orders, inter = ralftab.probabilities(energies, None, np.deg2rad(blazeang))\n",
    "    for o in plot_orders:\n",
    "        n = (orders == o)\n",
    "        if n.sum() != 1:\n",
    "            raise ValueError(f'order {o} not defined in the probabilities table.')\n",
    "        else:\n",
    "            n = n.nonzero()[0][0]\n",
    "        if x == 'wave':\n",
    "            ax.plot(wave, inter[n, :], label=o)\n",
    "        elif x == 'angle':\n",
    "            ax.plot(np.arcsin(n * wave / d), inter[n, :], label=o)\n",
    "        elif x == 'mlambda':\n",
    "            ax.plot(wave * np.abs(orders[n]), inter[n, :], label=o)\n",
    "    if x == 'wave':\n",
    "        ax.set_xlabel('wavelength [$\\AA{}$]')\n",
    "    elif x == 'angle':\n",
    "        ax.set_xlabel('grating angle [rad]')\n",
    "    elif x == 'mlambda':\n",
    "        ax.set_xlabel(' m * $\\lambda$ [$\\AA{}$]')\n",
    "    ax.set_ylabel('grating efficiency')\n",
    "    ax.legend()"
   ]
  },
  {
   "cell_type": "code",
   "execution_count": null,
   "metadata": {},
   "outputs": [],
   "source": [
    "fig = plt.figure(figsize=(12, 12))\n",
    "for i, blazeang in enumerate([1.91, 1.7, 1.5, 1.3]):\n",
    "    ax = fig.add_subplot(2,2,i+1)\n",
    "    plot_wave_orders(ax, blazeang, 'wave')\n",
    "    ax.set_xlim([None, 60])\n",
    "    ax.set_title('blaze angle = {0}'.format(blazeang))"
   ]
  },
  {
   "cell_type": "markdown",
   "metadata": {},
   "source": [
    "\n",
    "### Second peak far below blaze peak\n",
    "**Question**: Order 4 has peak at  at 33 Ang. Why is there a second peak about 12 Ang?\n",
    "Order 3 has blaze peak that 45 Ang. Why is there a second peak at 12 Ang?\n",
    "Order 2 has peak apparently > 50 Ang (off the plot). Why is there a second large peak around 12 Ang?\n",
    "\n",
    "**Answer from Ralf**\n",
    "At these short wavelengths the attenuation length in Si becomes comparable to or greater than the depth of the grating (4 micron), i.e. the grating becomes partially transparent, or in other words, partially transmits through the silicon bars.  This turns the grating into more of a phase-shifting grating, similar to the HETG with Au bars at higher energies.  Or like a glass grating for visible light.  It's a gradual change as you go towards shorter wavelengths, and so there are regions where 3rd and 4th order are strong, just as 1st order peaks at a certain energy for HETG.\n",
    "\n",
    "Hope this helps.\n",
    "\n",
    "Ralf\n"
   ]
  },
  {
   "cell_type": "code",
   "execution_count": null,
   "metadata": {},
   "outputs": [],
   "source": [
    "fig = plt.figure(figsize=(12, 12))\n",
    "for i, blazeang in enumerate([1.91, 1.7, 1.5, 1.3]):\n",
    "    ax = fig.add_subplot(2,2,i+1)\n",
    "    plot_wave_orders(ax, blazeang, 'angle')\n",
    "    ax.set_title('blaze angle = {0}'.format(blazeang))\n",
    "    ax.set_xlim([0, 0.12])"
   ]
  },
  {
   "cell_type": "markdown",
   "metadata": {},
   "source": [
    "The blaze peak is around 0.07 rad. Obviously this is the region that should be covered with CCDs to obtain\n",
    "the best possible effective area.\n",
    "\n",
    "However, for the low orders, most of the effictive area is actually not at the blaze peak, but at much smaller angles close to the zeroth order. If we want to go to low wavelength (high energies) then we have to record that signal, too."
   ]
  },
  {
   "cell_type": "code",
   "execution_count": null,
   "metadata": {},
   "outputs": [],
   "source": [
    "np.rad2deg(0.07)"
   ]
  },
  {
   "cell_type": "code",
   "execution_count": null,
   "metadata": {},
   "outputs": [],
   "source": [
    "fig = plt.figure(figsize=(12, 12))\n",
    "for i, blazeang in enumerate([1.91, 1.7, 1.5, 1.3]):\n",
    "    ax = fig.add_subplot(2,2,i+1)\n",
    "    plot_wave_orders(ax, blazeang, 'mlambda')\n",
    "    ax.set_title('blaze angle = {0}'.format(blazeang))\n",
    "    ax.set_xlim([0, 250])"
   ]
  },
  {
   "cell_type": "code",
   "execution_count": null,
   "metadata": {},
   "outputs": [],
   "source": [
    "fig = plt.figure()\n",
    "ax = fig.add_subplot(111)\n",
    "plot_wave_orders(ax, 1.91, 'mlambda')\n",
    "ax.set_title('blaze angle = {0}'.format(1.91))\n",
    "ax.set_xlim([0, 250])"
   ]
  },
  {
   "cell_type": "code",
   "execution_count": null,
   "metadata": {},
   "outputs": [],
   "source": [
    "orders, inter = ralftab.probabilities(energies, None, np.deg2rad(1.9))"
   ]
  },
  {
   "cell_type": "code",
   "execution_count": null,
   "metadata": {},
   "outputs": [],
   "source": [
    "for blaze in [1.3, 1.5, 1.7, 1.9]:\n",
    "    orders, inter = ralftab.probabilities(energies, None, np.deg2rad(blaze))\n",
    "    plt.plot(wave, inter[orders < 0, :].sum(axis=0), label='{:3.1f} deg'.format(blaze))\n",
    "    \n",
    "out = plt.legend(title='blaze')\n",
    "out = plt.title('Sum of dispersed orders')"
   ]
  },
  {
   "cell_type": "markdown",
   "metadata": {},
   "source": [
    "This plot (above) shows the summed efficiency of all dispersed (negative) orders. We'll look at the positive orders below, but for CAT gratings there is very little power in the positive orders anyway, because they are blazed. Different lines in the plot compare different blaze angles. For the range of angles between about 1.3 and 1.9 degrees, the efficiencies are typically within about 10 % of each other, but the best overall efficiency is achieved for a blaze angle around 1.6 deg. Note that this is just the grating efficiency. For instrument design, we have to take into account that not all orders might be covered by CCDs."
   ]
  },
  {
   "cell_type": "code",
   "execution_count": null,
   "metadata": {},
   "outputs": [],
   "source": [
    "fig = plt.figure()\n",
    "\n",
    "ax = fig.add_subplot(111)\n",
    "plot_wave_orders(ax, 1.91, 'wave', plot_orders=np.arange(-4, 5))\n",
    "ax.set_xlim([None, 60])\n",
    "out = ax.set_title('Looking and anti-blaze orders')"
   ]
  },
  {
   "cell_type": "markdown",
   "metadata": {},
   "source": [
    "In this last plot, we chose the plot range, to highlight orders in the anti-blaze direction. There is not much power there for CAT gratings, but it's non-zero at least for order +1 for a wide range of energies and there is some contribution for +2. Higher orders are essentially negligible. "
   ]
  },
  {
   "cell_type": "code",
   "execution_count": null,
   "metadata": {},
   "outputs": [],
   "source": [
    "display_codetoggle()"
   ]
  }
 ],
 "metadata": {
  "hide_input": false,
  "kernelspec": {
   "display_name": "Python [conda env:arcustest]",
   "language": "python",
   "name": "conda-env-arcustest-py"
  },
  "language_info": {
   "codemirror_mode": {
    "name": "ipython",
    "version": 3
   },
   "file_extension": ".py",
   "mimetype": "text/x-python",
   "name": "python",
   "nbconvert_exporter": "python",
   "pygments_lexer": "ipython3",
   "version": "3.6.6"
  }
 },
 "nbformat": 4,
 "nbformat_minor": 1
}
