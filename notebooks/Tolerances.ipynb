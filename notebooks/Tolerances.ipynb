{
 "cells": [
  {
   "cell_type": "markdown",
   "metadata": {},
   "source": [
    "# Alignment tolerance"
   ]
  },
  {
   "cell_type": "code",
   "execution_count": null,
   "metadata": {
    "collapsed": true
   },
   "outputs": [],
   "source": [
    "from __future__ import print_function"
   ]
  },
  {
   "cell_type": "code",
   "execution_count": null,
   "metadata": {},
   "outputs": [],
   "source": [
    "from nbtemplate import display_header, display_codetoggle, get_path\n",
    "display_header('Tolerances.ipynb', status='draft')"
   ]
  },
  {
   "cell_type": "markdown",
   "metadata": {},
   "source": [
    "## Purpose\n",
    "\n",
    "The purpose of this study is to estimate the effect of alignment errors on the key performance characteristics of Arcus: Spectral resolving power and effective area. These numbers can then be used to guide the decision how to build up an error budget that specifies the allowable alignment tolerances for individual components. Naturally, there will be a trade-of: If one parameter is set looser, that will generally means that all the other alignment tolerances have to be smaller. Science requirements  put limits on the maximal allowable degradation of spectral resolving power and effective area and engineering constraints determine how well e.g. individual SPOs can be aligned into petals, how well the petals can the aligned to the forward assembly, and how well the forward assembly can be aligned to the detector housing. In general, tighter tolerances require more work, time, and money. We thus need to understand how important each possible degree of freedom is to the total performance of the system to identify those where significant design and work needs to go into the alignment. It is beyond the scope of this document to \"divy up\" the total allowable tolerance to individual alignment steps; instead, this document presents the results of ray-trace calculations for many different scenarios of misalignments and thus provides input for a broader discussion between scientists, engineers, and project managers of how to handle alignment tolerances.\n",
    "\n",
    "For some degrees of freedom in alignment only a ray-trace can really give the impact of misalignments, in other cases satisfactory estimates of the importance can be made analytically. Even in the second case, ray-trace calculations are a crucial cross-check, because they automatically take into account all possible effects, while analytical calculations generally concentrate on a fist-order approximation.\n",
    "\n",
    "It is worth mentioning, that the Arcus science would profit from an spectral resolving power or effective area above the defined minimum values for a baseline and threshold mission. For example, narrow absorption lines can be identified better with a higher spectral resolving power, potentially reducing the required observing time or making up for a loss in effective area. If technically feasible, the project will thus aim not to \"use up\" the entire misalignment budget, but to deliver specifically a spectral resolving power above the minimum requirements.\n",
    "\n",
    "## Approach\n",
    "\n",
    "The simulations start from a perfectly aligned version of Arcus. Even this does not provide infinite resolving power, because this model already includes non-ideal effects that are not due to alignment, most notably, pointing jitter, which blurs the direction of the incoming photons, some astigmatism inherent in the design, and finite sizes of CAT gratings and CCD detectors, which means that they deviate from the ideal Rowland geometry. A ray-trace is run with this design and spectral resolving power ($R$) and effective area ($A_\\mathrm{eff}$) are calculated.\n",
    "After running the baseline version, one element of Arcus is shifted in one degree of freedom, e.g. all CCDs are shifted by 1 mm in the dispersion direction. The ray-trace is repeated, again $R$ and $A_\\mathrm{eff}$ are calculated, then all CCDs are shifted by 2 mm and so on. After testing out the parameters space in dispersion direction, the CCDs will be shifted in cross-dispersion direction. In this way, each element (for example the CCD array), will be \"misaligned\" by various amounts in one of 6 degrees of freedom (shift along x,y,z, and rotation around x, y, z). In the first stage, only one degree of freedom is changed at a time, so there are no simulations where e.g. the CCD is misaligned in x, y, and z simultaneously. This is purely a computational limitation. Simulations are done for about 30 steps for each degree of freedom, which requires about $6*30=180$ simulations for the CCDs and similar numbers for SPOs, CAT gratings etc. Together, the first exploration where only one degree of freedom is varied at a time is based on several thousand simulations. If instead, we wanted to explore the full 6-dimensional parameter space, we would need $30^6\\approx10^9$ simulations for the CCDs alone.\n",
    "\n",
    "For small tolerances it is not an unreasonable assumption that the misalignments in different degrees of freedom just add up and this can be used to build the total misalignment budget. Also, just looking at the results from the first stage, will identify some degrees of freedom where the alignment is easily (e.g. just from simple machining tolerances) much better than the requirements. In a second step, we can then run ray-traces where all degrees of freedom are varied according to the misalignment budget and thus check if the assumptions going into combining the misalignments in different degrees of freedom hold or if non-linear interactions degrade $R$ and $A_\\mathrm{eff}$ more than expected. In this case, we need to revise the misalignment budget appropriately.\n",
    "\n",
    "To keep the computational load reasonable, we simulate only one channel of Arcus. Since spectra from each channel will be extracted separately and there is symmetry between the channels, most results apply equally to all channels. We discuss in the text the few instances where the channel symmetry does not apply perfectly.\n",
    "Each simulation consists of 20000 photons and the same source photons are used for each series of ray-traces, e.g. all global CCD misalignments use the same photons. \n"
   ]
  },
  {
   "cell_type": "markdown",
   "metadata": {},
   "source": [
    "## Step 1: Changing one parameter at the time\n",
    "\n",
    "The next few sections present ray-trace results where one degree of freedom for an alignment is changed compared to the perfectly aligned Arcus model. \n",
    "\n",
    "### How to read the simulation results\n",
    "\n",
    "In most cases, six plots are presented. The top row shows translations, the bottom row shows rotations. The first plot in each row is the translation in (or rotation around) the global telescope x-axis, the second plot is for the y axis, and the last one for the z axis. The global Arcus coordinate system is formally defined in two memos written separately by major study group 1 and Ed Hertz. In short, the z-axis is parallel to the optical axis, the x-axis is the grating dispersion direction and the y axis is the cross-dispersion direction. A short description and sketch of this system can be found in the [Rowland Torus memo](http://space.mit.edu/home/guenther/ARCUS/RowlandGeometry.html). In general, rotations are not done around the origin of the coordinate system, but around the center of an element (e.g. the center of a SPO petal), this is described in detail for individual elements below.\n",
    "\n",
    "Each figure shows the shift or rotation angle on the x-axis and then plots the spectral resolving power ($R$) with a solid line, the value for $R$ can be seen on the left y-axis of the figure. Overplotted is the effective area with dotted lines, the value can be seen on the right y-axis of the plot. Note that these effective areas are for *one channel only*, so the total Arcus effective area will be four times larger. The exact numbers for the effective area are subject to change as we continue to develop the ray-trace simulation, for example, currently, the simulation does not include obscuration by a thin hexagonal support mesh under the optical blocking filter. However, most of the missing effects are just an overall factor and the *relative* change in $A_\\mathrm{eff}$ with increased misalignment is very robust.\n",
    "\n",
    "Ray-tracing is performed for three different representative wavelength in the Arcus bandpass, shown as different colored lines on the plots.\n",
    "\n",
    "When looking at the figures below, keep the following points in mind:\n",
    "\n",
    "- Each simulation is done with 20000 photons, so some scatter due to Poisson noise is inevitable. For some axis, $R$ is essentially unchanged, so that the y axis range is chosen from e.g. 4600 to 4800. While the lines on the plot zig-zag between the top and the bottom, the real change in $R$ is only a few percent, entirely consistent with Poisson statistics.\n",
    "- $A_\\mathrm{eff}$ is given summed over all dispersed orders that fall on a CCD and $R$ is the average resolving power, where the resolving power from individual orders is averaged weighted by the number of photons in that particular order. It can happen, that $R$ in the plot increases with increasing misalignment. If $A_\\mathrm{eff}$ drops at the same time, then this typically means that an order with lower-that-average dropped of the CCD (thus reducing the summed $A_\\mathrm{eff}$, and thus the average $R$ increases. There is no scientific benefit from the apparently increased $R$ here - if one required a higher resolving power, the lower orders can be ignored in scientific analysis even if they fall on the CCD.\n",
    "- Note that the zoom level for all axes (bottom, left, right) is chosen differently for each plot to highlight relevant features.\n",
    "\n",
    "In the following sections, there are two different ways to apply misalignments. In the first case, we apply a deterministic change to all elements at once, e.g. we shift the entire SPO petal by 5 mm to the left. In the code, this is implemented by shifting each SPO in the petal by the same 5 mm in the same direction. In this frame, a global rotation would mean that the entire SPO petal is rotated rigidly by some angle, so that the SPOs in the center move very little, while the SPOs on the outside rotate with a larger lever arm. These calculations are are done for a range of negative and positive value and are shown with a **grey** background. In the second case, we apply misalignments to each element individually for example, we move the SPOs within the (stationary) SPO petal. In this case, the actual change for each SPO is drawn from a Gaussian distribution centered on 0 and with a Gaussian $\\sigma$ corresponding to e.g. 5 mm. The *average* misalignment off all SPOs will be close to 0 in this case, but they are all shifted relative to each other. These simulations are shown with **light pink** background."
   ]
  },
  {
   "cell_type": "code",
   "execution_count": null,
   "metadata": {},
   "outputs": [],
   "source": [
    "30**6/1e9"
   ]
  },
  {
   "cell_type": "code",
   "execution_count": null,
   "metadata": {},
   "outputs": [],
   "source": [
    "import os\n",
    "import numpy as np\n",
    "import matplotlib.pyplot as plt\n",
    "from astropy.table import Table\n",
    "\n",
    "%matplotlib inline"
   ]
  },
  {
   "cell_type": "code",
   "execution_count": null,
   "metadata": {},
   "outputs": [],
   "source": [
    "det_glo = Table.read(os.path.join(get_path('tolerances'), 'detector_global.fits'))"
   ]
  },
  {
   "cell_type": "code",
   "execution_count": null,
   "metadata": {
    "collapsed": true
   },
   "outputs": [],
   "source": [
    "parlist = ['tx', 'ty', 'tz', 'rx', 'ry', 'rz']\n",
    "\n",
    "def select_changed(table, par):\n",
    "    pars = set(parlist)\n",
    "    ind = np.ones(len(table), dtype=bool)\n",
    "    for p in pars - set([par]):\n",
    "        ind *= table[p] == 0\n",
    "    return table[ind]"
   ]
  },
  {
   "cell_type": "code",
   "execution_count": null,
   "metadata": {},
   "outputs": [],
   "source": [
    "def plot_wiggle(tab, col, ax, axes_bkgcolor='w'):\n",
    "    t = select_changed(tab, col)\n",
    "    t.sort(col)\n",
    "    t_wave = t.group_by('wave')\n",
    "    axt = ax.twinx()\n",
    "    \n",
    "    for key, g in zip(t_wave.groups.keys, t_wave.groups):\n",
    "        if col[0] == 't':\n",
    "            x = g[col]\n",
    "        elif col[0] == 'r':\n",
    "            x = np.rad2deg(g[col].data)\n",
    "        \n",
    "        ax.plot(x, g['Rgrat'], label='{:2.0f} $\\AA$'.format(key[0]), lw=1.5)\n",
    "        axt.plot(x, g['Aeffgrat'], ':', label='{:2.0f} $\\AA$'.format(key[0]), lw=2)\n",
    "    ax.set_ylabel('Resolving power (solid lines)')\n",
    "    axt.set_ylabel('$A_{eff}$ [cm$^2$] (dotted lines)')\n",
    "    if col[0] == 't':\n",
    "        ax.set_xlabel('shift [mm]')\n",
    "        ax.set_title('Shift along {}'.format(col[1]))\n",
    "    elif col[0] == 'r':\n",
    "        ax.set_xlabel('Rotation [degree]')\n",
    "        ax.set_title('Rotation around {}'.format(col[1]))\n",
    "    ax.set_axis_bgcolor(axes_bkgcolor)\n",
    "    ax.set_axisbelow(True)\n",
    "    ax.grid(axis='x', c='1.0', lw=2, ls='solid')\n",
    "    #ax.set_xscale('symlog')\n",
    "    \n",
    "def load_plot(filename):\n",
    "    tab = Table.read(os.path.join(get_path('tolerances'), filename))\n",
    "\n",
    "    if 'global' in filename:\n",
    "        axes_bkgcolor = '0.9'\n",
    "    elif 'individual' in filename:\n",
    "        axes_bkgcolor = (1., 0.9, 0.9)\n",
    "    else:\n",
    "        axes_bkgcolor = 'w'\n",
    "        \n",
    "    fig = plt.figure(figsize=(12, 8))\n",
    "    fig.subplots_adjust(wspace=.6, hspace=.3)\n",
    "    for i, c in enumerate(parlist):\n",
    "        ax = fig.add_subplot(2, 3, i + 1)\n",
    "        plot_wiggle(tab, c, ax, axes_bkgcolor)\n",
    "    \n",
    "    return tab, fig"
   ]
  },
  {
   "cell_type": "markdown",
   "metadata": {},
   "source": [
    "### Detectors / Misalignment between front and rear assembly\n",
    "\n",
    "There are three main elements in Arcus: SPO petal, CAT grating petal, and camera. All that matters for the ray-trace is their *relative* position. Here, we show simulations where the entire focal plane is shifted or rotated. The center of rotation is the point between the two CCD arrays. This can happen if the camera is mounted with some misalignment in the rear assembly or equivalently, this can represent a misalignment between front and rear assembly, e.g. a twist in the boom. Thus, \"shift along z\" (top right plot) is a change in focus."
   ]
  },
  {
   "cell_type": "code",
   "execution_count": null,
   "metadata": {},
   "outputs": [],
   "source": [
    "tab, fig = load_plot('detector_global.fits')\n",
    "out = fig.axes[0].legend(loc='lower left')\n",
    "    \n",
    "for i in [6, 8, 10]:\n",
    "    fig.axes[i].set_xlim(-1, 1)"
   ]
  },
  {
   "cell_type": "markdown",
   "metadata": {},
   "source": [
    "*Top row, discussed in order of importance, which is right to left*:\n",
    "The plots show that the most important degree of freedom is a change in focus (\"shift along z\"). A shift along y is absolutely irrelevant, as long as it is small enough to keep the dispersed spectrum on the CCDs. For the particular channel simulated here that happens for y shifts for about -15 mm on one side and about +5 mm on the other side. In general, a shift of 5 mm or more, will drop at least one channel of the detector. In practice, this could be compensated by using offset pointing (placing the science target not on, but shifted with respect to the optical axis), but this is not simulated here.\n",
    "Shift along x matters because the focal plane is curved. If the CCDs move in the dispersion direction, the spectrum will be slightly out of focus, but this does not impact $R$ significantly if the change in only a few mm. This opens an additional possibility to mitigate the effect of chip gaps. In the current design, we have two sets of 8 CCDs, which are symmetrical with respect to the mid-plane of Arcus except for a small shift of a few mm, which means that the two channels from one pair of petals will have other chip gaps than the channels from the other pair of petals. In this configuration each pair of channels will have the chip gaps at the same wavelength. Based on the simulation here, we can additionally introduce a small offset, say 4 mm, in x-direction between the two channels of the same petal pair. That way, no two spectra will have hip gaps at that same position.\n",
    "\n",
    "The plot also shows a large spike in $R$ and and associated drop in $A_\\mathrm{eff}$ in the blue curve for about +5 mm. At this position, one of the lower orders falls in a chip gap.\n",
    "\n",
    "*Bottom row*: The bottom row shows the same phenomena as the top row. Rotation around the dispersion direction has little, but measurable effect on $R$, rotation around z is only relevant once it becomes so large that the signal drops off the CCDs (about half a degree). Rotation around y (the cross-dispersion direction) is essentially the same as a defocus. This rotation makes the CCDs move up or down on a lever arm, causing the photons be the imaged at the wrong z position."
   ]
  },
  {
   "cell_type": "markdown",
   "metadata": {},
   "source": [
    "### CAT grating"
   ]
  },
  {
   "cell_type": "code",
   "execution_count": null,
   "metadata": {
    "scrolled": false
   },
   "outputs": [],
   "source": [
    "tab, fig = load_plot('CAT_global.fits')\n",
    "    \n",
    "leg = fig.axes[0].legend(loc='lower center')\n",
    "    \n",
    "for i in [6, 8, 10]:\n",
    "    fig.axes[i].set_xlim(-1, 1)"
   ]
  },
  {
   "cell_type": "markdown",
   "metadata": {},
   "source": [
    "This shows a change in the CAT grating petal position, while the SPO petal and the cameras are fixed. The petal is very robust to translations in any axis. Shifts in x and y move the petal almost tangential to the Rowland torus and thus changes of even a cm or two have little effect on $R$, $A_\\mathrm{eff}$ only decreases because the gratings are carefully aligned under the petals and shifting destroys that alignment. A translation along the optical axis is essentially equivalent to choosing a Roland torus with a slightly smaller radius and that has little impact that long as the shift is small compared to the radius of the torus (6 m).\n",
    "\n",
    "Rotations are calculated around the center of the CAT grating petal. Rotations around either x and y mean that the CAT gratings on one side move up, while the other side moves down changing the path length of the diffracted photons. Those photons coming from the high CAT gratings travel further along the dispersion direction than those from the low gratings, thus causing the dispersed spot to smear out and reducing $R$. Rotation around z changes the direction of the dispersed light and for large angles, the dispersed orders miss the CCD."
   ]
  },
  {
   "cell_type": "code",
   "execution_count": null,
   "metadata": {},
   "outputs": [],
   "source": [
    "tab, fig = load_plot('CAT_individual.fits')\n",
    "    \n",
    "leg = fig.axes[0].legend(loc='lower left')\n",
    "\n",
    "out = fig.axes[4].set_xlim(0, 5)"
   ]
  },
  {
   "cell_type": "markdown",
   "metadata": {},
   "source": [
    "The plot above shows misalignments within the CAT grating petal. Note that the plots for shift in x and y contain some unphysical space. For shifts larger than a few mm grating would overlap. In practice the grating holders will prevent that, but in the simulation some photons go through two CAT gratings and get dispersed twice, and several spots appear confusing the method that calculates $R$. Note that a shift along z  (the optical axis) of even 1 mm is a big problem here, while a shift of the entire petal is not. If only a few CAT gratings are shifted up or down, then the photons scattered closer to the SPOs are travel a longer path and make it further along the dispersion direction than photon diffracted at the nominal position, thus smearing out the orders and reducing $R$.\n",
    "\n",
    "Rotations around x and y to little to $R$. Since the facets have finite size, their edges differ fro mthe Rowland torus by a little already, adding a little more rotation does not change much. Rotations in y quickly reduce $A_\\mathrm{eff}$ though, because more and more photons hit the gratings at blaze angles where they are less efficient overall. Rotation around z causes more and more signal to miss the detector. Unlike in the previous plot, there is no sharp cut-off, because CAT gratings in the simulation have a distribution of rotation angles, and the larger the Gaussian $\\sigma$ is, the more CAT gratings will send their dispersed photons to positions where they cannot be detected."
   ]
  },
  {
   "cell_type": "markdown",
   "metadata": {},
   "source": [
    "### SPOs\n",
    "\n",
    "The SPO model used in MARXS raytracing is fairly simple (just a perfect mirror with additional in-plane and out-of-plane scatter) but it works well for on-axis sources and small angles. For large angles (many arcminutes) vignetting becomes important and the size of the PSF increases. Both effects are not included in these simulations. However, the results for translations should be robust and the results for rotations should be good for small angles."
   ]
  },
  {
   "cell_type": "code",
   "execution_count": null,
   "metadata": {},
   "outputs": [],
   "source": [
    "tab, fig = load_plot('SPOs_global.fits')\n",
    "    \n",
    "leg = fig.axes[0].legend()\n",
    "for i in [6, 8, 10]:\n",
    "    fig.axes[i].set_xlim(-.25, .25)"
   ]
  },
  {
   "cell_type": "markdown",
   "metadata": {},
   "source": [
    "Shifting the SPO petal along the dispersion direction has little effect. Essentially, it just shifts the entire detector image. Shifts along y, do even less to $R$ and $A_\\mathrm{eff}$, as long as the signal is not shifted so far that it falls of the detector. Shifts along z are similar to changing the focus as discussed above (except that the CCD-to-CAT grating distance is fixed), and the plots look very similar.\n",
    "Rotations of the SPO petal for small angles are not very important either, for angles larger than a several arcminutes simulations that treat the SPOs in more detail are required in particular to $A_\\mathrm{eff}$."
   ]
  },
  {
   "cell_type": "code",
   "execution_count": null,
   "metadata": {
    "scrolled": false
   },
   "outputs": [],
   "source": [
    "tab, fig = load_plot('SPOs_individual.fits')\n",
    "    \n",
    "leg = fig.axes[0].legend()\n",
    "fig.axes[0].set_xlim(0, 1)\n",
    "for i in [2, 4]:\n",
    "    fig.axes[i].set_xlim(0, 3)\n",
    "for i in [6, 8]:\n",
    "    fig.axes[i].set_xlim(0, .5)\n",
    "out = fig.axes[10].set_xlim(0, .05)"
   ]
  },
  {
   "cell_type": "markdown",
   "metadata": {},
   "source": [
    "Alignment technology for SPOs within a petal is not just the responsibility of Arcus, as similar technologies are needed for ESA's Athena mission. As such, much research and development has gone into aligning SPOs. We shows these plots here mostly for completeness and for comparison with the tolerances calculated for the other components.\n",
    "\n",
    "This plot shows misalignments between individual SPOs and has some of the tightest margins in the entire design. In particular, shifts in x (the dispersion direction) translate directly into more fuzzy dispersed orders. Even a shift of only 0.1 mm, shifts the signal by several pixels and reduces $R$ quickly. Similarly, rotations around z shift the optical axis for this particular SPO from the nominal value. Since some SPOs are located more than 80 cm, from the optical axis, even small rotations quickly broaden the image on the detector."
   ]
  },
  {
   "cell_type": "code",
   "execution_count": null,
   "metadata": {},
   "outputs": [],
   "source": [
    "display_codetoggle()"
   ]
  }
 ],
 "metadata": {
  "hide_input": false,
  "kernelspec": {
   "display_name": "Python [default]",
   "language": "python",
   "name": "python2"
  },
  "language_info": {
   "codemirror_mode": {
    "name": "ipython",
    "version": 2
   },
   "file_extension": ".py",
   "mimetype": "text/x-python",
   "name": "python",
   "nbconvert_exporter": "python",
   "pygments_lexer": "ipython2",
   "version": "2.7.13"
  }
 },
 "nbformat": 4,
 "nbformat_minor": 2
}
