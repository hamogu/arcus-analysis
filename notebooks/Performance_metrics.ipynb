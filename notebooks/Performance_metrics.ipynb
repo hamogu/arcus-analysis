{
 "cells": [
  {
   "cell_type": "markdown",
   "metadata": {},
   "source": [
    "# Arcus performance metrics"
   ]
  },
  {
   "cell_type": "code",
   "execution_count": null,
   "metadata": {},
   "outputs": [],
   "source": [
    "from nbtemplate import display_header, get_path\n",
    "display_header('Performance_metrics.ipynb', status='Arcus 2020')"
   ]
  },
  {
   "cell_type": "markdown",
   "metadata": {},
   "source": [
    "In this notebook, I show the effective area and resolution we can expect for Arcus with CAT gratings in the nominal design and according to the baseline tolerance budget.\n",
    "\n",
    "### What's in this document and what is not\n",
    "This document contains mostly results of simulations, not the code itself because many of the plots below require a grid of simulations, e.g. in for different energies, and take while to run. Thus, those grids are run in a separate process and the relevant results (e.g. the position of the final rays on the detector) is saved in a fits file. In this notebook we then parse these fits files to extract the relevant information.\n",
    "\n",
    "\n",
    "## What's included in the simulations?\n",
    "Details of the setup for the simulations are obviously defined in the python code, but a list of the most important effects that are included is here:\n",
    "\n",
    "- On-axis, point-like source\n",
    "- Spacecraft pointing with jitter\n",
    "- Mirror with in-plane and out-of-plane scatter\n",
    "- two optical axes, each of them used by one pair of channels\n",
    "- SPO and grating facet positions identical with the mechanical design\n",
    "- facets are flat (i.e. simulation includes finite size effects)\n",
    "- a rough treatment of facet L1 and L2 diffraction\n",
    "- CCDs are flat and have pixels\n",
    "- CCD gaps between individual chips.\n",
    "\n",
    "## Caveats\n",
    "\n",
    "No simulation is perfect and there are many details of the Arcus design that are not or only very marginally relevant for the optical performance that are not covered in these simulations. The main caveats with respect to the optical design are:\n",
    "\n",
    "- The SPO model for a mirror is simplified. Instead of a full surface in 3d, SPOs are represented but a single reflection in a plane. Comparison with experimental data shows that this is a valid approximation for on-axis sources, but cannot reproduce the effects expected for off-axis sources (most notably, the vignetting).\n",
    "- Tolerances: Effective area and resolving power depend on the accurate placement of SPOs, CAT gratings and CCDs. The simulations here are mostly done placing all these elements at their nominal position."
   ]
  },
  {
   "cell_type": "code",
   "execution_count": null,
   "metadata": {},
   "outputs": [],
   "source": [
    "import os\n",
    "import sys\n",
    "from glob import glob\n",
    "import functools\n",
    "\n",
    "import numpy as np\n",
    "import matplotlib.pyplot as plt\n",
    "import matplotlib as mpl\n",
    "\n",
    "%matplotlib inline\n",
    "\n",
    "import astropy\n",
    "import astropy.coordinates\n",
    "from astropy.table import Table, Column\n",
    "import astropy.units as u\n",
    "\n",
    "plt.style.use(\"fivethirtyeight\")\n",
    "#plt.style.use(\"seaborn\")"
   ]
  },
  {
   "cell_type": "code",
   "execution_count": null,
   "metadata": {},
   "outputs": [],
   "source": [
    "from cycler import cycler"
   ]
  },
  {
   "cell_type": "code",
   "execution_count": null,
   "metadata": {},
   "outputs": [],
   "source": [
    "import marxs\n",
    "from marxs.source import PointSource, FixedPointing\n",
    "from marxs.analysis.gratings import resolvingpower_from_photonlist, weighted_per_order\n",
    "import arcus\n",
    "import arcus.arcus as instrum\n",
    "from arcus.analysis.grid import orders_from_meta\n",
    "\n",
    "apertures = list(arcus.arcus.defaultconf['pos_opt_ax'].keys())"
   ]
  },
  {
   "cell_type": "code",
   "execution_count": null,
   "metadata": {},
   "outputs": [],
   "source": [
    "tarc = Table.read(os.path.join(get_path('arcus'), 'raygridRAeff.fits'))\n",
    "tarc.orders = orders_from_meta(tarc.meta)\n",
    "tper = Table.read(os.path.join(get_path('arcus'), 'raygrid-perfectRAeff.fits'))\n",
    "tper.orders = orders_from_meta(tper.meta)"
   ]
  },
  {
   "cell_type": "code",
   "execution_count": null,
   "metadata": {
    "scrolled": true
   },
   "outputs": [],
   "source": [
    "print('Files were written with')\n",
    "print('MARXS version', tarc.meta['MARXSVER'])\n",
    "print('ARCUS version', tarc.meta['ARCUSVER'])\n",
    "print('ARCUS inpudata git hash', tarc.meta['ARCDATGI'])\n",
    "print('NOTE THAT THESE VERSIONS CAN BE DIFFERENT FROM THE LAST TIME THE NOTEBOOK WAS RUN')\n"
   ]
  },
  {
   "cell_type": "code",
   "execution_count": null,
   "metadata": {},
   "outputs": [],
   "source": [
    "# Set up a consistent color scheme for plots that show multiple different orders for Aeff or R\n",
    "class OrderColor():\n",
    "    def __init__(self, colormap, max_order=15):\n",
    "        self.color = colormap(np.linspace(0, 1, max_order))\n",
    "    def __call__(self, order):\n",
    "        kwargs = {}\n",
    "        if order == 0:\n",
    "            kwargs['color'] = 'k'\n",
    "        else:\n",
    "            kwargs['color'] = self.color[abs(order)]\n",
    "        if order <= 0:\n",
    "            kwargs['linestyle'] = '-'\n",
    "        if order > 0:\n",
    "            kwargs['linestyle'] = ':'\n",
    "        if order == 0:\n",
    "            kwargs['lw'] = 4\n",
    "            kwargs['alpha'] = .7\n",
    "        else:\n",
    "            kwargs['lw'] = 2\n",
    "        return kwargs\n",
    "            \n",
    "oc = OrderColor(plt.cm.nipy_spectral, 11)\n",
    "\n",
    "# Arguments used for fill_between for summed Aeff and averaged R\n",
    "args_between = {'color': 'k', 'alpha': 0.5}"
   ]
  },
  {
   "cell_type": "markdown",
   "metadata": {},
   "source": [
    "## Effective area"
   ]
  },
  {
   "cell_type": "code",
   "execution_count": null,
   "metadata": {},
   "outputs": [],
   "source": [
    "def plot_aeff(tab, aeff, plot_orders, ordercolor, ax=None):\n",
    "    if ax is None:\n",
    "        fig = plt.figure()\n",
    "        ax = fig.add_subplot(111)\n",
    "        \n",
    "    ax.fill_between(tab['wave'], np.sum(aeff[:, tab.orders != 0], axis=1), \n",
    "                    **args_between, label='all dispersed\\norders')\n",
    "    for o in plot_orders:\n",
    "        ax.plot(tab['wave'], aeff[:, tab.orders == o], label='order {0}'.format(o),\n",
    "                **ordercolor(o))\n",
    "\n",
    "    temp = ax.set_xlim([8, 55])\n",
    "    return ax"
   ]
  },
  {
   "cell_type": "code",
   "execution_count": null,
   "metadata": {
    "scrolled": false
   },
   "outputs": [],
   "source": [
    "    # Do the same plot but split up by energy ranges\n",
    "    fig = plt.figure(figsize=(8, 5))\n",
    "    ax = fig.add_subplot(111)\n",
    "    plot_aeff(tper, tper['Aeff4'], np.arange(-10, 3), oc, ax)\n",
    "    ax.set_title('Effective area summed over all 4 channels')\n",
    "    fig.subplots_adjust(bottom=0.13, left=0.13, top=.85)\n",
    "    ax.set_xlim([0, 65])\n",
    "    ax.legend()\n",
    "    ax.set_xlabel('wavelength [$\\AA{}$]')\n",
    "    ax.set_ylabel('$A_\\mathrm{eff}$ [cm$^2]$')\n",
    "    fig.savefig(os.path.join(get_path('figures'), 'Aeff_16CCDs.png'), dpi=600, bbox_inches='tight')\n",
    "    fig.savefig(os.path.join(get_path('figures'), 'Aeff_16CCDs.pdf'))"
   ]
  },
  {
   "cell_type": "markdown",
   "metadata": {},
   "source": [
    "Effective area curve for Arcus based on the instrument setup and nominal alignment for every element. The effective area for all four channels is added together. The contribution of individual grating orders is shown with colored curves. Each of the curves has a number of dips in it when an order falls into a chip gap. For any individual channel, the effective area drops to 0 in this case, but the channels are placed such the the chip gaps do not coincide in all of them, so the summed effective area suffers, but some signal is still detected.\n",
    "\n",
    "The dark gray histogram sums the effective area of all detected dispersed orders, irrespective of their spectral resolving power. However, for most of the wavelength range, only orders that are very similar in resolving power (e.g. orders 4 and 5 at 30 Å) contribute anyway. The only exception to this rule is the region around 12 Å, where both order 1 and 9 contribute to the observed signal, with (as we will see below) significantly different $R$."
   ]
  },
  {
   "cell_type": "code",
   "execution_count": null,
   "metadata": {},
   "outputs": [],
   "source": [
    "    # Do the same plot but split up by channels\n",
    "    fig, axes = plt.subplots(2, 2, sharex=True, sharey=True, figsize=(8, 6))\n",
    "    for i, a in enumerate(apertures):\n",
    "        ax = axes[np.unravel_index(i, axes.shape)]\n",
    "        plot_aeff(tper, tper['Aeff'][:, i, :], np.arange(-9, 3), oc, ax)\n",
    "        ax.set_title('channel {}'.format(a))\n",
    "    for i in [0, 1]:\n",
    "        axes[1, i].set_xlabel('wavelength [$\\AA{}$]')    \n",
    "        axes[i, 0].set_ylabel('$A_\\mathrm{eff}$ [cm$^2]$')\n",
    "    fig.subplots_adjust(bottom=0.13, left=0.13, top=.85, wspace=0.1, hspace=0.15)\n",
    "    \n",
    "    #fig.savefig(os.path.join(get_path('figures'), 'Aeff_16CCDs.png'))\n",
    "    #fig.savefig(os.path.join(get_path('figures'), 'Aeff_16CCDs.pdf'))"
   ]
  },
  {
   "cell_type": "markdown",
   "metadata": {},
   "source": [
    "This plot shows the effective area for each of the four channels separately, using the same color coding as above. The channels are very similar and at this scale the difference can hardly be seen, but in particular there is a slight offset in the position of the chip gaps between channel 0 and 1 on the one side and 2 and 3 on the other. Note that for each order, the effective area drops to 0, when the order falls into a chip gap, but the effective area summed over all orders does not, at least in those regions where more than one order contributes signal."
   ]
  },
  {
   "cell_type": "code",
   "execution_count": null,
   "metadata": {},
   "outputs": [],
   "source": [
    "    # Do the same plot but split up by channels\n",
    "    fig, axes = plt.subplots(2, 2, sharex=True, sharey=True, figsize=(8, 6))\n",
    "    for i, a in enumerate(apertures):\n",
    "        ax = axes[np.unravel_index(i, axes.shape)]\n",
    "        plot_aeff(tarc, tarc['Aeff'][:, i, :], np.arange(-9, 3), oc, ax)\n",
    "        ax.set_title('channel {}'.format(a))\n",
    "        ax.set_xlim(25, 27)\n",
    "    for i in [0, 1]:\n",
    "        axes[1, i].set_xlabel('wavelength [$\\AA{}$]')    \n",
    "        axes[i, 0].set_ylabel('$A_\\mathrm{eff}$ [cm$^2]$')\n",
    "    fig.subplots_adjust(bottom=0.13, left=0.13, top=.85, wspace=0.1, hspace=0.15)"
   ]
  },
  {
   "cell_type": "markdown",
   "metadata": {},
   "source": [
    "This plot shows a zoom in on one of the deep chip gaps. The wavelength resolution of the simulation is just sufficient to seed the chip gap in every case, not to resolve it (it appears wider than it should here, because not enough wavelength points are simulated), but the plots show that the placement of the channels places the chip gaps at different wavelengths."
   ]
  },
  {
   "cell_type": "markdown",
   "metadata": {},
   "source": [
    "## Spectral resolving power\n",
    "\n",
    "I define the resolving power as:\n",
    "$R = \\frac{\\lambda}{\\Delta \\lambda} = \\frac{d_x}{FWMH}$\n",
    "where $\\lambda$ is the wavelength of a spectral line with negligible intrinsic\n",
    "width, and $\\Delta \\lambda$ is the observed width of this feature. Since the\n",
    "detector does not give the wavelength directly, $d_x$ and the $FWHM$ are linear\n",
    "distances measured as follows: Events that hit a CCD are projected (not propagated, that would bring them out of focus) into a plane. The $FWMH$ is the full width at half maximum of the event distribution and $d_x$ is the distance between\n",
    "the center of a diffracted order and the zeroth order.\n",
    "Since the CCDs are flat and do not follow the Rowland circle exactly, the $R$ is somewhat lower than the $R$ expected on the Rowland circle. However, this effect is so small that it is negligible in practice. There is one problem with this procedure: If the center of the photon distribution is very close to a chip gap, then only a faction of the true distribution is visible on the chip and naturally the $FWHM$ of this distribution will be narrower than the true distribution. Thus, we also calculate the $R$ for a cylindrical detector on the Rowland circle and use the $R$ derived this way for positions close to the chip edge."
   ]
  },
  {
   "cell_type": "code",
   "execution_count": null,
   "metadata": {},
   "outputs": [],
   "source": [
    "def plot_res(tab, res, orders, ordercolor, ax=None):\n",
    "    if ax is None:\n",
    "        fig = plt.figure()\n",
    "        ax = fig.add_subplot(111)\n",
    "\n",
    "    for o in orders:\n",
    "        i = tab.orders == o\n",
    "        ax.plot(tab['wave'], res[:, i], label='order {0}'.format(tab.orders[i][0]), \n",
    "                **ordercolor(o))\n",
    "        \n",
    "    temp = ax.set_xlim([8, 55])\n",
    "    return ax"
   ]
  },
  {
   "cell_type": "code",
   "execution_count": null,
   "metadata": {
    "scrolled": false
   },
   "outputs": [],
   "source": [
    "    fig = plt.figure(figsize=(8, 5))\n",
    "    ax = fig.add_subplot(111)\n",
    "    # Currently bug in analysus script, which inlcuded 0th order.\n",
    "    # Do here by hand, until script re-run\n",
    "    #ax.plot(tarc['wave'], tarc['R_disp'], '0.5', ls='solid', label='averaged')\n",
    "    \n",
    "    ind = tper.orders != 0\n",
    "    ax.fill_between(tper['wave'],\n",
    "            np.ma.average(np.ma.masked_invalid(tper['R4'][:, ind]),\n",
    "                       weights=tper['Aeff4'][:, ind],\n",
    "                        axis=1), **args_between, label='average')\n",
    "     \n",
    "    ax = plot_res(tper, tper['R4'], orders=np.arange(-10, 5), ordercolor=oc, ax=ax)\n",
    "    ax.set_xlabel('wavelength [$\\AA{}$]')\n",
    "    ax.set_title('Spectral resolving power')\n",
    "    ax.set_ylabel('resolving power')\n",
    "    ax.legend()\n",
    "    ax.set_xlim(10., 70.)\n",
    "    #ax.set_xlim(5., 50.)\n",
    "    #ax.set_ylim(2400, 4400)\n",
    "    fig.subplots_adjust(bottom=0.13, left=0.13, top=.85)\n",
    "    fig.savefig(os.path.join(get_path('figures'), 'respower.png'), dpi=600, bbox_inches='tight')\n",
    "    fig.savefig(os.path.join(get_path('figures'), 'respower.pdf'))"
   ]
  },
  {
   "cell_type": "markdown",
   "metadata": {},
   "source": [
    "Spectral resolving power for individual orders (colored lines). The resolving power is only calculated if a certain minimum number of photons is detected in an order. If most photons fall into a chip gap, then values on the curve might be missing. For each order, the resolving power increases with wavelength as the distance between the diffracted signal and the zeroth order increases. The gray line shows and average over all grating orders. \n",
    "\n",
    "An interesting detail here is to compare positive and negative orders, e.g. -2 and +2. Arcus has two distinct cameras with eight CCDs each, which are place quite far apart. signal in positive order 2 is detected only for short wavelengths, where the signal falls close to the detector. However, due to the position of the zeroth order close to the edge of a detector, the negative second order is only visible once it falls on the far detector, i.e. at longer wavelengths. Yet, the relation between resolving power and wavelength falls on the same line."
   ]
  },
  {
   "cell_type": "code",
   "execution_count": null,
   "metadata": {},
   "outputs": [],
   "source": [
    "def plot_res_mlambda(tab, res, orders, ordercolor, ax=None):\n",
    "    if ax is None:\n",
    "        fig = plt.figure()\n",
    "        ax = fig.add_subplot(111)\n",
    "\n",
    "    for o in orders:\n",
    "        i = tab.orders == o\n",
    "        ax.plot(np.abs(tab['wave'] * o), res[:, i], \n",
    "                label='order {0}'.format(tab.orders[i][0]),\n",
    "               **ordercolor(o))\n",
    "    return ax"
   ]
  },
  {
   "cell_type": "code",
   "execution_count": null,
   "metadata": {},
   "outputs": [],
   "source": [
    "    fig = plt.figure(figsize=(8, 5))\n",
    "    ax = fig.add_subplot(111)\n",
    "    ax = plot_res_mlambda(tarc, tarc['R4'], orders=np.arange(-10, 5),\n",
    "                         ordercolor=oc, ax=ax)\n",
    "    ax.legend(bbox_to_anchor=(1.05, 1.05))\n",
    "    temp = ax.set_title('Spectral resolving power')\n",
    "    ax.set_xlabel(' m * wavelength [$\\AA{}$]')\n",
    "    ax.set_ylabel('resolving power')\n",
    "    fig.subplots_adjust(bottom=0.13, left=0.13, top=.85)\n",
    "    fig.savefig(os.path.join(get_path('figures'), 'respowerml.png'), dpi=600, bbox_inches='tight')\n",
    "    fig.savefig(os.path.join(get_path('figures'), 'respowerml.pdf'), bbox_inches='tight')"
   ]
  },
  {
   "cell_type": "markdown",
   "metadata": {},
   "source": [
    "This plot shows the resolving power over $m$ (the order number) times the wavelength. $m\\lambda$ sets the dispersion angle, so this confirms the point made above: The observed resolving power is essentially only a function of the dispersion angle where the photons are found and other parameters, such as the energy, are not important. Photons with a high energy are better reflected at small angles and thus the SPOs in the inner rows are more important than for photons with a lower energy. Thus, one expects an energy dependent PSF and possibly an energy dependent resolving power at the same diffraction angle. However, at the current level of detail for the mirror simulation this is not visible."
   ]
  },
  {
   "cell_type": "code",
   "execution_count": null,
   "metadata": {
    "scrolled": false
   },
   "outputs": [],
   "source": [
    "    fig, axes = plt.subplots(2, 2, sharex=True, sharey=True, figsize=(8, 6))\n",
    "    for i, a in enumerate(apertures):\n",
    "        ax = plot_res(tper, tper['R'][:, i, :], orders=np.arange(-10, 5),\n",
    "                      ordercolor=oc, ax=axes[np.unravel_index(i, axes.shape)])\n",
    "        temp = ax.set_title('R for channel {}'.format(a))\n",
    "        #ax.plot(wave, np.ma.average(res_ma[:, 0, :-1], weights=aeff[:, :-1], axis=1), 'k:')\n",
    "\n",
    "    for i in [0, 1]:\n",
    "        axes[1, i].set_xlabel('wavelength [$\\AA{}$]')    \n",
    "        axes[i, 0].set_ylabel('resolving power')\n",
    "    fig.subplots_adjust(bottom=0.13, left=0.13, top=.85, wspace=0.1, hspace=0.15)\n",
    "    fig.subplots_adjust(bottom=0.13, left=0.13, top=.85)\n",
    "    #fig.savefig(os.path.join(get_path('figures'), 'respower.png'))\n",
    "    #fig.savefig(os.path.join(get_path('figures'), 'respower.pdf'))"
   ]
  },
  {
   "cell_type": "markdown",
   "metadata": {},
   "source": [
    "Using the same color scheme as above, these plots show the resolving power for individual channels. Except for the chip gaps, the channels are essentially identical."
   ]
  },
  {
   "cell_type": "code",
   "execution_count": null,
   "metadata": {
    "scrolled": false
   },
   "outputs": [],
   "source": [
    "    fig = plt.figure()\n",
    "    ax = fig.add_subplot(111)\n",
    "    ax.plot(tper['wave'], tper['R_disp'], 'k', alpha=.5, lw=5.,label='perfect alignment')\n",
    "    ax.plot(tarc['wave'], tarc['R_disp'], 'r', alpha=.5, lw=5, label='baseline tolerance')\n",
    "    ax.plot(tper['wave'],\n",
    "            np.ma.average(np.ma.masked_invalid(tper['R4'][:, ind]),\n",
    "                       weights=np.ma.masked_less(tper['Aeff4'][:, ind], 20),\n",
    "                        axis=1), 'k', lw=2, ls='solid', label='__no_legend__')\n",
    "    ax.plot(tarc['wave'],\n",
    "            np.ma.average(np.ma.masked_invalid(tarc['R4'][:, ind]),\n",
    "                       weights=np.ma.masked_less(tarc['Aeff4'][:, ind], 20),\n",
    "                        axis=1), 'r', lw=2, ls='solid', label='__no_legend__')\n",
    "    ax.set_xlabel('wavelength [$\\AA{}$]')\n",
    "    ax.set_ylabel('resolving power')\n",
    "    fig.subplots_adjust(bottom=0.13, left=0.13, top=.85)\n",
    "    ax.legend(loc='lower right')\n",
    "    fig.savefig(os.path.join(get_path('figures'), 'averageres.png'), bbox_inches='tight')\n",
    "    fig.savefig(os.path.join(get_path('figures'), 'averageres.pdf'), bbox_inches='tight')\n"
   ]
  },
  {
   "cell_type": "markdown",
   "metadata": {},
   "source": [
    "This figure shows the resolving power averaged over all channels and all dispersed spectral orders. When averaging, values are weighted by their respective effective area. The thick lines average truly over all dispersed orders including positive and negative orders. For all wavelengths, more than one order contributes and dips in $R$ occur when one order falls into a chip gap and the remaining orders have a lower $R$. One particular example is the drop around 35 Å. At this wavelength, order -3 and -4 have most of the signal, with a very small contribution from order +1. As -3 and -4 fall into chip gaps at the same wavelength, all that's left is order +1 which has a much lower $R$. This highlights the importance of a careful placement of the chip gaps or dithering to smooth out the gaps. Even without those measures, in practice the effected area at this wavelength is so low that it won't have enough signal to constrain models meaningfully anyway.\n",
    "The figure above shows a second set of red/black lines with are thinner. They show the averaged $R$, ignoring orders that contribute less than $20\\; \\mathrm{cm}^2$ of effective area, which leaves out the low positive order at longer wavelengths. Thus $R$ is slightly higher here, at the cost of a slightly lower effective area (not shown here, but effective ares for individual orders are plotted above).Drops in $R$  are still visible, but the spot around 35 Å is not a data gap. In the region 39-44 Å only a single order contributes, and so we see the $R$ rising with wavelength as in the previous plots. For small wavelengths $<12$ Å very low orders contribute to the signal, bringing down the average $R$. With the caveat that some technique to avoid chip gaps is employed (e.g. dithering or spacing out individual channels with more random offsets), this second curve is probably a better representation of the $R$ that will be used in typical science analysis.\n",
    "\n",
    "The plot shows almost no difference between the perfect alignment and the the baseline alignment tolerance scenario. This is consistent with the results in the [Alignment budget memo](http://space.mit.edu/home/guenther/ARCUS/Tolerances.html) where the drop in $R$ is only one or two percent. If at all, the baseline alignment tolerance curve looks a little smoother and the drops or peaks (e.g. around 46 Å) that happen when one order falls into a chip gap are less pronounced. This is likely just an artifact of the wavelength step used in these simulations. If the signal is spread out a little more on the CCD, then photons are still collected in cases where the perfect alignment scenario has insufficient signal to calculate $R$.\n",
    "\n",
    "Over most of the wavelength range, $R$ is almost constant. That is not a coincidence, but rooted in the physics of CAT gratings. The spectral resolving power is measured as $R = \\frac{d_x}{FWMH}$. The $FWHM$ is dominated by the mirror point spread function (PSF). In practice the PSF is slightly energy dependent, but this is not captured in the simple mirror model used for these simulations. All other effects on the $FWHM$ are very small (for example, it technically also depends on where on a CCD the signal falls since the CCDs are not curved and do not follow the Rowland circle exactly, but for Arcus this effect is negligible). So, the only variable left is $d_x$, the distance of the spot from the zeroth order. Photons with a longer wavelength are dispersed to larger distances and thus have larger $d_x$ which explains why $R$ increases with wavelength for every order. On the other hand, CAT gratings most efficiently diffract photons to a particular angle (the *blaze peak*). Thus, for longer and longer wavelengths the signal in an order becomes weaker, because the position of the order moves away from the blaze peak. At the same time, the next lower order moves towards the blaze peak and becomes increasingly stronger. In other words, the higher order (which has a higher $R$) drops in effective area, while the next lower order gains effective area. Together, this means that the averaged resolving power stays essentially constant."
   ]
  },
  {
   "cell_type": "markdown",
   "metadata": {},
   "source": [
    "## Figure of merit"
   ]
  },
  {
   "cell_type": "code",
   "execution_count": null,
   "metadata": {},
   "outputs": [],
   "source": [
    "def combine_figures_of_merit(aeff, res):\n",
    "    out = np.zeros(aeff.shape)\n",
    "    for i in range(len(out)):\n",
    "        res_i = res[:, 0, i]\n",
    "        sort_res = np.argsort(res_i)\n",
    "        merits = np.sqrt(res[:, i] * aeff[:, i])\n",
    "        out[i] = np.nansum(merits[sort_res[:2]])\n",
    "\n",
    "    return out"
   ]
  },
  {
   "cell_type": "code",
   "execution_count": null,
   "metadata": {},
   "outputs": [],
   "source": [
    "def plot_merit(tab, aeff, res, orders, ordercolor):\n",
    "    fig = plt.figure()\n",
    "    ax = fig.add_subplot(111)\n",
    "    #ax.plot(wave, combine_figures_of_merit(aeff, res), 'k',\n",
    "    #            label='top 2 orders\\nadded')\n",
    "    for o in orders:\n",
    "        i = tab.orders == o\n",
    "        ax.plot(tab['wave'], np.sqrt(res[:, i] * aeff[:, i]),\n",
    "                label='order {0}'.format(tab.orders[i][0]),\n",
    "               **ordercolor(o))\n",
    "    ax.legend(ncol=1, bbox_to_anchor=(1.05, 1.05))\n",
    "    ax.set_xlabel('wavelength [$\\AA{}$]')\n",
    "    ax.set_ylabel('Figure of mrrit [cm]')\n",
    "    return fig, ax"
   ]
  },
  {
   "cell_type": "code",
   "execution_count": null,
   "metadata": {
    "scrolled": false
   },
   "outputs": [],
   "source": [
    "fig, ax = plot_merit(tper, tper['Aeff4'], tper['R4'], np.arange(-10, 3), ordercolor=oc)\n",
    "ax.set_xlim([5, 75])\n",
    "temp = ax.set_title('Figure of merit for line detection')"
   ]
  },
  {
   "cell_type": "markdown",
   "metadata": {},
   "source": [
    "The figure of merit for line detection is $\\sqrt{R*A_\\mathrm{eff}}$. It can be derived from the plots above and is shown here for the most relevant orders. The figure of merit changes with the scientific task at hand (measure line shifts, measure line fluxes), but this particular form is used in the Arcus proposal and thus shown here for illustration.\n",
    "\n",
    "Chip gaps cause drops in the effective area and thus in the figure of merit. The most extreme drops have been omitted in the figure above."
   ]
  },
  {
   "cell_type": "markdown",
   "metadata": {},
   "source": [
    "## Summary\n",
    "\n",
    "In this memo, I have show the performance of Arcus over the design bandpass of the gratings for nominal SPOs (no coating). In particular the values for $R$ are lower then in Casey's initial ray-traces, but this is to be expected as these simulations do contain non-ideal effects that were not part of Casey's initial efforts, namely, CAT grating L1 and L2 diffraction and jitter in the pointing.\n",
    "All the \"data behind the figures\" is available in a Dropbox account, please contact Moritz for the links."
   ]
  }
 ],
 "metadata": {
  "anaconda-cloud": {},
  "hide_input": false,
  "kernelspec": {
   "display_name": "Python [conda env:mayavi46]",
   "language": "python",
   "name": "conda-env-mayavi46-py"
  },
  "language_info": {
   "codemirror_mode": {
    "name": "ipython",
    "version": 3
   },
   "file_extension": ".py",
   "mimetype": "text/x-python",
   "name": "python",
   "nbconvert_exporter": "python",
   "pygments_lexer": "ipython3",
   "version": "3.8.2"
  }
 },
 "nbformat": 4,
 "nbformat_minor": 1
}
