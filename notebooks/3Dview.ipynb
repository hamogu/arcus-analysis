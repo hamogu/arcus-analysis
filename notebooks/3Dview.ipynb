{
 "cells": [
  {
   "cell_type": "markdown",
   "metadata": {},
   "source": [
    "# A 3D view of Arcus"
   ]
  },
  {
   "cell_type": "code",
   "execution_count": null,
   "metadata": {},
   "outputs": [],
   "source": [
    "from nbtemplate import display_header\n",
    "display_header('3Dview.ipynb')"
   ]
  },
  {
   "cell_type": "markdown",
   "metadata": {},
   "source": [
    "*The lightpath in Arcus is simple in principle (mirror - grating - detector) but the fact that Arcus has four independent channels and that in each channel, there are a number of SPOs and detectors makes it hard to visualize all components. To help understand the layout better, I show a number of interactive 3D visualizations of Arcus here. Those visualizations are based on the same code that I use to make the quantitative predictions, but certain parameters like the number of rays are tuned here to make instructive and visually appealing simulations.*\n",
    "\n",
    "All the 3D views below are interactive. They can be rotated, panned, and zoomed with the different mouse in all supported browsers; for trackpad users hold down CTRL or ALT for pan and zoom. Pressing \"r\" on the keyboard when the mouse is on a view returns that particular view to the initial position. See [the X3DOM documentation](https://www.x3dom.org/documentation/interaction/) for a full list of supported mouse and keyboard commands."
   ]
  },
  {
   "cell_type": "code",
   "execution_count": null,
   "metadata": {},
   "outputs": [],
   "source": [
    "import warnings\n",
    "import numpy as np\n",
    "import astropy.units as u\n",
    "from x3d import x3d\n",
    "\n",
    "from marxs import simulator\n",
    "from marxs.visualization.x3d import plot_object, plot_rays\n",
    "from marxs.missions.arcus.arcus import ArcusForPlot\n",
    "from marxs.missions.arcus import boom\n",
    "from marxs.missions.arcus.defaults import DefaultSource, DefaultPointing"
   ]
  },
  {
   "cell_type": "markdown",
   "metadata": {},
   "source": [
    "## Point source at single energy\n",
    "Rays start in the aperture, which consists of four rectangles located above the SPO channels. Each channel has a number of SPO modules, shown in green. Photons bounce off the mirrors twice in a Wolter type I geometry. However, in this simulation the SPOs are somewhat simplified such that the reflection actually happens in a single plane. Behind the SPOs are the CAT gratings (white). For each channel the gratings are arranged to follow the shape of the Rowland torus. This can been seen best when the figure is rotated to look at the \"side\" of the arrangement. CAT gratings are slightly tilted such that the photons hit the gratings bars on the \"side\", but this blaze angle is < 2 degrees and is hard to see by eye. SPOs and gratings are held by a support structure in the forward assembly, which is not shown. The forward assembly and the focal plane are connected by an extensible boom (black). Some SPOs are located outside the boom, and the light needs to pass though the sides of the boom, as shown in the [boom study](https://space.mit.edu/home/guenther/ARCUS/3vs4sidedboom.html). Detectors (yellow) are again arranged on the surface of the Rowland torus, zooming in on the detectors shows that they follow a circle.\n",
    "\n",
    "Note that the Rowland torus for each channel is slightly different, see [the Rowland torus specifications](https://space.mit.edu/home/guenther/ARCUS/SelectRowlandParameters.html) for details.\n",
    "\n",
    "The figure shows a ray-trace for an on-axis point source with monochromatic emission at 0.5 keV = 24.8 Å. Arcus has four channels positioned in two pairs. The optical axes are different for each channel to reduce the impact of chip gaps. Two channels disperse left to right, the other two right to left, also shown in the [explainatory images of the signal on the detector](https://space.mit.edu/home/guenther/ARCUS/Plots.html). In the simulation, the bundle of rays from each channel forms a separate trace on the detectors, rays from different channels do not mix. Rays are colored by channel, i.e. all rays in the same channel have have the same color."
   ]
  },
  {
   "cell_type": "code",
   "execution_count": null,
   "metadata": {},
   "outputs": [],
   "source": [
    "from marxs.missions.arcus.arcus import defaultconf"
   ]
  },
  {
   "cell_type": "code",
   "execution_count": null,
   "metadata": {
    "scrolled": false
   },
   "outputs": [],
   "source": [
    "src = DefaultSource(energy=0.5 * u.keV)\n",
    "pnt = DefaultPointing()\n",
    "instrument = ArcusForPlot(conf=defaultconf)\n",
    "keeppos = simulator.KeepCol('pos')\n",
    "instrument.postprocess_steps = [keeppos]\n",
    "photons = src.generate_photons(10000 * u.s)\n",
    "photons = pnt(photons)\n",
    "photons = instrument(photons)"
   ]
  },
  {
   "cell_type": "code",
   "execution_count": null,
   "metadata": {},
   "outputs": [],
   "source": [
    "with warnings.catch_warnings():\n",
    "    warnings.simplefilter(\"ignore\")\n",
    "    out = plot_object(instrument)\n",
    "\n",
    "pos = keeppos.format_positions()\n",
    "ind = (photons['probability'] > 1e-3) & (photons['CCD'] >= 0)\n",
    "out = plot_rays(pos[ind, :, :], scalar=photons['order'][ind], scene=out)\n",
    "\n",
    "out.children.append(x3d.Viewpoint(description='Overview ', orientation=(.5, .3, .3, -.3), viewAll=True))\n",
    "out.children.append(x3d.Viewpoint(description='Camera', position=(-700, 50, 500), \n",
    "                                  orientation=(-0., -0.6, -0., 0.3)\n",
    "                                  ))\n",
    "\n",
    "out"
   ]
  },
  {
   "attachments": {},
   "cell_type": "markdown",
   "metadata": {},
   "source": [
    "## Point source with a flat spectrum\n",
    "This simulation is very similar to the above. However, here the spectrum is continuous instead of just a single energy, and thus four the traces on the detector can be seen better. The rays are colored according to their grating order.  Orders overlap spatially (e.g. order 5 for 20 Å photons gets dispersed to the same position as order 4 for 25 Å photons) and need to be separated using the energy resolution of the CCDs. In the ray-trace, we can thus see rays of different color at the same spatial position."
   ]
  },
  {
   "cell_type": "code",
   "execution_count": null,
   "metadata": {},
   "outputs": [],
   "source": [
    "from astropy.table import QTable\n",
    "en = np.arange(0.2, 7., .5) * u.keV\n",
    "tablespectrum = QTable([en, en.value**(-1) / u.s / u.cm**2 / u.keV],\n",
    "                       names=['energy', 'fluxdensity'])\n",
    "src.energy = tablespectrum\n",
    "instrument = ArcusForPlot()\n",
    "keeppos = simulator.KeepCol('pos')\n",
    "instrument.postprocess_steps = [keeppos]\n",
    "photons = src.generate_photons(10000 * u.s)\n",
    "photons = pnt(photons)\n",
    "photons = instrument(photons)"
   ]
  },
  {
   "cell_type": "code",
   "execution_count": null,
   "metadata": {},
   "outputs": [],
   "source": [
    "with warnings.catch_warnings():\n",
    "    warnings.simplefilter(\"ignore\")\n",
    "    out = plot_object(instrument)\n",
    "\n",
    "pos = keeppos.format_positions()\n",
    "ind = (photons['probability'] > 1e-3) & (photons['CCD'] >= 0) & (photons['order'] > -12) & (photons['order'] < 3)\n",
    "out = plot_rays(pos[ind, :, :], scalar=photons['order'][ind], scene=out)\n",
    "out.children.append(x3d.Viewpoint(description='Overview all', orientation=(.5, .3, .3, -.3), viewAll=True))\n",
    "out.children.append(x3d.Viewpoint(description='Camera 1', position=(-700, 50, 500), \n",
    "                                  orientation=(-0., -0.6, -0., 0.3)\n",
    "                                  ))\n",
    "out"
   ]
  }
 ],
 "metadata": {
  "kernelspec": {
   "display_name": "Arcus",
   "language": "python",
   "name": "python3"
  },
  "language_info": {
   "codemirror_mode": {
    "name": "ipython",
    "version": 3
   },
   "file_extension": ".py",
   "mimetype": "text/x-python",
   "name": "python",
   "nbconvert_exporter": "python",
   "pygments_lexer": "ipython3",
   "version": "3.10.8"
  },
  "vscode": {
   "interpreter": {
    "hash": "19d5601b7109f36b9de8e56622ce9ffae5a9d961730b52581061a43994a758db"
   }
  }
 },
 "nbformat": 4,
 "nbformat_minor": 4
}
