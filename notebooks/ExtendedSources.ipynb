{
 "cells": [
  {
   "cell_type": "markdown",
   "metadata": {},
   "source": [
    "# Extended Sources\n",
    "*In this notebook, I show a first impression of how an extended source will look in Arcus. This is not an exhaustive exploration of all possible geometries and not a complete end-to-end simulation, but a discussion of the general concepts and problems involved.*"
   ]
  },
  {
   "cell_type": "code",
   "execution_count": null,
   "metadata": {},
   "outputs": [],
   "source": [
    "from nbtemplate import display_header, get_path\n",
    "display_header('ExtendedSources.ipynb', status='Arcus 2020')"
   ]
  },
  {
   "cell_type": "markdown",
   "metadata": {},
   "source": [
    "## Extended sources\n",
    "Arcus design goal is spectroscopy from point sources and the mechanical layout will make the observation of extended source challenging:\n",
    "\n",
    "- Arcus PSF is asymmetric with a bow-tie shape that is much longer in cross-dispersion direction than in dispersion direction. For an image in 0th order that means that the spatial resolution in dispersion direction is much better in one direction than in the other, which makes it hard to interpret any image.\n",
    "- Arcus has four channels that place the dispersed spectra as (roughly) parallel strips on the cameras. Because of the wings of the PSF and cross-dispersion from the L1 CAT grating support structure, even for point sources there will be some contamination fomr one channel to another. The larger the source, the closer the spectra get. For sources with radii $>30$ arcsec or so, the zero order images and spectra will overlap directly, even without considering the PSF wings or the L1 dispersion.\n",
    "- In other instruments like Chandra/HETGS the CCD energy resolution might help to assign observed features to a particular grating order, but in Arcus, many grating orders fall on the same location of the camera and they are so closely spaced in energy, that it is often umbiguous to assign a grating order to a photons, even in the absence of cross-talk between different channels or between spatial and spectral information.\n",
    "\n",
    "## Dispersive spectroscopy of extended sources\n",
    "Arcus is slitless, so spatial and spectral information is mixed in the dispersed spectrum. Essentially, a photon detected at slightly further distance from the nominal aimpoint could either be a red-shifted emission line emitted at the nominal aimpoint, or a non-redshifted emission line emitted by a region that's located slightlly to the \"left\" of the nominal aimpoint, or even an extremely red-shifted line from an emission regions that is located to the \"right\" of the aimpoint, or a superposition of all three scenarios. \n",
    "\n",
    "In the case of a point source, we know the location of the emission and can thus retrieve the kinematic information. Conversely, if we know that an extended source has a sharp emission feature that emits as the same location everyhwere in the source, we will simply see image in that line on the detector.\n",
    "\n",
    "This is not a new problem and has been addressed for e.g. Chandra/HETG observations of supernova remnants, but for Arcus, there are a few twists to it. On the one hand, the size and shape of the PSF (compared to Chandra's sharp, circular PSF) hinders the interpretation of the spatial distribution, on the other hand - at least in principle!-, we can make use of the fact that Arcus has foud channels and sees most lines in several orders\n",
    "Two channels disperse in one direction and the other two in the opposite direction. That means that spatial and kinematic effects that add up in one channel, will subtract in the opposite channel. Comparing images seen in the lines between the two groups of channels can help to distinguish between spatial and kinematic features. Secondly, we can make use of the fact that we see most lines more than once. Emission that comes from a component close to, but not exactly at the nominal aimpont, will be offset by the same number of pixel in both orders. On the other hand, the grating equation $n\\lambda = d \\sin\\theta$ means that photons of a given $\\lambda$ will be offset by a different amount in different orders.\n",
    "\n",
    "In practice though, we rarely have pure emission line sources with known spatial or kinematic properties. The goal ofthis notebook is to simulate an extended source to get an impression of how the data could look like."
   ]
  },
  {
   "cell_type": "code",
   "execution_count": null,
   "metadata": {},
   "outputs": [],
   "source": [
    "import os\n",
    "import numpy as np\n",
    "from astropy.table import QTable\n",
    "import astropy.table\n",
    "import astropy.units as u\n",
    "from astropy.visualization import (MinMaxInterval, AsymmetricPercentileInterval, SqrtStretch,\n",
    "                                   ImageNormalize)\n",
    "\n",
    "\n",
    "from marxs.source.source import DiskSource\n",
    "from arcus.instrument import Arcus\n",
    "from arcus.defaults import coords, DefaultPointing, DefaultSource\n",
    "\n",
    "from sherpa.astro.xspec import XSvapec\n",
    "import matplotlib.pyplot as plt\n",
    "from matplotlib import ticker\n",
    "\n",
    "%matplotlib inline"
   ]
  },
  {
   "cell_type": "markdown",
   "metadata": {},
   "source": [
    "## Simulations\n",
    "For this first pass of simulations, I set up a point source, an extended source in the shape of a disk with 30 arcsec radius and a ring (inner radius 25 arcsec, outer radius 30 arcsec). Each of those sources is assigned an APEC spectrum with 2 keV temperature and default abundances. For this study, we simply need an input spectrum with some continuum and a few strong lines in the soft X-ray band; this is not meant to reproduce a specific astrophysical source. The simulation is run for $10^5$ input photons for the point source and $10^6$ photons for the extended sources. Because the signal for the extended source is \"smeared out\", we simply need more photons to recognize features. "
   ]
  },
  {
   "cell_type": "code",
   "execution_count": null,
   "metadata": {},
   "outputs": [],
   "source": [
    "vapec = XSvapec()\n",
    "vapec.kT = 2\n",
    "\n",
    "en = np.arange(.2, 10., .00002)\n",
    "fluxdens = vapec(en)"
   ]
  },
  {
   "cell_type": "code",
   "execution_count": null,
   "metadata": {},
   "outputs": [],
   "source": [
    "plt.loglog(en, fluxdens)\n",
    "plt.xlabel('energy [keV]')\n",
    "out = plt.ylabel('flux density')\n",
    "out = plt.title('Input spectrum')"
   ]
  },
  {
   "cell_type": "markdown",
   "metadata": {},
   "source": [
    "Input spectrum."
   ]
  },
  {
   "cell_type": "code",
   "execution_count": null,
   "metadata": {},
   "outputs": [],
   "source": [
    "# Input as astropy QTable\n",
    "tablespectrum = QTable([en * u.keV, fluxdens/ u.s / u.cm**2 / u.keV],\n",
    "                       names=['energy', 'fluxdensity'])"
   ]
  },
  {
   "cell_type": "code",
   "execution_count": null,
   "metadata": {},
   "outputs": [],
   "source": [
    "# define position and spectrum of source\n",
    "arc = Arcus()\n",
    "arc.postprocess_steps = []"
   ]
  },
  {
   "cell_type": "code",
   "execution_count": null,
   "metadata": {},
   "outputs": [],
   "source": [
    "# We keep do not set the flux normalization or Arcus effective area.\n",
    "# That way, our source will simply generate 1 photon / s.\n",
    "mysource = DiskSource(coords=coords, energy=tablespectrum, a_outer=30 * u.arcsec)\n",
    "mysource2 = DiskSource(coords=coords, energy=tablespectrum, a_outer=30 * u.arcsec, a_inner=25 * u.arcsec)\n",
    "pointsource = DefaultSource(coords=coords, energy=tablespectrum)\n",
    "mypointing = DefaultPointing(coords=coords)"
   ]
  },
  {
   "cell_type": "code",
   "execution_count": null,
   "metadata": {},
   "outputs": [],
   "source": [
    "pointsrc = pointsource.generate_photons(1e5 * u.s)\n",
    "pointsrc = mypointing(pointsrc)\n",
    "pointsrc = arc(pointsrc)"
   ]
  },
  {
   "cell_type": "code",
   "execution_count": null,
   "metadata": {},
   "outputs": [],
   "source": [
    "extendsrc = mysource.generate_photons(1e6 * u.s)\n",
    "extendsrc = mypointing(extendsrc)\n",
    "extendsrc = arc(extendsrc)"
   ]
  },
  {
   "cell_type": "code",
   "execution_count": null,
   "metadata": {},
   "outputs": [],
   "source": [
    "extendsrc2 = mysource2.generate_photons(1e6 * u.s)\n",
    "extendsrc2 = mypointing(extendsrc2)\n",
    "extendsrc2 = arc(extendsrc2)"
   ]
  },
  {
   "cell_type": "code",
   "execution_count": null,
   "metadata": {},
   "outputs": [],
   "source": [
    "fig, axes = plt.subplots(nrows=3, ncols=3,\n",
    "                         subplot_kw={'aspect': 'equal'}, figsize=(20, 12))\n",
    "\n",
    "for i, ccdid in enumerate([6, 11, 13]):   \n",
    "    for j, obs in enumerate([pointsrc, extendsrc, extendsrc2]):\n",
    "        ind = obs['CCD'] == ccdid + 1\n",
    "        hist, xedges, yedges = np.histogram2d(obs['detpix_x'][ind], obs['detpix_y'][ind], \n",
    "                                              weights=obs['probability'][ind],\n",
    "                                              bins=[np.arange(0, 2048, 8), \n",
    "                                                    np.arange(0, 1024, 8)])\n",
    "\n",
    "        norm = ImageNormalize(hist, interval=AsymmetricPercentileInterval(0, 99.9))\n",
    "\n",
    "        cax = axes[i, j].imshow(hist.T, extent=[0, 2048, 0, 1024],\n",
    "                                origin='lower', aspect='equal', \n",
    "                                cmap=plt.get_cmap('inferno'),\n",
    "                                norm=norm)\n",
    "        cbar = fig.colorbar(cax, ax=axes[i, j])\n",
    "        cbar.set_label('counts / bin')\n",
    "\n",
    "        axes[i, j].set_xlim(0, 2048)\n",
    "        axes[i, j].set_ylim(0, 1024)\n",
    "        axes[i, j].set_title(f'CCD: {ccdid + 1}')"
   ]
  },
  {
   "cell_type": "markdown",
   "metadata": {},
   "source": [
    "The figure shows three of Arcus 16 CCDs (rows) for each of the source geometries (columns: point source, disk, ring). The top row contains the zero order for two of the channels, the other rows the dispersed spectrum on the other camera.\n",
    "\n",
    "Note that the MARXS code assigns and tracks fractional probabilities to photons, so any one pixel on the detector will receive a non-integer number of photons. The effect of that is that shorter simulations can deliver information on the expected distribution of photons, but it also means that post-processing is needed to capture the full effect of Poisson noise (since MARXS is a Monte-Carlo code, some Poisson scatter is always present even with the probability-tracking trick). In other words, the images should not be interpreted as \"this is what Arucs will see with X photons\", but \"this pattern will emerge if we expose long enough\". \n",
    "As I said above, the simulations for the extended sources are run with ten times more photons than for the point source. Since the areas of the disk and ring source are different, that means that they do not have the same luminosity per sky area.\n",
    "\n",
    "The images of the 0 order for the point source (top left) show the bow-tie shape and also small dots above and below the source that are due to L1 dispersion. Since the source is much bigger than the PSF, the shape of the bow-tie is not visible in the disk source, but its effect can be seen in the ring source. The ring is narrower and has a higher surface flux density on the left and right compared to the top and bottom, because the left and right side align with the shape of the PSF, while the ring runs perpendicular to the long axis of the PSF on the top and botton, leading to a more smeared out image. The same effet can be seen in the emission lines (middle right and bottom right). The input source has a constant surface flux density, but because of the shape of the PSF, the image of the source in any emission line appears wider and fainter at the top and bottom of the ring than on the left and right.\n",
    "\n",
    "In the figure, there are several examples of emission lines. A good case is in the bottom row around $x=400$ and $x=600$ pixel. (Channels are offset from one another such that features to not fall into a chip gap for all channels at the same wavelength.) The lines are sharp as expected for the point source, since the lines input to the simulation are so narrow that they remain unresolved. For the disk and ring source, an image of the source in this line is seen. Because this image stretches over a much larger region, and spatial and spectral information is mixed, the contrast to the source continnum is less than in the point source. Essentially, continuum from more wavelengths and more spatial regions overlaps with the emission line than for the point source.\n",
    "\n",
    "The middle row (in the channel at $y=800$) there are two closely-spaced emission lines around $x=0$ and $x=100$ that are well-resolved in the point source, but overlap for the extended sources. If those two lines originate from different diffraction orders, it might still be possible to separate them in energy space, but if they are from the same diffraction order, there is no way to assign a photon to one or the other line."
   ]
  },
  {
   "cell_type": "markdown",
   "metadata": {},
   "source": [
    "## Conclusion\n",
    "The simulations above make somewhat idealized assumptions with very simple source geomteries. Real sources will have more spatial structure like knots, jets, or shock fronts. In some sense, those real sources might actually be easier to analyze, because we can concentrate on the bright knots. That said, the simulations above show that about 1 arcmin diameter is a practical limit, because channels begin to overlap. Also, because spatial and kinematic information cannot be disentangled, sources need to have strong emission lines; continuum dominated sources won't work. That said, despite the considerable challenge of data reduction, we can learn things from spatially extended sources with Arcus."
   ]
  }
 ],
 "metadata": {
  "kernelspec": {
   "display_name": "Python 3",
   "language": "python",
   "name": "python3"
  },
  "language_info": {
   "codemirror_mode": {
    "name": "ipython",
    "version": 3
   },
   "file_extension": ".py",
   "mimetype": "text/x-python",
   "name": "python",
   "nbconvert_exporter": "python",
   "pygments_lexer": "ipython3",
   "version": "3.7.7"
  }
 },
 "nbformat": 4,
 "nbformat_minor": 4
}
