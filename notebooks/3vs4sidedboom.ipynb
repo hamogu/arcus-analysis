{
 "cells": [
  {
   "cell_type": "markdown",
   "metadata": {},
   "source": [
    "# 3 vs 4 sided boom on Arcus"
   ]
  },
  {
   "cell_type": "code",
   "execution_count": null,
   "metadata": {},
   "outputs": [],
   "source": [
    "from nbtemplate import display_header, display_codetoggle, get_path\n",
    "display_header('3vs4sidedboom.ipynb', status='Review Arcus 2020')"
   ]
  },
  {
   "cell_type": "code",
   "execution_count": null,
   "metadata": {},
   "outputs": [],
   "source": [
    "import os\n",
    "import sys\n",
    "import numpy as np\n",
    "import astropy.units as u\n",
    "import marxs\n",
    "\n",
    "%matplotlib inline\n",
    "import matplotlib.pyplot as plt"
   ]
  },
  {
   "cell_type": "code",
   "execution_count": null,
   "metadata": {},
   "outputs": [],
   "source": [
    "figureout = get_path('figures')"
   ]
  },
  {
   "cell_type": "code",
   "execution_count": null,
   "metadata": {},
   "outputs": [],
   "source": [
    "from marxs.simulator import Sequence\n",
    "from arcus import Arcus, xyz2zxy\n",
    "import arcus.boom\n",
    "from arcus.defaults import DefaultPointing, DefaultSource"
   ]
  },
  {
   "cell_type": "markdown",
   "metadata": {},
   "source": [
    "The Arcus focal length is too large to fit a fully expanded spacecraft into the launcher. Instead, Arcus will have an extensible boom that is coiled up at launch and will be extended in space. If the boom is large enough, all the photons will be inside, but if the boom diameter is smaller, photons from the outer SPOs will have to pass through the structure of the boom. This is true in particular for a three-sided boom. In this notebook, I study how the shape and size of the boom affects the detected signal. \n",
    "\n",
    "Arcus is designed with a 4-sided boom that is large enough that almost all photons paths fit entirely inside of the boom. It is easy to see analytically that a 4-sided boom should be oriented parallel to edges of the SPO petals. Only a a small fraction of the outermost SPOs is larger than then boom and the photons have to pass from outside the boom to inside and some photons can be lost when they hit the elements the boom is made of. This is a relatively easy case, and is simulated first. As a design study, we then look at a 3-sided boom with different orientation and diameters.\n",
    "\n",
    "The simulations assume that every photons that intersects any boom element is absorbed. Given that the diameters of the boom elements are large compared to the wavelengths of the photons, we ignore diffraction."
   ]
  },
  {
   "cell_type": "code",
   "execution_count": null,
   "metadata": {},
   "outputs": [],
   "source": [
    "photons = mysource.generate_photons(n_photons)\n",
    "photons = jitterpointing(photons)\n",
    "photons = instrum_FA(photons)"
   ]
  },
  {
   "cell_type": "markdown",
   "metadata": {},
   "source": [
    "In this section I use a single simulation of $10^5$ rays with a flat input spectrum (\"flat\" here means\n",
    "that bins of constant width in wavelength will give you a flat spectrum - see plot below). The details of the spectrum are not terribly \n",
    "important; the point is that the numbers below are not specific to a single energy, but represent the average over \n",
    "a range of energies. The analysis below is limited to the photons that actually make it onto a detector for the current configuration of 16 CCDs in two strips as above. Changing the detector layout would slightly change some of the numbers below.\n",
    "\n",
    "I save the path that each rays takes in this simulation. Then, I look at different booms (different sizes and rotation angles) and check which of the photons would have interacted with each boom. "
   ]
  },
  {
   "cell_type": "code",
   "execution_count": null,
   "metadata": {},
   "outputs": [],
   "source": [
    "photons['wave'] = photons['energy'].to(u.Angstrom, equivalencies=u.spectral())\n",
    "fig = plt.figure()\n",
    "ax1 = fig.add_subplot(111)\n",
    "out = ax1.hist(photons['wave'], bins=100)\n",
    "ax1.set_xlabel('wavelength [$\\AA$]')\n",
    "ax1.set_ylabel('Flux (with random errors\\ndue to Poisson sampling)')\n",
    "out = ax1.set_title('Spectrum of photons used for the following simulations')"
   ]
  },
  {
   "cell_type": "markdown",
   "metadata": {},
   "source": [
    "# The 4 sided boom\n",
    "\n",
    "Arcus is designed with a 4-sided boom and relatively easy, so we study this first.\n",
    "\n",
    "## Rotation angle of boom\n",
    "\n",
    "For the four sided boom it is a natural choice to orient it such that the battens are parallel to the $x$ and $y$ axis of the instrument coordinate system. For a relatively large boom, it can be shown analytically that this configuration gives the smallest obscuration. As below for the three-sided boom, the larger the diameter, the smaller the loss of photons will be."
   ]
  },
  {
   "cell_type": "code",
   "execution_count": null,
   "metadata": {},
   "outputs": [],
   "source": [
    "n_photons = 1e5\n",
    "\n",
    "# define position and spectrum of source\n",
    "energy = np.arange(0.25, 1.7, .01)\n",
    "mysource = DefaultSource(energy={'energy': energy, 'flux': np.ones_like(energy)/energy**2})\n",
    "jitterpointing = DefaultPointing()\n",
    "fixedpointing = DefaultPointing(jitter=0. * u.rad)\n",
    "\n",
    "class ArcusNoBoom(Arcus):\n",
    "    def add_boom(self, conf):\n",
    "        return []\n",
    "\n",
    "instrum = ArcusNoBoom()\n",
    "# Make an object that holds just the Front Assambly (FA)\n",
    "instrum_FA = Sequence(elements=instrum.elements[:3])\n",
    "instrum_FA.postprocess_steps = instrum.postprocess_steps\n",
    "instrum_BA = Sequence(elements=instrum.elements[3:])"
   ]
  },
  {
   "cell_type": "code",
   "execution_count": null,
   "metadata": {},
   "outputs": [],
   "source": [
    "photons = mysource.generate_photons(n_photons)\n",
    "photons = jitterpointing(photons)\n",
    "instrum_FA.postprocess_steps[0].data = []\n",
    "photons = instrum_FA(photons)\n",
    "\n",
    "fourboom = arcus.boom.FourSidedBoom(orientation=xyz2zxy[:3, :3],\n",
    "                                   position=[0, 0, 596.])\n",
    "hit_4 = fourboom(photons.copy())['hitrod']\n",
    "\n",
    "photons = instrum_BA(photons)\n",
    "good = (photons['CCD'] > 0) & (photons['probability'] > 0)"
   ]
  },
  {
   "cell_type": "code",
   "execution_count": null,
   "metadata": {
    "scrolled": false
   },
   "outputs": [],
   "source": [
    "pos = instrum_FA.postprocess_steps[0].data[0]\n",
    "ind =  (photons['CCD'] > 0)\n",
    "fig = plt.figure(figsize=(12, 12))\n",
    "ax = fig.add_subplot(111, aspect='equal')\n",
    "#plt.plot(pos[:, 0], pos[:, 1] , '.')\n",
    "ax.plot(pos[ind, 0], pos[ind, 1], '.', label='detected on CCD')\n",
    "ax.plot(pos[ind & hit_4, 0], pos[ind & hit_4, 1],\n",
    "        'r.', label='hitting boom')\n",
    "ax.legend(loc='center')"
   ]
  },
  {
   "cell_type": "code",
   "execution_count": null,
   "metadata": {},
   "outputs": [],
   "source": [
    "pos = instrum.KeepPos.data[0]\n",
    "ind =  (photons['CCD'] > 0) & (photons['aperture'] == 0)\n",
    "fig = plt.figure(figsize=(5, 5))\n",
    "ax = fig.add_subplot(111, aspect='equal')\n",
    "ax.plot(pos[ind, 0], pos[ind, 1], '.', label='Photon detected on CCD')\n",
    "ax.plot(pos[ind & hit_4, 0], pos[ind & hit_4, 1], 'ro', label='Photon hitting boom')\n",
    "ax.legend(loc='center', numpoints=1)\n",
    "ax.set_xlim([-530, -80])\n",
    "ax.set_ylim([270, 850])\n",
    "ax.set_xlabel('Position in aperture plane [mm]')\n",
    "ax.set_ylabel('Position in aperture plane [mm]')\n",
    "ax.set_title('How many photons hit the boom?\\n(here: 1.85 m boom diameter)')\n",
    "fig.savefig(os.path.join(get_path('figures'), '4sidedboom.png'), dpi=600, bbox_inches='tight') "
   ]
  },
  {
   "cell_type": "markdown",
   "metadata": {},
   "source": [
    "The figures above show that even with a boom diameter of 1.85 m there are still a few photons which are absorbed by the boom. The inner rows of SPOs are on the inside of the boom and do not suffer from obscuration, but the two outermost rows that are located at a radius larger than the boom loose some of the photons that pass though the them."
   ]
  },
  {
   "cell_type": "code",
   "execution_count": null,
   "metadata": {},
   "outputs": [],
   "source": [
    "ind = (photons['CCD'] >=-6)\n",
    "ind0 = ind & (photons['order'] == 0)\n",
    "inddisp = ind & (photons['order'] != 0)\n",
    "loss_0 = (photons['probability'][ind0 & hit_4]).sum() / (photons['probability'][ind0]).sum()\n",
    "loss_disp = (photons['probability'][inddisp & hit_4]).sum() / (photons['probability'][inddisp]).sum() \n",
    "print(f'Fraction of zero-order photons lost to boom: {loss_0:6.3f}')\n",
    "print(f'Fraction of diffracted photons lost to boom: {loss_disp:6.3f}')"
   ]
  },
  {
   "cell_type": "code",
   "execution_count": null,
   "metadata": {},
   "outputs": [],
   "source": [
    "fig, ax = plt.subplots()\n",
    "orderok = np.isfinite(photons['order'])\n",
    "out = ax.hist(photons['order'][hit_4 & orderok], \n",
    "         bins=np.arange(np.min(photons['order'][orderok]) - 0.5,\n",
    "                          np.max(photons['order'][orderok]) + 0.5),\n",
    "         weights=photons['probability'][hit_4 & orderok])\n",
    "ax.set_xlabel('Diffraction order')\n",
    "out = ax.set_ylabel('Number of photons lost')"
   ]
  },
  {
   "cell_type": "markdown",
   "metadata": {},
   "source": [
    "This figure shows how many photons are lost in each order. Since each photon in the simulation has a survival probability in the range 0..1, the sum of the survival probabilities is not an integer. This figure obviously depends strongly on the spectrum of the source, which determines how many photons are seen in each order but the main point is that the boom has an impact on essentially all orders."
   ]
  },
  {
   "cell_type": "markdown",
   "metadata": {},
   "source": [
    "# The 3 sided boom\n",
    "\n",
    "Next, we will look at the design of a three-sided boom."
   ]
  },
  {
   "cell_type": "markdown",
   "metadata": {},
   "source": [
    "## Geometry\n",
    "\n"
   ]
  },
  {
   "cell_type": "code",
   "execution_count": null,
   "metadata": {},
   "outputs": [],
   "source": [
    "angles = np.arange(0, 2. * np.pi/3., 0.1)\n",
    "l_batten = np.array([1.6, 1.8, 2.0, 2.25, 2.5, 2.75]) * 1e3\n",
    "colors = ['k', 'b', 'r', 'g', 'm', '0.6']"
   ]
  },
  {
   "cell_type": "code",
   "execution_count": null,
   "metadata": {},
   "outputs": [],
   "source": [
    "import matplotlib.patches as patches\n",
    "from transforms3d.affines import decompose\n",
    "\n",
    "fig = plt.figure(figsize=(5,5))\n",
    "ax = fig.add_subplot(111, aspect='equal')\n",
    "\n",
    "from arcus.arcus import Aperture, DetCamera, defaultconf\n",
    "\n",
    "for e in Aperture(defaultconf).elements:\n",
    "    trans, rot, zoom, shear = decompose(e.pos4d)\n",
    "    aper = patches.Rectangle(trans[:2] - zoom[1:], zoom[1] * 2, zoom[2] * 2, \n",
    "                             linewidth=1, edgecolor='0.7', facecolor='0.7', label='SPO')\n",
    "    ax.add_patch(aper)\n",
    "for e in DetCamera(defaultconf).elements:\n",
    "    trans, rot, zoom, shear = decompose(e.pos4d)\n",
    "    det = patches.Rectangle(trans[:2] - zoom[1:], zoom[1] * 2, zoom[2] * 2, \n",
    "                             linewidth=1, edgecolor='orange', facecolor='orange', label='detector')\n",
    "    ax.add_patch(det)\n",
    "    \n",
    "for i in range(len(l_batten)):\n",
    "    for a in angles[::7]:\n",
    "        triag = patches.RegularPolygon((0, 0), 3, l_batten[i] * 3**(-0.5), a, \n",
    "                                       edgecolor=colors[i], linewidth=1, facecolor='none',\n",
    "                                       label='boom', lw=1.5)\n",
    "        ax.add_patch(triag)\n",
    "for i, chanpos in enumerate(defaultconf['pos_opt_ax'].values()):\n",
    "    optax = plt.plot(chanpos[0], chanpos[1], 'bp', label='opt. axis' if i == 0 else '__no_legend__')\n",
    "ax.set_ylim([-1.5e3, 1.5e3])\n",
    "ax.set_xlabel('distance [mm]')\n",
    "out = ax.set_ylabel('distance [mm]')\n",
    "fig.subplots_adjust(left=0.17, right=.95, top = .98, bottom=.05)\n",
    "fig.savefig(figureout + 'boom_scematic.png')\n",
    "fig.savefig(figureout + 'boom_scematic.pdf')"
   ]
  },
  {
   "cell_type": "markdown",
   "metadata": {},
   "source": [
    "The plot above shows a view along the optical axis. The gray boxes are the entrance apertures that are filled with SPOs, the small orange rectangles along the y=0 axis are the 16 CCDs (set in two groups of 8). Remember that in the current layout Arcus has four of SPO channels, where each channel has its own optical axis. The channels are paired and the optical axes in each pair hit the same CCD, thus the symbols overlap on this plot. This allows us to place the CCD detectors in such a way that we catch the zeroths order for each pair as well as the dispersed spectrum in the region where the CAT gratings cast most of the signal.\n",
    "\n",
    "The left pair of SPO modules focusses on the left blue pentagon, so zeroth order rays from the left pair of SPOs will be located there. The dispersed spectrum is imaged on the right detector strip. Conversely, the right pair of SPO channels places its zeroth order on the right blue pentagon and the dispersed photons on the left detector strip. \n",
    "\n",
    "Overlayed are several triangles marking the footprint of a three-sided boom with different dimensions. The colors are the same as in the figures in the next section, where the exact dimensions are given.\n",
    "There are many ways to overlay a triangular boom on the rectangular geometry of the SPO channels. With changing rotation angle, rays going through different parts of the SPOs will have a chance of hitting the boom. The figure shows three possible configurations, but in the simulations below I use a much denser grid of rotation angles with a step size of just a few degrees."
   ]
  },
  {
   "cell_type": "markdown",
   "metadata": {},
   "source": [
    "## How does absorption depend on boom size and boom rotation angle?"
   ]
  },
  {
   "cell_type": "code",
   "execution_count": null,
   "metadata": {},
   "outputs": [],
   "source": [
    "def boom_abs(photons, angles, boom_dims={}):\n",
    "    hitrod = []\n",
    "\n",
    "    for i, angle in enumerate(angles):\n",
    "        rot = np.array([[np.cos(angle), -np.sin(angle), 0],\n",
    "                        [np.sin(angle), np.cos(angle), 0],\n",
    "                        [0, 0, 1]])\n",
    "        myboom = arcus.boom.ThreeSidedBoom(orientation=np.dot(rot, xyz2zxy[:3, :3]), boom_dimensions=boom_dims)\n",
    "        photons['hitrod'] = False\n",
    "        photons = myboom(photons)\n",
    "        hitrod.append(photons['hitrod'].copy())\n",
    "    return hitrod\n"
   ]
  },
  {
   "cell_type": "code",
   "execution_count": null,
   "metadata": {},
   "outputs": [],
   "source": [
    "boom_hits = []\n",
    "for l in l_batten:\n",
    "    print('Working on l={}'.format(l))\n",
    "    boom_hits.append(boom_abs(photons.copy(), angles, boom_dims={'l_batten': l}))"
   ]
  },
  {
   "cell_type": "code",
   "execution_count": null,
   "metadata": {},
   "outputs": [],
   "source": [
    "def calc_prob_matrix(ind):\n",
    "    prob = np.empty((len(angles), len(l_batten)), dtype=float)\n",
    "    for i in range(len(l_batten)):\n",
    "        for j in range(len(angles)):\n",
    "            prob[j, i] = photons['probability'][ind & boom_hits[i][j]].sum()\n",
    "    return prob / photons['probability'][ind].sum()"
   ]
  },
  {
   "cell_type": "code",
   "execution_count": null,
   "metadata": {},
   "outputs": [],
   "source": [
    "photons = instrum_BA(photons)\n",
    "\n",
    "ind = (photons['CCD'] >=-6)\n",
    "ind0 = ind & (photons['order'] == 0)\n",
    "prob0 = calc_prob_matrix(ind0)\n",
    "\n",
    "inddisp = ind & (photons['order'] != 0)\n",
    "probdisp = calc_prob_matrix(inddisp)\n",
    "import matplotlib as mpl\n",
    "from cycler import cycler\n",
    "with mpl.style.context('fivethirtyeight'):\n",
    "    #plt.rc('axes', prop_cycle=(cycler('linestyle', ['-', '--', ':']) * \n",
    "    #                           cycler('color', ['r', 'b', 'y', 'c', 'g', 'm', '#7A68A6', '#188487', '#E24A33'])))\n",
    "\n",
    "    fig = plt.figure(figsize=(7,5))\n",
    "    ax = fig.add_subplot(111)\n",
    "\n",
    "    for i, l in enumerate(l_batten):\n",
    "        ax.plot(np.rad2deg(angles), prob0[:, i], label='{:4.2f} m'.format(l / 1e3), color=colors[i], lw=2)\n",
    "        ax.plot(np.rad2deg(angles), probdisp[:, i], label='__no_legend__', color=colors[i], ls=':', lw=3)\n",
    "    ax.legend(bbox_to_anchor=(1.04, 1), loc='upper left')\n",
    "    ax.set_xlabel('rotation angle of boom [deg]')\n",
    "    ax.set_title('Photon loss for dispersed (dotted line)\\nand 0th order (solid line) photons')\n",
    "    out = ax.set_ylabel('relative photon loss\\n(averaged over all orders)')\n",
    "    fig.savefig(figureout + 'boom_loss.png', bbox_inches='tight')\n",
    "    fig.savefig(figureout + 'boom_loss.pdf', bbox_inches='tight')"
   ]
  },
  {
   "cell_type": "markdown",
   "metadata": {},
   "source": [
    "The plot above shows which fraction of photons is lost due to hitting elements of the boom. Lines of different color are for different length of the battens (the boom structures running parallel to the focal plane). Solid lines are for the dispersed spectrum, dotted lines are for the zero order photons. For a 3-sided boom, a rotation of 120$^\\circ$ maps the boom on itself, thus only the range up to 120$^\\circ$ is shown. The dimension given by the color is the length of one side of the triangle, i.e. the length of a \"batten\"."
   ]
  },
  {
   "cell_type": "markdown",
   "metadata": {},
   "source": [
    "There are noticeable differences with the boom rotation angle particularly for intermediate boom sizes. For a small boom (black) essentially the entire circumfence of the boom is under the SPOs (see plot of the geometry above), while for very large booms only the outer corners of the SPO channel are touched by the boom. Thus, only a small fraction of photons is absorbed independent of the rotation angle. For intermediate boom sizes with triangle edges around 2 m a clever choice or rotation angle can change the fraction of absorbed photons from 13% to 9%!"
   ]
  },
  {
   "cell_type": "markdown",
   "metadata": {},
   "source": [
    "## Energy dependence\n",
    "\n",
    "With the caveat in mind that the current mirror implementation does not simulate the angle dependence of the reflection probability in the SPOs and thus ignores that SPOs at different radius actually have a slightly different importance for different photon energies, we will now look at the photon losses as a function of photon energy. In the following, we will pick a particular orientation angle for the boom since the shape of the following plots differs only little with the rotation angle. Also, we will concentrate on the dispsered signal."
   ]
  },
  {
   "cell_type": "code",
   "execution_count": null,
   "metadata": {},
   "outputs": [],
   "source": [
    "photons['wave'] = marxs.energy2wave / photons['energy'] * 1e7 # in ang"
   ]
  },
  {
   "cell_type": "code",
   "execution_count": null,
   "metadata": {},
   "outputs": [],
   "source": [
    "spec = plt.hist(photons['wave'][inddisp], \n",
    "                weights=photons['probability'][inddisp], bins=20,\n",
    "                label='no boom', color='y', lw=0)\n",
    "specabs = []\n",
    "for i, l in enumerate(l_batten):\n",
    "    indboom = boom_hits[i][0]\n",
    "    specabs.append(plt.hist(photons['wave'][inddisp & ~indboom], \n",
    "                    weights=photons['probability'][inddisp & ~indboom], \n",
    "                       bins=spec[1],\n",
    "                      histtype='step', color=colors[i],\n",
    "                      label='{:4.2f} m'.format(l / 1e3)))\n",
    "\n",
    "plt.xlabel('wavelength [$\\AA$]')\n",
    "plt.ylabel('signal')\n",
    "plt.title('Change of effective area due to the boom absorption')\n",
    "out = plt.legend(loc='upper right')"
   ]
  },
  {
   "cell_type": "markdown",
   "metadata": {},
   "source": [
    "The plot above gives the observed grating signal (with energy on the x-axis in this case). The input spectrum is flat, but the effective area has an energy dependence due to e.g. energy dependend reflection probabilities on the mirror, grating efficiency, filter curves of the optical blocking filter, detector gaps in the focal plane, CCD QE etc.\n",
    "This plot shows us the *loss of effective area due to the boom*. Below, the same data is plotted again, but this time relative to the signal that would be detected in the absence of a boom."
   ]
  },
  {
   "cell_type": "code",
   "execution_count": null,
   "metadata": {},
   "outputs": [],
   "source": [
    "outn = np.histogram(photons['wave'][inddisp], bins=20)\n",
    "outnabs = np.histogram(photons['wave'][inddisp & ~indboom], bins=outn[1])\n",
    "\n",
    "spec = np.histogram(photons['wave'][inddisp], \n",
    "                weights=photons['probability'][inddisp], bins=outn[1])\n",
    "specabs = []\n",
    "\n",
    "with mpl.style.context('fivethirtyeight'):\n",
    "    fig = plt.figure(figsize=(7, 5))\n",
    "    ax = fig.add_subplot(111)\n",
    "    for i, l in enumerate(l_batten):\n",
    "        indboom = boom_hits[i][0]\n",
    "        pboom = photons.copy()\n",
    "        pboom['probability'] = pboom['probability'] * ~indboom\n",
    "        specabs.append(np.histogram(pboom['wave'][inddisp], \n",
    "                       weights=pboom['probability'][inddisp], \n",
    "                       bins=outn[1]))\n",
    "        ax.plot(0.5 * (outn[1][:-1] + outn[1][1:]), \n",
    "                specabs[i][0] / spec[0],\n",
    "                c=colors[i], lw=2,\n",
    "                label='{:4.2f} m'.format(l / 1e3))\n",
    "\n",
    "    plt.xlabel('wavelength [$\\AA$]')\n",
    "    plt.ylabel('relative effective area')\n",
    "    plt.title('Change of $A_\\mathrm{eff}$ due to the boom absorption\\n(for the dispersed spectrum)')\n",
    "    out = plt.legend(bbox_to_anchor=(1.04, 1), loc='upper left')\n",
    "    fig.savefig(figureout + 'boom_aeff.png', bbox_inches='tight')\n",
    "    fig.savefig(figureout + 'boom_aeff.pdf', bbox_inches='tight')"
   ]
  },
  {
   "cell_type": "markdown",
   "metadata": {},
   "source": [
    "The plot above shows the change in effective area for booms of different size (for a fixed orientation angle). Particularly for small booms, the short wavelength end of the spectrum is hit hardest.\n",
    "\n",
    "Last, we want to know if the absorption is smooth over the full wavelength range or if it produces line-like features that would be confused with an astrophysical signal. In particular, line-like features wold move with any boom movement or misalignment, so they should be avoided. **While the entire wavelength range should be checked with simulations using a larger number of rays eventually**, I will just select some small regions here and zoom in to bin them to the Arcus spectral resolving power. Also, I will only show the plot below for one particular boom (rotation = 0, fiducial size 1.6 m)."
   ]
  },
  {
   "cell_type": "code",
   "execution_count": null,
   "metadata": {},
   "outputs": [],
   "source": [
    "def simulate_one_boom(energyrange):\n",
    "    mysource = DefaultSource(energy={'energy': energyrange,\n",
    "                                     'flux': np.ones(2)})\n",
    "    myboom = arcus.boom.ThreeSidedBoom(orientation=xyz2zxy[:3, :3])\n",
    "\n",
    "    photonj = mysource.generate_photons(n_photons)\n",
    "    photonj = jitterpointing(photonj)\n",
    "    photonj = instrum(photonj)\n",
    "    photonj = myboom(photonj)\n",
    "    return photonj"
   ]
  },
  {
   "cell_type": "code",
   "execution_count": null,
   "metadata": {},
   "outputs": [],
   "source": [
    "photonreg = [[0.62, 0.65], [0.8,0.802], [1., 1.02]]\n",
    "photonsinreg = [simulate_one_boom(enrange) for enrange in photonreg]"
   ]
  },
  {
   "cell_type": "code",
   "execution_count": null,
   "metadata": {},
   "outputs": [],
   "source": [
    "def plot_change_in_aeff(photonj, ax):\n",
    "    photonj['wave'] = marxs.energy2wave / photonj['energy'] * 1e7 # in ang\n",
    "    indj = np.isfinite(photonj['det_x'])\n",
    "\n",
    "    for i in [-6, -7, -8]:\n",
    "        indorder = photonj['order'] == i\n",
    "        spec = np.histogram(photonj['wave'][indj & indorder], bins=20, \n",
    "                            weights=photonj['probability'][indj & indorder])\n",
    "        specabs = np.histogram(photonj['wave'][indj & indorder & ~indboom], \n",
    "                           weights=photonj['probability'][indj & indorder & ~indboom], \n",
    "                           bins=spec[1])\n",
    "        ax.plot(0.5 * (spec[1][:-1] + spec[1][1:]), specabs[0] / spec[0], label='order = {}'.format(int(np.abs(i))))\n",
    "\n",
    "\n",
    "    ax.set_xlabel('wavelength [$\\AA$]')\n",
    "    ax.set_ylabel('relative effective area')\n",
    "    out = ax.legend(loc='lower left')"
   ]
  },
  {
   "cell_type": "markdown",
   "metadata": {},
   "source": [
    "In the dispersed orders, the change in effective area looks relatively smooth. The wiggeling up and down in the plot is consistent with Poisson statistics. If we decide to continue to investigate this in more detail, I will run longer simulations with a larger number of photons, but for now, there are no indications that line-like features appear in the dispersed orders."
   ]
  },
  {
   "cell_type": "code",
   "execution_count": null,
   "metadata": {},
   "outputs": [],
   "source": [
    "fig = plt.figure()\n",
    "ax = fig.add_subplot(111)\n",
    "plot_change_in_aeff(photonsinreg[1], ax)"
   ]
  },
  {
   "cell_type": "code",
   "execution_count": null,
   "metadata": {},
   "outputs": [],
   "source": [
    "display_codetoggle()"
   ]
  }
 ],
 "metadata": {
  "anaconda-cloud": {},
  "hide_input": false,
  "kernelspec": {
   "display_name": "Python [conda env:mayavi46]",
   "language": "python",
   "name": "conda-env-mayavi46-py"
  },
  "language_info": {
   "codemirror_mode": {
    "name": "ipython",
    "version": 3
   },
   "file_extension": ".py",
   "mimetype": "text/x-python",
   "name": "python",
   "nbconvert_exporter": "python",
   "pygments_lexer": "ipython3",
   "version": "3.8.2"
  },
  "nbpresent": {
   "slides": {
    "401607d2-0339-4d81-9f95-f91ae4f595df": {
     "id": "401607d2-0339-4d81-9f95-f91ae4f595df",
     "prev": null,
     "regions": {
      "d32b7adc-29ad-4e33-85fe-44e9d34e434f": {
       "attrs": {
        "height": 1,
        "width": 1,
        "x": 0,
        "y": 0
       },
       "content": {
        "cell": "b9272273-e73f-4e68-8727-7a9ec83a87ee",
        "part": "source"
       },
       "id": "d32b7adc-29ad-4e33-85fe-44e9d34e434f"
      }
     }
    }
   },
   "themes": {}
  }
 },
 "nbformat": 4,
 "nbformat_minor": 2
}
