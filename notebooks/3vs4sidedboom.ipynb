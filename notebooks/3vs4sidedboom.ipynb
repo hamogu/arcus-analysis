{
 "cells": [
  {
   "cell_type": "markdown",
   "metadata": {},
   "source": [
    "# 3 vs 4 sided boom on ARCUS"
   ]
  },
  {
   "cell_type": "code",
   "execution_count": null,
   "metadata": {},
   "outputs": [],
   "source": [
    "from nbtemplate import display_header, display_codetoggle, get_path\n",
    "display_header('3vs4sidedboom.ipynb')"
   ]
  },
  {
   "cell_type": "code",
   "execution_count": null,
   "metadata": {
    "collapsed": true
   },
   "outputs": [],
   "source": [
    "from __future__ import print_function, division\n",
    "import sys\n",
    "import numpy as np\n",
    "import astropy.units as u\n",
    "import marxs\n",
    "\n",
    "%matplotlib inline\n",
    "import matplotlib.pyplot as plt"
   ]
  },
  {
   "cell_type": "code",
   "execution_count": null,
   "metadata": {},
   "outputs": [],
   "source": [
    "figureout = get_path('figures')"
   ]
  },
  {
   "cell_type": "code",
   "execution_count": null,
   "metadata": {
    "collapsed": true
   },
   "outputs": [],
   "source": [
    "from arcus import Arcus, xyz2zxy\n",
    "import arcus.boom\n",
    "from arcus.defaults import DefaultPointing, DefaultSource"
   ]
  },
  {
   "cell_type": "markdown",
   "metadata": {},
   "source": [
    "## Geometry\n",
    "\n"
   ]
  },
  {
   "cell_type": "code",
   "execution_count": null,
   "metadata": {
    "collapsed": true
   },
   "outputs": [],
   "source": [
    "angles = np.arange(0, 2. * np.pi/3., 0.1)\n",
    "l_batten = np.array([1.6, 1.8, 2.0, 2.25, 2.5, 2.75]) * 1e3\n",
    "colors = ['k', 'b', 'r', 'g', 'm', '0.6']"
   ]
  },
  {
   "cell_type": "code",
   "execution_count": null,
   "metadata": {},
   "outputs": [],
   "source": [
    "import matplotlib.patches as patches\n",
    "from transforms3d.affines import decompose\n",
    "\n",
    "fig = plt.figure(figsize=(5,5))\n",
    "ax = fig.add_subplot(111, aspect='equal')\n",
    "\n",
    "from arcus.arcus import Aperture, Det16, defaultconf\n",
    "\n",
    "for e in Aperture(defaultconf).elements:\n",
    "    trans, rot, zoom, shear = decompose(e.pos4d)\n",
    "    aper = patches.Rectangle(trans[:2] - zoom[1:], zoom[1] * 2, zoom[2] * 2, \n",
    "                             linewidth=1, edgecolor='0.7', facecolor='0.7', label='SPO')\n",
    "    ax.add_patch(aper)\n",
    "for e in Det16(defaultconf).elements:\n",
    "    trans, rot, zoom, shear = decompose(e.pos4d)\n",
    "    det = patches.Rectangle(trans[:2] - zoom[1:], zoom[1] * 2, zoom[2] * 2, \n",
    "                             linewidth=1, edgecolor='orange', facecolor='orange', label='detector')\n",
    "    ax.add_patch(det)\n",
    "    \n",
    "for i in range(len(l_batten)):\n",
    "    for a in angles[::7]:\n",
    "        triag = patches.RegularPolygon(boompos[:-1], 3, l_batten[i] * 3**(-0.5), a, \n",
    "                                       edgecolor=colors[i], linewidth=1, facecolor='none',\n",
    "                                       label='boom', lw=1.5)\n",
    "        ax.add_patch(triag)\n",
    "optax = plt.plot([0, 2 * defaultconf['d']], \n",
    "                 [-defaultconf['offset_spectra'], defaultconf['offset_spectra']],\n",
    "                 'p', label='opt. axis')\n",
    "ax.set_ylim([-1.5e3, 1.5e3])\n",
    "ax.set_xlim([-1e3, 2.e3])\n",
    "ax.set_xlabel('distance [mm]')\n",
    "out = ax.set_ylabel('distance [mm]')\n",
    "fig.subplots_adjust(left=0.17, right=.95, top = .98, bottom=.05)\n",
    "fig.savefig(figureout + 'boom_scematic.png')\n",
    "fig.savefig(figureout + 'boom_scematic.pdf')"
   ]
  },
  {
   "cell_type": "markdown",
   "metadata": {},
   "source": [
    "The plot above shows a view along the optical axis. The gray boxes are the entrace apertures that are filled with SPOs, the small orange rectangles along the y=0 axis are the 16 CCDs (set in two groups of 8). Remember that in the current layout we have two pairs of SPO channels, where each pair has its own optical axis. This allows us to place the CCD detectors in such a way that we catch the zeroths order for each pair as well as the dispersed spectrum in the region where the CAT gratings cast most of the signal.\n",
    "\n",
    "The left pair of SPO modules focusses on the left blue pentagon, so zeroth order rays from the left pair of SPOs will be located there. The dispersed spectrum is imaged on the right detector strip. Conversely, the right pair of SPO channels places its zeroth order on the right blue pentagon and the dispersed photons on the left detector strip. \n",
    "\n",
    "Overlayed are several triangles marking the footprint of a three-sided boom with different dimenions. The colors are the same as in thes figures in the next section, where the exact dimensions are given.\n",
    "There are many ways to overlay a triangular boom on the rectangular geometry of the SPO channels. With changing rotation angle, rays going through different parts of the SPOs will have a chance of hitting the boom. The figure shows three possible configurationsw, but in the simulations below I use a much denser grid of rotation angles with a step size of just a few degrees.\n",
    "\n",
    "The origin of the coordinate system in this plot is set on the left focal point."
   ]
  },
  {
   "cell_type": "markdown",
   "metadata": {},
   "source": [
    "## How does absorption depend on boom size and boom rotation angle?"
   ]
  },
  {
   "cell_type": "code",
   "execution_count": null,
   "metadata": {},
   "outputs": [],
   "source": [
    "n_photons = 1e5\n",
    "\n",
    "# define position and spectrum of source\n",
    "energy = np.arange(0.25, 1.7, .01)\n",
    "mysource = DefaultSource(energy={'energy': energy, 'flux': np.ones_like(energy)/energy**2})\n",
    "jitterpointing = DefaultPointing()\n",
    "fixedpointing = DefaultPointing(jitter=0. * u.rad)\n",
    "\n",
    "class ArcusNoBoom(Arcus):\n",
    "    def add_boom(self, conf):\n",
    "        return []\n",
    "\n",
    "instrum = ArcusNoBoom()\n",
    "\n",
    "photons = mysource.generate_photons(n_photons)\n",
    "photons = jitterpointing(photons)\n",
    "photons = instrum(photons)"
   ]
  },
  {
   "cell_type": "markdown",
   "metadata": {},
   "source": [
    "In this section I use a single simulation of $10^5$ rays with a flat input spectrum (\"flat\" here means\n",
    "that bins of constant width in wavelength will give you a flat spectrum - see plot below). The details of the spectrum are not terribly \n",
    "important; the point is that the numbers below are not specific to a single energy, but represent the average over \n",
    "a range of energies. The analysis below is limited to the photons that actually make it onto a detector for the current configuration of 16 CCDs in two strips as above. Changing the detector layout would slightly change some of the numbers below.\n",
    "\n",
    "I save the path that each rays takes in this simulation. Then, I look at different booms (different sizes and rotation angles) and check which of the photons would have interacted with each boom. \n",
    "\n",
    "Note that I have not yet integrated Dick Willingale's qsoft code into my simulations. In my current implementation, \n",
    "the reflection probability of a photon depends on the energy, but is the same for all SPOs, while in practice the\n",
    "SPOs that are located at a larger radius will typically see larger indidence angels than the SPOs located at smaller\n",
    "radii. The reflection probability on the mirror shells depends on the incidence angles and thus the relative importance of the the SPOs at different radii should changes with photon energy. This will be included in a future version of my simulations.\n"
   ]
  },
  {
   "cell_type": "code",
   "execution_count": null,
   "metadata": {},
   "outputs": [],
   "source": [
    "photons['wave'] = photons['energy'].to(u.Angstrom, equivalencies=u.spectral())\n",
    "fig = plt.figure()\n",
    "ax1 = fig.add_subplot(111)\n",
    "out = ax1.hist(photons['wave'], bins=100)\n",
    "ax1.set_xlabel('wavelength [$\\AA$]')\n",
    "ax1.set_ylabel('Flux (with random errors\\ndue to Poisson sampling)')\n",
    "out = ax1.set_title('Spectrum of photons used for the following simulations')"
   ]
  },
  {
   "cell_type": "code",
   "execution_count": null,
   "metadata": {
    "collapsed": true
   },
   "outputs": [],
   "source": [
    "def boom_abs(photons, angles, boom_dims={}):\n",
    "    hitrod = []\n",
    "\n",
    "    for i, angle in enumerate(angles):\n",
    "        rot = np.array([[np.cos(angle), -np.sin(angle), 0],\n",
    "                        [np.sin(angle), np.cos(angle), 0],\n",
    "                        [0, 0, 1]])\n",
    "        myboom = arcus.boom.ThreeSidedBoom(orientation=np.dot(rot, xyz2zxy), position=boompos, boom_dimensions=boom_dims)\n",
    "        photons = myboom(photons.copy())\n",
    "        hitrod.append(photons['hitrod'].copy())\n",
    "    return hitrod\n"
   ]
  },
  {
   "cell_type": "code",
   "execution_count": null,
   "metadata": {},
   "outputs": [],
   "source": [
    "boom_hits = []\n",
    "for l in l_batten:\n",
    "    print('Working on l={}'.format(l))\n",
    "    boom_hits.append(boom_abs(photons, angles, boom_dims={'l_batten': l}))"
   ]
  },
  {
   "cell_type": "code",
   "execution_count": null,
   "metadata": {
    "collapsed": true
   },
   "outputs": [],
   "source": [
    "def calc_prob_matrix(ind):\n",
    "    prob = np.empty((len(angles), len(l_batten)))\n",
    "    for i in range(len(l_batten)):\n",
    "        for j in range(len(angles)):\n",
    "            prob[j, i] = photons['probability'][ind & boom_hits[i][j]].sum()\n",
    "    return prob / photons['probability'][ind].sum()"
   ]
  },
  {
   "cell_type": "code",
   "execution_count": null,
   "metadata": {
    "collapsed": true
   },
   "outputs": [],
   "source": [
    "ind = np.isfinite(photons['det_x'])\n",
    "prob = calc_prob_matrix(ind)\n",
    "\n",
    "n = np.mod(photons['spo'], 100)\n",
    "inddownscopespo = ind & (n != 0) & (n!=5) & (n!=6) & (n!= 10)\n",
    "prob2 = calc_prob_matrix(inddownscopespo)"
   ]
  },
  {
   "cell_type": "code",
   "execution_count": null,
   "metadata": {},
   "outputs": [],
   "source": [
    "ind0 = ind & (photons['order'] == 0)\n",
    "prob0 = calc_prob_matrix(ind0)\n",
    "\n",
    "inddisp = ind & (photons['order'] < 0)\n",
    "probdisp = calc_prob_matrix(inddisp)\n",
    "import matplotlib as mpl\n",
    "from cycler import cycler\n",
    "with mpl.style.context('fivethirtyeight'):\n",
    "    #plt.rc('axes', prop_cycle=(cycler('linestyle', ['-', '--', ':']) * \n",
    "    #                           cycler('color', ['r', 'b', 'y', 'c', 'g', 'm', '#7A68A6', '#188487', '#E24A33'])))\n",
    "\n",
    "    fig = plt.figure(figsize=(7,5))\n",
    "    ax = fig.add_subplot(111)\n",
    "\n",
    "    for i, l in enumerate(l_batten):\n",
    "        ax.plot(np.rad2deg(angles), prob0[:, i], label='{:4.2f} m'.format(l / 1e3), color=colors[i], lw=2)\n",
    "        ax.plot(np.rad2deg(angles), probdisp[:, i], label='__no_legend__', color=colors[i], ls=':', lw=3)\n",
    "    ax.legend()\n",
    "    ax.set_xlabel('rotation angle of boom [deg]')\n",
    "    ax.set_title('Photon loss for dispersed (dotted line)\\nand 0th order (solid line) photons')\n",
    "    out = ax.set_ylabel('relative photon loss\\n(averaged over all orders)')\n",
    "    fig.subplots_adjust(left=0.2, right=.95, top = .85, bottom=.15)\n",
    "    fig.savefig(figureout + 'boom_loss.png')\n",
    "    fig.savefig(figureout + 'boom_loss.pdf')"
   ]
  },
  {
   "cell_type": "markdown",
   "metadata": {},
   "source": [
    "The plot above shows which fraction of photons is lost due to hitting elements of the boom. Lines of different color are for different length of the battens (the boom structures running parallel to the focal plane). Solid lines are for the dispersed spectrum, dotted lines are for the zero order photons. For a 3-sided boom, a rotation of 120$^\\circ$ maps the boom on itself, thus only the range up to 120$^\\circ$ is shown. The dimension given by the color is the length of one side of the triangle, i.e. the length of a \"batten\"."
   ]
  },
  {
   "cell_type": "code",
   "execution_count": null,
   "metadata": {},
   "outputs": [],
   "source": [
    "fig = plt.figure()\n",
    "ax = fig.add_subplot(111)\n",
    "\n",
    "colors = ['k', 'b', 'r', 'g', 'm', '0.6']\n",
    "\n",
    "for i, l in enumerate(l_batten):\n",
    "    ax.plot(np.rad2deg(angles), prob0[:, i], label='{:4.2f} m'.format(l / 1e3), color=colors[i], lw=2)\n",
    "    ax.plot(np.rad2deg(angles), probdisp[:, i], label='__no_legend__', color=colors[i], ls=':', lw=3)\n",
    "ax.legend()\n",
    "ax.set_xlabel('rotation angle of boom [deg]')\n",
    "ax.set_title('Photon loss for different SPO configurations')\n",
    "out = ax.set_ylabel('relative photon loss\\n(averaged over all orders)')"
   ]
  },
  {
   "cell_type": "markdown",
   "metadata": {},
   "source": [
    "This plot shows which fraction of photons is lost due to hitting elements of the boom including both zeroth order and dispersed photons. Lines of different color are for different length of the battens (the boom structures running parallel to the focal plane). Solid lines are for the the SPO configuration specified in the proposal; dotted lines are for a slightly downsized option where for each channel the four SPOs that have the largest angle to the centerline of the module are dropped (as Peter suggested to improve the PSF). They are located in column 1 and 6 of the first and second row in the SPO module (called row \"2\" and row \"3\" in the SPO layout document on our Google drive). \n",
    "Because the dropped SPOs are closest to the center, they are almost always *inside* the boom. Removing them reduces the number of unobstructed photons and thus the *fraction* of the total detected photons that is affected by the boom increases. That is why the dotted lines are all located slightly above the solid lines of the same color.\n",
    "\n",
    "There are noticalbe differences with the boom rotation angle paticularly for intermediate boom sizes. For a small boom (black) essentially the entire circumfence of the boom is under the SPOs (see plot of the geometry above), while for very large booms only the outer corners of the SPO channel are touched by the boom. Thus, only a small fraction of photons is absobed independend of the rotation angle. For intermediate boom sizes with triangle edges around 2 m a clever choice or rotation angle can change the fraction of absorbed photons from 13% to 9%!"
   ]
  },
  {
   "cell_type": "markdown",
   "metadata": {},
   "source": [
    "## Energy dependence\n",
    "\n",
    "With the caveat in mind that the current mirror implementation does not simulate the angle dependence of the reflection probability in the SPOs and thus ignores that SPOs at different radius actually have a slightly different importance for different photon energies, we will now look at the photon losses as a function of photon energy. In the following, we will pick a particular orientation angle for the boom since the shape of the following plots differs only little with the rotation angle. Also, we will concentrate on the dispsered signal."
   ]
  },
  {
   "cell_type": "code",
   "execution_count": null,
   "metadata": {
    "collapsed": true
   },
   "outputs": [],
   "source": [
    "photons['wave'] = marxs.energy2wave / photons['energy'] * 1e7 # in ang"
   ]
  },
  {
   "cell_type": "code",
   "execution_count": null,
   "metadata": {},
   "outputs": [],
   "source": [
    "spec = plt.hist(photons['wave'][inddisp], \n",
    "                weights=photons['probability'][inddisp], bins=20,\n",
    "                label='no boom', color='y', lw=0)\n",
    "specabs = []\n",
    "for i, l in enumerate(l_batten):\n",
    "    indboom = boom_hits[i][0]\n",
    "    specabs.append(plt.hist(photons['wave'][inddisp & ~indboom], \n",
    "                    weights=photons['probability'][inddisp & ~indboom], \n",
    "                       bins=spec[1],\n",
    "                      histtype='step', color=colors[i],\n",
    "                      label='{:4.2f} m'.format(l / 1e3)))\n",
    "\n",
    "plt.xlabel('wavelength [$\\AA$]')\n",
    "plt.ylabel('signal')\n",
    "plt.title('Change of effective area due to the boom absorption')\n",
    "out = plt.legend(loc='lower right')"
   ]
  },
  {
   "cell_type": "markdown",
   "metadata": {},
   "source": [
    "The plot above gives the observed grating signal (with energy on the x-axis in this case). The input spectrum is flat, but the effective area has an energy dependence due to e.g. energy dependend reflection probabilities on the mirror, grating efficiency, filter curves of the optical blocking filter, detector gaps in the focal plane, CCD QE etc.\n",
    "This plot shows us the *loss of effective area due to the boom*. Below, the same data is plotted again, but this time relative to the signal that would be detected in the absence of a boom."
   ]
  },
  {
   "cell_type": "code",
   "execution_count": null,
   "metadata": {},
   "outputs": [],
   "source": [
    "outn = np.histogram(photons['wave'][inddisp], bins=20)\n",
    "outnabs = np.histogram(photons['wave'][inddisp & ~indboom], bins=outn[1])\n",
    "\n",
    "spec = np.histogram(photons['wave'][inddisp], \n",
    "                weights=photons['probability'][inddisp], bins=outn[1])\n",
    "specabs = []\n",
    "\n",
    "with mpl.style.context('fivethirtyeight'):\n",
    "    fig = plt.figure(figsize=(7, 5))\n",
    "    ax = fig.add_subplot(111)\n",
    "    for i, l in enumerate(l_batten):\n",
    "        indboom = boom_hits[i][0]\n",
    "        pboom = photons.copy()\n",
    "        pboom['probability'] = pboom['probability'] * ~indboom\n",
    "        specabs.append(np.histogram(pboom['wave'][inddisp], \n",
    "                       weights=pboom['probability'][inddisp], \n",
    "                       bins=outn[1]))\n",
    "        ax.plot(0.5 * (outn[1][:-1] + outn[1][1:]), \n",
    "                specabs[i][0] / spec[0],\n",
    "                c=colors[i], lw=2,\n",
    "                label='{:4.2f} m'.format(l / 1e3))\n",
    "\n",
    "    plt.xlabel('wavelength [$\\AA$]')\n",
    "    plt.ylabel('relative effective area')\n",
    "    plt.title('Change of $A_\\mathrm{eff}$ due to the boom absorption\\n(for the dispersed spectrum)')\n",
    "    out = plt.legend(loc='lower right')\n",
    "\n",
    "    fig.subplots_adjust(left=0.2, right=.95, top = .85, bottom=.15)\n",
    "    fig.savefig(figureout + 'boom_aeff.png')\n",
    "    fig.savefig(figureout + 'boom_aeff.pdf')"
   ]
  },
  {
   "cell_type": "code",
   "execution_count": null,
   "metadata": {},
   "outputs": [],
   "source": [
    "figureout"
   ]
  },
  {
   "cell_type": "markdown",
   "metadata": {},
   "source": [
    "The plot above shows the change in effective area for booms of different size (for a fixed orientation angle). Particularly for small booms, the short wavelength end of the spectrum is hit hardest.\n",
    "\n",
    "Last, we want to know if the absorption is smooth over the full wavelength range or if it produces line-like features that would be confused with an astrophysical signal. In particular, line-like features wold move with any boom movement or misalignment, so they should be avoided. **While the entire wavelength range should be checked with simulations using a larger number of rays eventually**, I will just select some small regions here and zoom in to bin them to the Arcus spectral resolving power. Also, I will only show the plot below for one particular boom (rotation = 0, fiducial size 1.6 m)."
   ]
  },
  {
   "cell_type": "code",
   "execution_count": null,
   "metadata": {
    "collapsed": true
   },
   "outputs": [],
   "source": [
    "def simulate_one_boom(energyrange):\n",
    "    mysource = DefaultSource(energy={'energy': energyrange,\n",
    "                                     'flux': np.ones(2)})\n",
    "    myboom = arcus.boom.ThreeSidedBoom(orientation=xyz2zxy, position=boompos)\n",
    "\n",
    "    photonj = mysource.generate_photons(n_photons)\n",
    "    photonj = jitterpointing(photonj)\n",
    "    photonj = instrum(photonj)\n",
    "    photonj = myboom(photonj)\n",
    "    return photonj"
   ]
  },
  {
   "cell_type": "code",
   "execution_count": null,
   "metadata": {},
   "outputs": [],
   "source": [
    "photonreg = [[0.62, 0.65], [0.8,0.802], [1., 1.02]]\n",
    "photonsinreg = [simulate_one_boom(enrange) for enrange in photonreg]"
   ]
  },
  {
   "cell_type": "code",
   "execution_count": null,
   "metadata": {
    "collapsed": true
   },
   "outputs": [],
   "source": [
    "def plot_change_in_aeff(photonj, ax):\n",
    "    photonj['wave'] = marxs.energy2wave / photonj['energy'] * 1e7 # in ang\n",
    "    indj = np.isfinite(photonj['det_x'])\n",
    "\n",
    "    for i in [-6, -7, -8]:\n",
    "        indorder = photonj['order'] == i\n",
    "        spec = np.histogram(photonj['wave'][indj & indorder], bins=20, \n",
    "                            weights=photonj['probability'][indj & indorder])\n",
    "        specabs = np.histogram(photonj['wave'][indj & indorder & ~indboom], \n",
    "                           weights=photonj['probability'][indj & indorder & ~indboom], \n",
    "                           bins=spec[1])\n",
    "        ax.plot(0.5 * (spec[1][:-1] + spec[1][1:]), specabs[0] / spec[0], label='order = {}'.format(int(np.abs(i))))\n",
    "\n",
    "\n",
    "    ax.set_xlabel('wavelength [$\\AA$]')\n",
    "    ax.set_ylabel('relative effective area')\n",
    "    out = ax.legend(loc='lower left')"
   ]
  },
  {
   "cell_type": "markdown",
   "metadata": {},
   "source": [
    "In the dispersed orders, the change in effective area looks relatively smooth. The wiggeling up and down in the plot is consistent with Poisson statistics. If we decide to continue to investigate this in more detail, I will run longer simulations with a larger number of photons, but for now, there are no indications that line-like features appear in the dispersed orders."
   ]
  },
  {
   "cell_type": "code",
   "execution_count": null,
   "metadata": {},
   "outputs": [],
   "source": [
    "fig = plt.figure()\n",
    "ax = fig.add_subplot(111)\n",
    "plot_change_in_aeff(photonsinreg[1], ax)"
   ]
  },
  {
   "cell_type": "code",
   "execution_count": null,
   "metadata": {},
   "outputs": [],
   "source": [
    "display_codetoggle()"
   ]
  },
  {
   "cell_type": "code",
   "execution_count": null,
   "metadata": {
    "collapsed": true
   },
   "outputs": [],
   "source": []
  }
 ],
 "metadata": {
  "anaconda-cloud": {},
  "hide_input": false,
  "kernelspec": {
   "display_name": "Python [default]",
   "language": "python",
   "name": "python2"
  },
  "language_info": {
   "codemirror_mode": {
    "name": "ipython",
    "version": 2
   },
   "file_extension": ".py",
   "mimetype": "text/x-python",
   "name": "python",
   "nbconvert_exporter": "python",
   "pygments_lexer": "ipython2",
   "version": "2.7.13"
  },
  "nbpresent": {
   "slides": {
    "401607d2-0339-4d81-9f95-f91ae4f595df": {
     "id": "401607d2-0339-4d81-9f95-f91ae4f595df",
     "prev": null,
     "regions": {
      "d32b7adc-29ad-4e33-85fe-44e9d34e434f": {
       "attrs": {
        "height": 1,
        "width": 1,
        "x": 0,
        "y": 0
       },
       "content": {
        "cell": "b9272273-e73f-4e68-8727-7a9ec83a87ee",
        "part": "source"
       },
       "id": "d32b7adc-29ad-4e33-85fe-44e9d34e434f"
      }
     }
    }
   },
   "themes": {}
  }
 },
 "nbformat": 4,
 "nbformat_minor": 2
}
