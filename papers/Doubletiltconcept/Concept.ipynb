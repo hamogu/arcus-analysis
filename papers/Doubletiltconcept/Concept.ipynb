{
 "cells": [
  {
   "cell_type": "markdown",
   "metadata": {},
   "source": [
    "# Concept of a Double Tilted Rowland Spectrograph"
   ]
  },
  {
   "cell_type": "code",
   "execution_count": null,
   "metadata": {},
   "outputs": [],
   "source": [
    "from copy import deepcopy\n",
    "import warnings\n",
    "import transforms3d\n",
    "import numpy as np\n",
    "from astropy.coordinates import SkyCoord\n",
    "import astropy.units as u\n",
    "from x3d import x3d\n",
    "\n",
    "import marxs\n",
    "from marxs.visualization.x3d import plot_object, plot_rays\n",
    "from marxs import optics, source, simulator\n",
    "from marxs.design import rowland"
   ]
  },
  {
   "cell_type": "code",
   "execution_count": null,
   "metadata": {},
   "outputs": [],
   "source": [
    "demo_rowland = rowland.RowlandTorus(500, 500)\n",
    "\n",
    "demo_aperture = optics.CircleAperture(position=[1200, 0, 0],\n",
    "                                      zoom=[1, 100, 100])\n",
    "demo_mirror = optics.FlatStack(position=[1100, 0, 0], zoom=[20, 100, 100],\n",
    "                               elements=[optics.PerfectLens,\n",
    "                                         optics.RadialMirrorScatter],\n",
    "                               keywords=[{'focallength': 1100},\n",
    "                                         {'inplanescatter': 1e-3 * u.rad,\n",
    "                                          'perpplanescatter': 1e-4 * u.rad}])\n",
    "\n",
    "demo_gas_kwargs = {\"rowland\": demo_rowland, 'd_element': [25, 25],\n",
    "                   \"guess_distance\": 900,\n",
    "                   \"radius\": [20, 100],\n",
    "                   \"elem_class\": marxs.optics.FlatGrating,\n",
    "                   \"elem_args\": {'d': 1e-5, 'zoom': [1, 10, 10],\n",
    "                                 'order_selector': marxs.optics.OrderSelector([-1, 0, 1])}\n",
    "                  }\n",
    "\n",
    "demo_gas = rowland.GratingArrayStructure(**demo_gas_kwargs)\n",
    "demo_gas_sub1 = rowland.GratingArrayStructure(phi=[-0.5 + 0.5 * np.pi, .5 + 0.5 * np.pi], **demo_gas_kwargs)\n",
    "demo_gas_sub2 = rowland.GratingArrayStructure(phi=[-0.5 + 1.5 * np.pi, .5 + 1.5 * np.pi], **demo_gas_kwargs)\n",
    "\n",
    "demo_det_kwargs = {'d_element': [10.5, 10.5], \n",
    "                   'elem_class': optics.FlatDetector,\n",
    "                   'elem_args': {'zoom': [1, 5, 5], 'pixsize': 0.01},\n",
    "                   'guess_distance': 5.,\n",
    "                   'id_col': 'CCD_ID'}\n",
    "demo_det = rowland.RectangularGrid(rowland=demo_rowland, y_range=[-500, 500],\n",
    "                                   **demo_det_kwargs)\n",
    "\n",
    "detfp = optics.FlatDetector(pixsize=1., zoom=[1, 500, 500])\n",
    "detfp.display = deepcopy(detfp.display)\n",
    "detfp.display['opacity'] = 0.2\n",
    "\n",
    "demo_det.elements[0].display['color'] = 'orange'\n",
    "\n",
    "demo_onaxis_full = simulator.Sequence(elements=[demo_aperture, demo_mirror,\n",
    "                                                demo_gas, demo_det, detfp])\n",
    "\n",
    "demo_onaxis_sub = simulator.Sequence(elements=[demo_aperture, demo_mirror,\n",
    "                                               demo_gas_sub1, demo_gas_sub2,\n",
    "                                               demo_det, detfp])"
   ]
  },
  {
   "cell_type": "code",
   "execution_count": null,
   "metadata": {},
   "outputs": [],
   "source": [
    "def run_photons(instrument):\n",
    "    keeppos = simulator.KeepCol('pos')\n",
    "    instrument.postprocess_steps = [keeppos]\n",
    "    target = SkyCoord(30., 30., unit='deg')\n",
    "    star = source.PointSource(coords=target, energy=.5 * u.keV, flux=1. / u.cm**2 / u.s)\n",
    "    pointing = source.FixedPointing(coords=target)\n",
    "    photons = star.generate_photons(5000 * u.s)\n",
    "    photons = pointing(photons)\n",
    "    photons = instrument(photons)\n",
    "    ind = (photons['probability'] >= 0) & (photons['facet'] >= 0)\n",
    "    posdat = keeppos.format_positions()[ind, :, :]\n",
    "    return posdat, photons[ind]\n"
   ]
  },
  {
   "cell_type": "code",
   "execution_count": null,
   "metadata": {},
   "outputs": [],
   "source": [
    "instrument = demo_onaxis_sub"
   ]
  },
  {
   "cell_type": "code",
   "execution_count": null,
   "metadata": {},
   "outputs": [],
   "source": [
    "posdat, photons = run_photons(instrument)"
   ]
  },
  {
   "cell_type": "code",
   "execution_count": null,
   "metadata": {},
   "outputs": [],
   "source": [
    "with warnings.catch_warnings():\n",
    "    warnings.simplefilter(\"ignore\")\n",
    "    out = plot_object(instrument)\n",
    "\n",
    "out = plot_rays(posdat, scalar=photons['order'], scene=out)\n",
    "\n",
    "out.children.append(x3d.Viewpoint(description='Overview ', orientation=(.5, .3, .3, -.3), viewAll=True))\n",
    "out.children.append(x3d.Viewpoint(description='Camera', position=(-700, 50, 500), \n",
    "                                  orientation=(-0., -0.6, -0., 0.3)\n",
    "                                  ))    \n",
    "out"
   ]
  },
  {
   "attachments": {},
   "cell_type": "markdown",
   "metadata": {},
   "source": [
    "To do to make figures:\n",
    "\n",
    "- switch off the big detector\n",
    "- select better viewpoint for camera\n",
    "- bigger CCDs or maybe continuous detector? Or bend CCDs? At least make ring have less angle so it's less obvious that it spreads out in the end. Or fix code the distributes them to actually place evenly on rig with constant gap size. Maybe that would be best.\n",
    "- Transparancy for some objects (e.g. aperture): https://doc.x3dom.org/author/Shape/Material.html\n",
    "- make plots of how the spot actually looks like on a detector\n",
    "- Add Rowland torus to the plot\n",
    "- Next two plots:\n",
    "    - Double rowland\n",
    "    - Double rowland with channel offset (chip gaps!) - select parameters to that simple double rowland has example wavelength fall in (or near) chip gap"
   ]
  },
  {
   "cell_type": "markdown",
   "metadata": {},
   "source": []
  }
 ],
 "metadata": {
  "kernelspec": {
   "display_name": "Python 3",
   "language": "python",
   "name": "python3"
  },
  "language_info": {
   "codemirror_mode": {
    "name": "ipython",
    "version": 3
   },
   "file_extension": ".py",
   "mimetype": "text/x-python",
   "name": "python",
   "nbconvert_exporter": "python",
   "pygments_lexer": "ipython3",
   "version": "3.10.8"
  }
 },
 "nbformat": 4,
 "nbformat_minor": 4
}
